{
 "cells": [
  {
   "cell_type": "markdown",
   "id": "a74edc9c",
   "metadata": {},
   "source": [
    "# Data Cleaning"
   ]
  },
  {
   "cell_type": "markdown",
   "id": "8ebb2c37",
   "metadata": {
    "heading_collapsed": true
   },
   "source": [
    "## Quick Overview"
   ]
  },
  {
   "cell_type": "code",
   "execution_count": 1,
   "id": "743e9397",
   "metadata": {
    "hidden": true
   },
   "outputs": [],
   "source": [
    "from timeit import default_timer as timer\n",
    "import pandas as pd\n",
    "import scipy.stats\n",
    "import numpy as np\n",
    "import datetime as dt\n",
    "import seaborn as sns\n",
    "import matplotlib.pyplot as plt\n",
    "import time\n",
    "from lightgbm import LGBMClassifier\n",
    "from mlxtend.feature_selection import SequentialFeatureSelector as SFS\n",
    "%matplotlib inline\n",
    "plt.rc('font', family='Times New Roman')\n",
    "start_time = timer()"
   ]
  },
  {
   "cell_type": "code",
   "execution_count": 2,
   "id": "425d74fb",
   "metadata": {
    "hidden": true
   },
   "outputs": [],
   "source": [
    "data = pd.read_csv('card transactions.csv')\n",
    "data.head()"
   ]
  },
  {
   "cell_type": "code",
   "execution_count": 4,
   "id": "1a09af24",
   "metadata": {
    "hidden": true
   },
   "outputs": [
    {
     "data": {
      "text/plain": [
       "Index(['Recnum', 'Cardnum', 'Date', 'Merchnum', 'Merch description',\n",
       "       'Merch state', 'Merch zip', 'Transtype', 'Amount', 'Fraud'],\n",
       "      dtype='object')"
      ]
     },
     "execution_count": 4,
     "metadata": {},
     "output_type": "execute_result"
    }
   ],
   "source": [
    "data.columns"
   ]
  },
  {
   "cell_type": "code",
   "execution_count": 5,
   "id": "70a09780",
   "metadata": {
    "hidden": true
   },
   "outputs": [
    {
     "data": {
      "text/plain": [
       "(96753, 10)"
      ]
     },
     "execution_count": 5,
     "metadata": {},
     "output_type": "execute_result"
    }
   ],
   "source": [
    "data.shape"
   ]
  },
  {
   "cell_type": "code",
   "execution_count": 6,
   "id": "68ee6a8a",
   "metadata": {
    "hidden": true,
    "scrolled": true
   },
   "outputs": [
    {
     "data": {
      "text/plain": [
       "Recnum                 int64\n",
       "Cardnum                int64\n",
       "Date                  object\n",
       "Merchnum              object\n",
       "Merch description     object\n",
       "Merch state           object\n",
       "Merch zip            float64\n",
       "Transtype             object\n",
       "Amount               float64\n",
       "Fraud                  int64\n",
       "dtype: object"
      ]
     },
     "execution_count": 6,
     "metadata": {},
     "output_type": "execute_result"
    }
   ],
   "source": [
    "data.dtypes"
   ]
  },
  {
   "cell_type": "code",
   "execution_count": 3,
   "id": "81f8c18a",
   "metadata": {
    "ExecuteTime": {
     "end_time": "2022-04-08T06:52:48.883448Z",
     "start_time": "2022-04-08T06:52:48.859264Z"
    },
    "hidden": true
   },
   "outputs": [
    {
     "name": "stdout",
     "output_type": "stream",
     "text": [
      "<class 'pandas.core.frame.DataFrame'>\n",
      "RangeIndex: 96753 entries, 0 to 96752\n",
      "Data columns (total 10 columns):\n",
      " #   Column             Non-Null Count  Dtype  \n",
      "---  ------             --------------  -----  \n",
      " 0   Recnum             96753 non-null  int64  \n",
      " 1   Cardnum            96753 non-null  int64  \n",
      " 2   Date               96753 non-null  object \n",
      " 3   Merchnum           93378 non-null  object \n",
      " 4   Merch description  96753 non-null  object \n",
      " 5   Merch state        95558 non-null  object \n",
      " 6   Merch zip          92097 non-null  float64\n",
      " 7   Transtype          96753 non-null  object \n",
      " 8   Amount             96753 non-null  float64\n",
      " 9   Fraud              96753 non-null  int64  \n",
      "dtypes: float64(2), int64(3), object(5)\n",
      "memory usage: 7.4+ MB\n"
     ]
    }
   ],
   "source": [
    "data.info()"
   ]
  },
  {
   "cell_type": "markdown",
   "id": "b0daaf7f",
   "metadata": {
    "heading_collapsed": true
   },
   "source": [
    "## astype zip & Date"
   ]
  },
  {
   "cell_type": "code",
   "execution_count": 4,
   "id": "26dbde0b",
   "metadata": {
    "ExecuteTime": {
     "end_time": "2022-04-08T06:52:49.354201Z",
     "start_time": "2022-04-08T06:52:48.885343Z"
    },
    "hidden": true
   },
   "outputs": [],
   "source": [
    "# zip\n",
    "data['Merch zip'] = [\n",
    "    str(round(i)).zfill(5) if pd.isnull(i) == False else i\n",
    "    for i in data['Merch zip']\n",
    "]\n",
    "\n",
    "# Date\n",
    "data['Date'] = pd.to_datetime(data.Date, format='%Y-%m-%d')\n",
    "data['dow'] = data.Date.apply(lambda x: x.weekday())\n",
    "\n",
    "# Cardnum\n",
    "data['Cardnum'] = data['Cardnum'].astype(str)\n",
    "\n",
    "# Replace 0 as nan\n",
    "data['Merchnum'] = data.Merchnum.replace('0', np.nan, regex=False)"
   ]
  },
  {
   "cell_type": "code",
   "execution_count": 9,
   "id": "90afaf95",
   "metadata": {
    "ExecuteTime": {
     "end_time": "2022-04-08T06:52:49.463760Z",
     "start_time": "2022-04-08T06:52:49.436006Z"
    },
    "hidden": true,
    "scrolled": false
   },
   "outputs": [
    {
     "data": {
      "text/plain": [
       "Recnum                  0\n",
       "Cardnum                 0\n",
       "Date                    0\n",
       "Merchnum             3606\n",
       "Merch description       0\n",
       "Merch state          1195\n",
       "Merch zip            4656\n",
       "Transtype               0\n",
       "Amount                  0\n",
       "Fraud                   0\n",
       "dow                     0\n",
       "dtype: int64"
      ]
     },
     "execution_count": 9,
     "metadata": {},
     "output_type": "execute_result"
    }
   ],
   "source": [
    "data.isnull().sum()"
   ]
  },
  {
   "cell_type": "markdown",
   "id": "379a0f13",
   "metadata": {
    "heading_collapsed": true
   },
   "source": [
    "## fill in na"
   ]
  },
  {
   "cell_type": "code",
   "execution_count": 10,
   "id": "ad68e028",
   "metadata": {
    "ExecuteTime": {
     "end_time": "2022-04-08T06:52:49.500174Z",
     "start_time": "2022-04-08T06:52:49.465958Z"
    },
    "hidden": true
   },
   "outputs": [
    {
     "name": "stdout",
     "output_type": "stream",
     "text": [
      "<class 'pandas.core.frame.DataFrame'>\n",
      "RangeIndex: 96753 entries, 0 to 96752\n",
      "Data columns (total 11 columns):\n",
      " #   Column             Non-Null Count  Dtype         \n",
      "---  ------             --------------  -----         \n",
      " 0   Recnum             96753 non-null  int64         \n",
      " 1   Cardnum            96753 non-null  object        \n",
      " 2   Date               96753 non-null  datetime64[ns]\n",
      " 3   Merchnum           93147 non-null  object        \n",
      " 4   Merch description  96753 non-null  object        \n",
      " 5   Merch state        95558 non-null  object        \n",
      " 6   Merch zip          92097 non-null  object        \n",
      " 7   Transtype          96753 non-null  object        \n",
      " 8   Amount             96753 non-null  float64       \n",
      " 9   Fraud              96753 non-null  int64         \n",
      " 10  dow                96753 non-null  int64         \n",
      "dtypes: datetime64[ns](1), float64(1), int64(3), object(6)\n",
      "memory usage: 8.1+ MB\n"
     ]
    }
   ],
   "source": [
    "data.info()"
   ]
  },
  {
   "cell_type": "code",
   "execution_count": 11,
   "id": "41d3ce67",
   "metadata": {
    "ExecuteTime": {
     "end_time": "2022-04-08T06:52:49.505896Z",
     "start_time": "2022-04-08T06:52:49.502240Z"
    },
    "hidden": true
   },
   "outputs": [],
   "source": [
    "def cleaning(df, i, j):\n",
    "    data = pd.DataFrame(df[df[j].notnull()], columns=[i, j])\n",
    "    data = dict(data.groupby(i)[j].apply(lambda x: scipy.stats.mode(x)[0][0]))\n",
    "    return data"
   ]
  },
  {
   "cell_type": "markdown",
   "id": "68d0dad3",
   "metadata": {
    "hidden": true
   },
   "source": [
    "### Merchnum"
   ]
  },
  {
   "cell_type": "code",
   "execution_count": 12,
   "id": "6cd89c48",
   "metadata": {
    "ExecuteTime": {
     "end_time": "2022-04-08T06:52:53.054489Z",
     "start_time": "2022-04-08T06:52:49.507711Z"
    },
    "hidden": true
   },
   "outputs": [],
   "source": [
    "# fill in Merchnum\n",
    "merchdes_merchnum = cleaning(data, 'Merch description', 'Merchnum')\n",
    "for i in data[\n",
    "        data['Merch description'].notnull()]['Merch description'].unique():\n",
    "    if (i not in iter(merchdes_merchnum)):\n",
    "        merchdes_merchnum[i] = 'unknown'\n",
    "\n",
    "# fill in by mapping with Merch description\n",
    "data['Merchnum'] = data['Merchnum'].fillna(\n",
    "    data['Merch description'].map(merchdes_merchnum))\n",
    "\n",
    "# '0' replaced as 'unknown'\n",
    "data['Merchnum'] = data['Merchnum'].mask(data['Merchnum'] == '0', 'unknown')\n",
    "\n",
    "# assign unknown for adjustments transactions\n",
    "data['Merchnum'] = data['Merchnum'].mask(\n",
    "    data['Merch description'] == 'RETAIL CREDIT ADJUSTMENT', 'unknown')\n",
    "data['Merchnum'] = data['Merchnum'].mask(\n",
    "    data['Merch description'] == 'RETAIL DEBIT ADJUSTMENT', 'unknown')"
   ]
  },
  {
   "cell_type": "code",
   "execution_count": 13,
   "id": "7ac4181d",
   "metadata": {
    "ExecuteTime": {
     "end_time": "2022-04-08T06:52:53.081890Z",
     "start_time": "2022-04-08T06:52:53.055875Z"
    },
    "hidden": true
   },
   "outputs": [
    {
     "data": {
      "text/plain": [
       "Recnum                  0\n",
       "Cardnum                 0\n",
       "Date                    0\n",
       "Merchnum                0\n",
       "Merch description       0\n",
       "Merch state          1195\n",
       "Merch zip            4656\n",
       "Transtype               0\n",
       "Amount                  0\n",
       "Fraud                   0\n",
       "dow                     0\n",
       "dtype: int64"
      ]
     },
     "execution_count": 13,
     "metadata": {},
     "output_type": "execute_result"
    }
   ],
   "source": [
    "data.isnull().sum()"
   ]
  },
  {
   "cell_type": "markdown",
   "id": "b72bdf06",
   "metadata": {
    "hidden": true
   },
   "source": [
    "### Merch state"
   ]
  },
  {
   "cell_type": "code",
   "execution_count": 14,
   "id": "4633e735",
   "metadata": {
    "ExecuteTime": {
     "end_time": "2022-04-08T06:52:57.629236Z",
     "start_time": "2022-04-08T06:52:53.083320Z"
    },
    "hidden": true
   },
   "outputs": [
    {
     "name": "stdout",
     "output_type": "stream",
     "text": [
      "1114\n",
      "42\n",
      "41\n"
     ]
    }
   ],
   "source": [
    "zip_state = cleaning(data, 'Merch zip', 'Merch state')\n",
    "\n",
    "zip_state['00926'] = 'PR'\n",
    "zip_state['00929'] = 'PR'\n",
    "zip_state['00934'] = 'PR'\n",
    "zip_state['00902'] = 'PR'\n",
    "zip_state['00738'] = 'PR'\n",
    "zip_state['90805'] = 'CA'\n",
    "zip_state['76302'] = 'TX'\n",
    "zip_state['00914'] = 'PR'\n",
    "zip_state['95461'] = 'CA'\n",
    "zip_state['00680'] = 'PR'\n",
    "zip_state['00623'] = 'PR'\n",
    "zip_state['00726'] = 'PR'\n",
    "zip_state['00936'] = 'PR'\n",
    "zip_state['12108'] = 'NY'\n",
    "zip_state['00791'] = 'PR'\n",
    "zip_state['00907'] = 'PR'\n",
    "zip_state['00922'] = 'PR'\n",
    "zip_state['00920'] = 'PR'\n",
    "zip_state['00801'] = 'VI'\n",
    "zip_state['31040'] = 'GA'\n",
    "zip_state['41160'] = 'KY'\n",
    "zip_state['00681'] = 'PR'\n",
    "\n",
    "zip_state['86899'] = 'Foreign'\n",
    "zip_state['23080'] = 'Foreign'\n",
    "zip_state['48700'] = 'Foreign'\n",
    "zip_state['50823'] = 'Foreign'\n",
    "\n",
    "merchnum_state = cleaning(data, 'Merchnum', 'Merch state')\n",
    "\n",
    "merchdes_state = cleaning(data, 'Merch description', 'Merch state')\n",
    "\n",
    "# fill in by mapping with zip, merchnum and merch description\n",
    "data['Merch state'] = data['Merch state'].fillna(\n",
    "    data['Merch zip'].map(zip_state))\n",
    "print(data['Merch state'].isnull().sum())\n",
    "data['Merch state'] = data['Merch state'].fillna(\n",
    "    data['Merchnum'].map(merchnum_state))\n",
    "print(data['Merch state'].isnull().sum())\n",
    "data['Merch state'] = data['Merch state'].fillna(\n",
    "    data['Merch description'].map(merchdes_state))\n",
    "print(data['Merch state'].isnull().sum())\n",
    "# assign unknown for adjustments transactions\n",
    "data['Merch state'] = data['Merch state'].mask(\n",
    "    data['Merch description'] == 'RETAIL CREDIT ADJUSTMENT', 'unknown')\n",
    "data['Merch state'] = data['Merch state'].mask(\n",
    "    data['Merch description'] == 'RETAIL DEBIT ADJUSTMENT', 'unknown')"
   ]
  },
  {
   "cell_type": "markdown",
   "id": "82e67b69",
   "metadata": {
    "hidden": true
   },
   "source": [
    "### zip"
   ]
  },
  {
   "cell_type": "code",
   "execution_count": 15,
   "id": "45feabb1",
   "metadata": {
    "ExecuteTime": {
     "end_time": "2022-04-08T06:53:01.161511Z",
     "start_time": "2022-04-08T06:52:57.630809Z"
    },
    "hidden": true
   },
   "outputs": [
    {
     "name": "stdout",
     "output_type": "stream",
     "text": [
      "1102\n",
      "1074\n",
      "<class 'pandas.core.frame.DataFrame'>\n",
      "RangeIndex: 96753 entries, 0 to 96752\n",
      "Data columns (total 11 columns):\n",
      " #   Column             Non-Null Count  Dtype         \n",
      "---  ------             --------------  -----         \n",
      " 0   Recnum             96753 non-null  int64         \n",
      " 1   Cardnum            96753 non-null  object        \n",
      " 2   Date               96753 non-null  datetime64[ns]\n",
      " 3   Merchnum           96753 non-null  object        \n",
      " 4   Merch description  96753 non-null  object        \n",
      " 5   Merch state        96753 non-null  object        \n",
      " 6   Merch zip          96753 non-null  object        \n",
      " 7   Transtype          96753 non-null  object        \n",
      " 8   Amount             96753 non-null  float64       \n",
      " 9   Fraud              96753 non-null  int64         \n",
      " 10  dow                96753 non-null  int64         \n",
      "dtypes: datetime64[ns](1), float64(1), int64(3), object(6)\n",
      "memory usage: 8.1+ MB\n"
     ]
    }
   ],
   "source": [
    "# fill in zip\n",
    "merchnum_zip = cleaning(data, 'Merchnum', 'Merch zip')\n",
    "\n",
    "merchdes_zip = cleaning(data, 'Merch description', 'Merch zip')\n",
    "\n",
    "# fill in by mapping with merchnum and merch description\n",
    "data['Merch zip'] = data['Merch zip'].fillna(\n",
    "    data['Merchnum'].map(merchnum_zip))\n",
    "print(data['Merch zip'].isnull().sum())\n",
    "data['Merch zip'] = data['Merch zip'].fillna(\n",
    "    data['Merch description'].map(merchdes_zip))\n",
    "print(data['Merch zip'].isnull().sum())\n",
    "# assign unknown for adjustments transactions\n",
    "data['Merch zip'] = data['Merch zip'].mask(\n",
    "    data['Merch zip'] == 'RETAIL CREDIT ADJUSTMENT', 'unknown')\n",
    "data['Merch zip'] = data['Merch zip'].mask(\n",
    "    data['Merch zip'] == 'RETAIL DEBIT ADJUSTMENT', 'unknown')\n",
    "\n",
    "# fill the rest with unknown\n",
    "data = data.fillna('unknown')\n",
    "data.info()"
   ]
  },
  {
   "cell_type": "markdown",
   "id": "b58be6e1",
   "metadata": {
    "heading_collapsed": true
   },
   "source": [
    "## filter"
   ]
  },
  {
   "cell_type": "markdown",
   "id": "26a36fc5",
   "metadata": {
    "heading_collapsed": true,
    "hidden": true
   },
   "source": [
    "### remove outlier"
   ]
  },
  {
   "cell_type": "code",
   "execution_count": 16,
   "id": "8b82c8ed",
   "metadata": {
    "ExecuteTime": {
     "end_time": "2022-04-08T06:53:01.217363Z",
     "start_time": "2022-04-08T06:53:01.163905Z"
    },
    "hidden": true
   },
   "outputs": [
    {
     "data": {
      "text/html": [
       "<div>\n",
       "<style scoped>\n",
       "    .dataframe tbody tr th:only-of-type {\n",
       "        vertical-align: middle;\n",
       "    }\n",
       "\n",
       "    .dataframe tbody tr th {\n",
       "        vertical-align: top;\n",
       "    }\n",
       "\n",
       "    .dataframe thead th {\n",
       "        text-align: right;\n",
       "    }\n",
       "</style>\n",
       "<table border=\"1\" class=\"dataframe\">\n",
       "  <thead>\n",
       "    <tr style=\"text-align: right;\">\n",
       "      <th></th>\n",
       "      <th>Recnum</th>\n",
       "      <th>Cardnum</th>\n",
       "      <th>Date</th>\n",
       "      <th>Merchnum</th>\n",
       "      <th>Merch description</th>\n",
       "      <th>Merch state</th>\n",
       "      <th>Merch zip</th>\n",
       "      <th>Transtype</th>\n",
       "      <th>Amount</th>\n",
       "      <th>Fraud</th>\n",
       "      <th>dow</th>\n",
       "    </tr>\n",
       "  </thead>\n",
       "  <tbody>\n",
       "    <tr>\n",
       "      <th>52714</th>\n",
       "      <td>52715</td>\n",
       "      <td>5142189135</td>\n",
       "      <td>2006-07-13</td>\n",
       "      <td>unknown</td>\n",
       "      <td>INTERMEXICO</td>\n",
       "      <td>MD</td>\n",
       "      <td>21045</td>\n",
       "      <td>P</td>\n",
       "      <td>3102045.53</td>\n",
       "      <td>0</td>\n",
       "      <td>3</td>\n",
       "    </tr>\n",
       "    <tr>\n",
       "      <th>47339</th>\n",
       "      <td>47340</td>\n",
       "      <td>5142275225</td>\n",
       "      <td>2006-06-22</td>\n",
       "      <td>unknown</td>\n",
       "      <td>INTERSOL</td>\n",
       "      <td>MD</td>\n",
       "      <td>21045</td>\n",
       "      <td>P</td>\n",
       "      <td>47900.00</td>\n",
       "      <td>0</td>\n",
       "      <td>3</td>\n",
       "    </tr>\n",
       "    <tr>\n",
       "      <th>59516</th>\n",
       "      <td>59517</td>\n",
       "      <td>5142138135</td>\n",
       "      <td>2006-08-03</td>\n",
       "      <td>900009045549</td>\n",
       "      <td>KRACKELER SCIENTIFIC</td>\n",
       "      <td>NY</td>\n",
       "      <td>12202</td>\n",
       "      <td>P</td>\n",
       "      <td>30372.46</td>\n",
       "      <td>1</td>\n",
       "      <td>3</td>\n",
       "    </tr>\n",
       "    <tr>\n",
       "      <th>80886</th>\n",
       "      <td>80887</td>\n",
       "      <td>5142152857</td>\n",
       "      <td>2006-10-11</td>\n",
       "      <td>unknown</td>\n",
       "      <td>CANYON ELECTRIC</td>\n",
       "      <td>NV</td>\n",
       "      <td>89102</td>\n",
       "      <td>P</td>\n",
       "      <td>28392.84</td>\n",
       "      <td>1</td>\n",
       "      <td>2</td>\n",
       "    </tr>\n",
       "    <tr>\n",
       "      <th>89673</th>\n",
       "      <td>89674</td>\n",
       "      <td>5142183210</td>\n",
       "      <td>2006-11-29</td>\n",
       "      <td>08-0980456333</td>\n",
       "      <td>CRUCIAL TECH./MICRON</td>\n",
       "      <td>ID</td>\n",
       "      <td>83642</td>\n",
       "      <td>P</td>\n",
       "      <td>27218.00</td>\n",
       "      <td>0</td>\n",
       "      <td>2</td>\n",
       "    </tr>\n",
       "    <tr>\n",
       "      <th>...</th>\n",
       "      <td>...</td>\n",
       "      <td>...</td>\n",
       "      <td>...</td>\n",
       "      <td>...</td>\n",
       "      <td>...</td>\n",
       "      <td>...</td>\n",
       "      <td>...</td>\n",
       "      <td>...</td>\n",
       "      <td>...</td>\n",
       "      <td>...</td>\n",
       "      <td>...</td>\n",
       "    </tr>\n",
       "    <tr>\n",
       "      <th>47165</th>\n",
       "      <td>47166</td>\n",
       "      <td>5142148452</td>\n",
       "      <td>2006-06-22</td>\n",
       "      <td>930009906224</td>\n",
       "      <td>FEDEX SHP 05/23/10 AB#</td>\n",
       "      <td>TN</td>\n",
       "      <td>38118</td>\n",
       "      <td>P</td>\n",
       "      <td>0.08</td>\n",
       "      <td>0</td>\n",
       "      <td>3</td>\n",
       "    </tr>\n",
       "    <tr>\n",
       "      <th>57855</th>\n",
       "      <td>57856</td>\n",
       "      <td>5142129787</td>\n",
       "      <td>2006-07-30</td>\n",
       "      <td>9108347680000</td>\n",
       "      <td>STAPLES NATIONAL #471</td>\n",
       "      <td>NJ</td>\n",
       "      <td>07606</td>\n",
       "      <td>P</td>\n",
       "      <td>0.02</td>\n",
       "      <td>0</td>\n",
       "      <td>6</td>\n",
       "    </tr>\n",
       "    <tr>\n",
       "      <th>78387</th>\n",
       "      <td>78388</td>\n",
       "      <td>5142236687</td>\n",
       "      <td>2006-09-28</td>\n",
       "      <td>9108233080006</td>\n",
       "      <td>STAPLES #990</td>\n",
       "      <td>CA</td>\n",
       "      <td>90640</td>\n",
       "      <td>P</td>\n",
       "      <td>0.01</td>\n",
       "      <td>0</td>\n",
       "      <td>3</td>\n",
       "    </tr>\n",
       "    <tr>\n",
       "      <th>91179</th>\n",
       "      <td>91180</td>\n",
       "      <td>5142239369</td>\n",
       "      <td>2006-12-06</td>\n",
       "      <td>89200648125</td>\n",
       "      <td>JOHN WILEY &amp; SON SOMERSET</td>\n",
       "      <td>NJ</td>\n",
       "      <td>08875</td>\n",
       "      <td>P</td>\n",
       "      <td>0.01</td>\n",
       "      <td>0</td>\n",
       "      <td>2</td>\n",
       "    </tr>\n",
       "    <tr>\n",
       "      <th>56124</th>\n",
       "      <td>56125</td>\n",
       "      <td>5142129955</td>\n",
       "      <td>2006-07-25</td>\n",
       "      <td>991906628334</td>\n",
       "      <td>ALAMO FLAGS CO.</td>\n",
       "      <td>VA</td>\n",
       "      <td>22044</td>\n",
       "      <td>P</td>\n",
       "      <td>0.01</td>\n",
       "      <td>0</td>\n",
       "      <td>1</td>\n",
       "    </tr>\n",
       "  </tbody>\n",
       "</table>\n",
       "<p>96753 rows × 11 columns</p>\n",
       "</div>"
      ],
      "text/plain": [
       "       Recnum     Cardnum       Date       Merchnum  \\\n",
       "52714   52715  5142189135 2006-07-13        unknown   \n",
       "47339   47340  5142275225 2006-06-22        unknown   \n",
       "59516   59517  5142138135 2006-08-03   900009045549   \n",
       "80886   80887  5142152857 2006-10-11        unknown   \n",
       "89673   89674  5142183210 2006-11-29  08-0980456333   \n",
       "...       ...         ...        ...            ...   \n",
       "47165   47166  5142148452 2006-06-22   930009906224   \n",
       "57855   57856  5142129787 2006-07-30  9108347680000   \n",
       "78387   78388  5142236687 2006-09-28  9108233080006   \n",
       "91179   91180  5142239369 2006-12-06    89200648125   \n",
       "56124   56125  5142129955 2006-07-25   991906628334   \n",
       "\n",
       "               Merch description Merch state Merch zip Transtype      Amount  \\\n",
       "52714                INTERMEXICO          MD     21045         P  3102045.53   \n",
       "47339                   INTERSOL          MD     21045         P    47900.00   \n",
       "59516       KRACKELER SCIENTIFIC          NY     12202         P    30372.46   \n",
       "80886            CANYON ELECTRIC          NV     89102         P    28392.84   \n",
       "89673       CRUCIAL TECH./MICRON          ID     83642         P    27218.00   \n",
       "...                          ...         ...       ...       ...         ...   \n",
       "47165     FEDEX SHP 05/23/10 AB#          TN     38118         P        0.08   \n",
       "57855      STAPLES NATIONAL #471          NJ     07606         P        0.02   \n",
       "78387               STAPLES #990          CA     90640         P        0.01   \n",
       "91179  JOHN WILEY & SON SOMERSET          NJ     08875         P        0.01   \n",
       "56124            ALAMO FLAGS CO.          VA     22044         P        0.01   \n",
       "\n",
       "       Fraud  dow  \n",
       "52714      0    3  \n",
       "47339      0    3  \n",
       "59516      1    3  \n",
       "80886      1    2  \n",
       "89673      0    2  \n",
       "...      ...  ...  \n",
       "47165      0    3  \n",
       "57855      0    6  \n",
       "78387      0    3  \n",
       "91179      0    2  \n",
       "56124      0    1  \n",
       "\n",
       "[96753 rows x 11 columns]"
      ]
     },
     "execution_count": 16,
     "metadata": {},
     "output_type": "execute_result"
    }
   ],
   "source": [
    "data.sort_values(['Amount'], ascending=False)"
   ]
  },
  {
   "cell_type": "code",
   "execution_count": 17,
   "id": "3dafc4a1",
   "metadata": {
    "ExecuteTime": {
     "end_time": "2022-04-08T06:53:01.280259Z",
     "start_time": "2022-04-08T06:53:01.219134Z"
    },
    "hidden": true
   },
   "outputs": [
    {
     "data": {
      "text/html": [
       "<div>\n",
       "<style scoped>\n",
       "    .dataframe tbody tr th:only-of-type {\n",
       "        vertical-align: middle;\n",
       "    }\n",
       "\n",
       "    .dataframe tbody tr th {\n",
       "        vertical-align: top;\n",
       "    }\n",
       "\n",
       "    .dataframe thead th {\n",
       "        text-align: right;\n",
       "    }\n",
       "</style>\n",
       "<table border=\"1\" class=\"dataframe\">\n",
       "  <thead>\n",
       "    <tr style=\"text-align: right;\">\n",
       "      <th></th>\n",
       "      <th>Recnum</th>\n",
       "      <th>Cardnum</th>\n",
       "      <th>Date</th>\n",
       "      <th>Merchnum</th>\n",
       "      <th>Merch description</th>\n",
       "      <th>Merch state</th>\n",
       "      <th>Merch zip</th>\n",
       "      <th>Transtype</th>\n",
       "      <th>Amount</th>\n",
       "      <th>Fraud</th>\n",
       "      <th>dow</th>\n",
       "    </tr>\n",
       "  </thead>\n",
       "  <tbody>\n",
       "    <tr>\n",
       "      <th>47339</th>\n",
       "      <td>47340</td>\n",
       "      <td>5142275225</td>\n",
       "      <td>2006-06-22</td>\n",
       "      <td>unknown</td>\n",
       "      <td>INTERSOL</td>\n",
       "      <td>MD</td>\n",
       "      <td>21045</td>\n",
       "      <td>P</td>\n",
       "      <td>47900.00</td>\n",
       "      <td>0</td>\n",
       "      <td>3</td>\n",
       "    </tr>\n",
       "    <tr>\n",
       "      <th>59516</th>\n",
       "      <td>59517</td>\n",
       "      <td>5142138135</td>\n",
       "      <td>2006-08-03</td>\n",
       "      <td>900009045549</td>\n",
       "      <td>KRACKELER SCIENTIFIC</td>\n",
       "      <td>NY</td>\n",
       "      <td>12202</td>\n",
       "      <td>P</td>\n",
       "      <td>30372.46</td>\n",
       "      <td>1</td>\n",
       "      <td>3</td>\n",
       "    </tr>\n",
       "    <tr>\n",
       "      <th>80886</th>\n",
       "      <td>80887</td>\n",
       "      <td>5142152857</td>\n",
       "      <td>2006-10-11</td>\n",
       "      <td>unknown</td>\n",
       "      <td>CANYON ELECTRIC</td>\n",
       "      <td>NV</td>\n",
       "      <td>89102</td>\n",
       "      <td>P</td>\n",
       "      <td>28392.84</td>\n",
       "      <td>1</td>\n",
       "      <td>2</td>\n",
       "    </tr>\n",
       "    <tr>\n",
       "      <th>89673</th>\n",
       "      <td>89674</td>\n",
       "      <td>5142183210</td>\n",
       "      <td>2006-11-29</td>\n",
       "      <td>08-0980456333</td>\n",
       "      <td>CRUCIAL TECH./MICRON</td>\n",
       "      <td>ID</td>\n",
       "      <td>83642</td>\n",
       "      <td>P</td>\n",
       "      <td>27218.00</td>\n",
       "      <td>0</td>\n",
       "      <td>2</td>\n",
       "    </tr>\n",
       "    <tr>\n",
       "      <th>1103</th>\n",
       "      <td>1104</td>\n",
       "      <td>5142189945</td>\n",
       "      <td>2006-01-06</td>\n",
       "      <td>2036100687150</td>\n",
       "      <td>GE REUTER-STOKES, INC</td>\n",
       "      <td>OH</td>\n",
       "      <td>44087</td>\n",
       "      <td>P</td>\n",
       "      <td>26910.00</td>\n",
       "      <td>0</td>\n",
       "      <td>4</td>\n",
       "    </tr>\n",
       "    <tr>\n",
       "      <th>...</th>\n",
       "      <td>...</td>\n",
       "      <td>...</td>\n",
       "      <td>...</td>\n",
       "      <td>...</td>\n",
       "      <td>...</td>\n",
       "      <td>...</td>\n",
       "      <td>...</td>\n",
       "      <td>...</td>\n",
       "      <td>...</td>\n",
       "      <td>...</td>\n",
       "      <td>...</td>\n",
       "    </tr>\n",
       "    <tr>\n",
       "      <th>47165</th>\n",
       "      <td>47166</td>\n",
       "      <td>5142148452</td>\n",
       "      <td>2006-06-22</td>\n",
       "      <td>930009906224</td>\n",
       "      <td>FEDEX SHP 05/23/10 AB#</td>\n",
       "      <td>TN</td>\n",
       "      <td>38118</td>\n",
       "      <td>P</td>\n",
       "      <td>0.08</td>\n",
       "      <td>0</td>\n",
       "      <td>3</td>\n",
       "    </tr>\n",
       "    <tr>\n",
       "      <th>57855</th>\n",
       "      <td>57856</td>\n",
       "      <td>5142129787</td>\n",
       "      <td>2006-07-30</td>\n",
       "      <td>9108347680000</td>\n",
       "      <td>STAPLES NATIONAL #471</td>\n",
       "      <td>NJ</td>\n",
       "      <td>07606</td>\n",
       "      <td>P</td>\n",
       "      <td>0.02</td>\n",
       "      <td>0</td>\n",
       "      <td>6</td>\n",
       "    </tr>\n",
       "    <tr>\n",
       "      <th>78387</th>\n",
       "      <td>78388</td>\n",
       "      <td>5142236687</td>\n",
       "      <td>2006-09-28</td>\n",
       "      <td>9108233080006</td>\n",
       "      <td>STAPLES #990</td>\n",
       "      <td>CA</td>\n",
       "      <td>90640</td>\n",
       "      <td>P</td>\n",
       "      <td>0.01</td>\n",
       "      <td>0</td>\n",
       "      <td>3</td>\n",
       "    </tr>\n",
       "    <tr>\n",
       "      <th>91179</th>\n",
       "      <td>91180</td>\n",
       "      <td>5142239369</td>\n",
       "      <td>2006-12-06</td>\n",
       "      <td>89200648125</td>\n",
       "      <td>JOHN WILEY &amp; SON SOMERSET</td>\n",
       "      <td>NJ</td>\n",
       "      <td>08875</td>\n",
       "      <td>P</td>\n",
       "      <td>0.01</td>\n",
       "      <td>0</td>\n",
       "      <td>2</td>\n",
       "    </tr>\n",
       "    <tr>\n",
       "      <th>56124</th>\n",
       "      <td>56125</td>\n",
       "      <td>5142129955</td>\n",
       "      <td>2006-07-25</td>\n",
       "      <td>991906628334</td>\n",
       "      <td>ALAMO FLAGS CO.</td>\n",
       "      <td>VA</td>\n",
       "      <td>22044</td>\n",
       "      <td>P</td>\n",
       "      <td>0.01</td>\n",
       "      <td>0</td>\n",
       "      <td>1</td>\n",
       "    </tr>\n",
       "  </tbody>\n",
       "</table>\n",
       "<p>96752 rows × 11 columns</p>\n",
       "</div>"
      ],
      "text/plain": [
       "       Recnum     Cardnum       Date       Merchnum  \\\n",
       "47339   47340  5142275225 2006-06-22        unknown   \n",
       "59516   59517  5142138135 2006-08-03   900009045549   \n",
       "80886   80887  5142152857 2006-10-11        unknown   \n",
       "89673   89674  5142183210 2006-11-29  08-0980456333   \n",
       "1103     1104  5142189945 2006-01-06  2036100687150   \n",
       "...       ...         ...        ...            ...   \n",
       "47165   47166  5142148452 2006-06-22   930009906224   \n",
       "57855   57856  5142129787 2006-07-30  9108347680000   \n",
       "78387   78388  5142236687 2006-09-28  9108233080006   \n",
       "91179   91180  5142239369 2006-12-06    89200648125   \n",
       "56124   56125  5142129955 2006-07-25   991906628334   \n",
       "\n",
       "               Merch description Merch state Merch zip Transtype    Amount  \\\n",
       "47339                   INTERSOL          MD     21045         P  47900.00   \n",
       "59516       KRACKELER SCIENTIFIC          NY     12202         P  30372.46   \n",
       "80886            CANYON ELECTRIC          NV     89102         P  28392.84   \n",
       "89673       CRUCIAL TECH./MICRON          ID     83642         P  27218.00   \n",
       "1103       GE REUTER-STOKES, INC          OH     44087         P  26910.00   \n",
       "...                          ...         ...       ...       ...       ...   \n",
       "47165     FEDEX SHP 05/23/10 AB#          TN     38118         P      0.08   \n",
       "57855      STAPLES NATIONAL #471          NJ     07606         P      0.02   \n",
       "78387               STAPLES #990          CA     90640         P      0.01   \n",
       "91179  JOHN WILEY & SON SOMERSET          NJ     08875         P      0.01   \n",
       "56124            ALAMO FLAGS CO.          VA     22044         P      0.01   \n",
       "\n",
       "       Fraud  dow  \n",
       "47339      0    3  \n",
       "59516      1    3  \n",
       "80886      1    2  \n",
       "89673      0    2  \n",
       "1103       0    4  \n",
       "...      ...  ...  \n",
       "47165      0    3  \n",
       "57855      0    6  \n",
       "78387      0    3  \n",
       "91179      0    2  \n",
       "56124      0    1  \n",
       "\n",
       "[96752 rows x 11 columns]"
      ]
     },
     "execution_count": 17,
     "metadata": {},
     "output_type": "execute_result"
    }
   ],
   "source": [
    "data = data.drop([52714])\n",
    "data.sort_values(['Amount'], ascending=False)"
   ]
  },
  {
   "cell_type": "markdown",
   "id": "d21f6082",
   "metadata": {
    "heading_collapsed": true,
    "hidden": true
   },
   "source": [
    "### filter transtype / only remain P"
   ]
  },
  {
   "cell_type": "code",
   "execution_count": 18,
   "id": "ce110b54",
   "metadata": {
    "ExecuteTime": {
     "end_time": "2022-04-08T06:53:01.326225Z",
     "start_time": "2022-04-08T06:53:01.281852Z"
    },
    "hidden": true
   },
   "outputs": [
    {
     "data": {
      "text/html": [
       "<div>\n",
       "<style scoped>\n",
       "    .dataframe tbody tr th:only-of-type {\n",
       "        vertical-align: middle;\n",
       "    }\n",
       "\n",
       "    .dataframe tbody tr th {\n",
       "        vertical-align: top;\n",
       "    }\n",
       "\n",
       "    .dataframe thead th {\n",
       "        text-align: right;\n",
       "    }\n",
       "</style>\n",
       "<table border=\"1\" class=\"dataframe\">\n",
       "  <thead>\n",
       "    <tr style=\"text-align: right;\">\n",
       "      <th></th>\n",
       "      <th>Recnum</th>\n",
       "      <th>Cardnum</th>\n",
       "      <th>Date</th>\n",
       "      <th>Merchnum</th>\n",
       "      <th>Merch description</th>\n",
       "      <th>Merch state</th>\n",
       "      <th>Merch zip</th>\n",
       "      <th>Transtype</th>\n",
       "      <th>Amount</th>\n",
       "      <th>Fraud</th>\n",
       "      <th>dow</th>\n",
       "    </tr>\n",
       "  </thead>\n",
       "  <tbody>\n",
       "    <tr>\n",
       "      <th>0</th>\n",
       "      <td>1</td>\n",
       "      <td>5142190439</td>\n",
       "      <td>2006-01-01</td>\n",
       "      <td>5509006296254</td>\n",
       "      <td>FEDEX SHP 12/23/09 AB#</td>\n",
       "      <td>TN</td>\n",
       "      <td>38118</td>\n",
       "      <td>P</td>\n",
       "      <td>3.62</td>\n",
       "      <td>0</td>\n",
       "      <td>6</td>\n",
       "    </tr>\n",
       "    <tr>\n",
       "      <th>1</th>\n",
       "      <td>2</td>\n",
       "      <td>5142183973</td>\n",
       "      <td>2006-01-01</td>\n",
       "      <td>61003026333</td>\n",
       "      <td>SERVICE MERCHANDISE #81</td>\n",
       "      <td>MA</td>\n",
       "      <td>01803</td>\n",
       "      <td>P</td>\n",
       "      <td>31.42</td>\n",
       "      <td>0</td>\n",
       "      <td>6</td>\n",
       "    </tr>\n",
       "    <tr>\n",
       "      <th>2</th>\n",
       "      <td>3</td>\n",
       "      <td>5142131721</td>\n",
       "      <td>2006-01-01</td>\n",
       "      <td>4503082993600</td>\n",
       "      <td>OFFICE DEPOT #191</td>\n",
       "      <td>MD</td>\n",
       "      <td>20706</td>\n",
       "      <td>P</td>\n",
       "      <td>178.49</td>\n",
       "      <td>0</td>\n",
       "      <td>6</td>\n",
       "    </tr>\n",
       "    <tr>\n",
       "      <th>3</th>\n",
       "      <td>4</td>\n",
       "      <td>5142148452</td>\n",
       "      <td>2006-01-01</td>\n",
       "      <td>5509006296254</td>\n",
       "      <td>FEDEX SHP 12/28/09 AB#</td>\n",
       "      <td>TN</td>\n",
       "      <td>38118</td>\n",
       "      <td>P</td>\n",
       "      <td>3.62</td>\n",
       "      <td>0</td>\n",
       "      <td>6</td>\n",
       "    </tr>\n",
       "    <tr>\n",
       "      <th>4</th>\n",
       "      <td>5</td>\n",
       "      <td>5142190439</td>\n",
       "      <td>2006-01-01</td>\n",
       "      <td>5509006296254</td>\n",
       "      <td>FEDEX SHP 12/23/09 AB#</td>\n",
       "      <td>TN</td>\n",
       "      <td>38118</td>\n",
       "      <td>P</td>\n",
       "      <td>3.62</td>\n",
       "      <td>0</td>\n",
       "      <td>6</td>\n",
       "    </tr>\n",
       "    <tr>\n",
       "      <th>...</th>\n",
       "      <td>...</td>\n",
       "      <td>...</td>\n",
       "      <td>...</td>\n",
       "      <td>...</td>\n",
       "      <td>...</td>\n",
       "      <td>...</td>\n",
       "      <td>...</td>\n",
       "      <td>...</td>\n",
       "      <td>...</td>\n",
       "      <td>...</td>\n",
       "      <td>...</td>\n",
       "    </tr>\n",
       "    <tr>\n",
       "      <th>96392</th>\n",
       "      <td>96749</td>\n",
       "      <td>5142276053</td>\n",
       "      <td>2006-12-31</td>\n",
       "      <td>3500000006160</td>\n",
       "      <td>BEST BUY      00001610</td>\n",
       "      <td>KY</td>\n",
       "      <td>41042</td>\n",
       "      <td>P</td>\n",
       "      <td>84.79</td>\n",
       "      <td>0</td>\n",
       "      <td>6</td>\n",
       "    </tr>\n",
       "    <tr>\n",
       "      <th>96393</th>\n",
       "      <td>96750</td>\n",
       "      <td>5142225701</td>\n",
       "      <td>2006-12-31</td>\n",
       "      <td>8090710030950</td>\n",
       "      <td>MARKUS OFFICE SUPPLIES</td>\n",
       "      <td>OH</td>\n",
       "      <td>45248</td>\n",
       "      <td>P</td>\n",
       "      <td>118.75</td>\n",
       "      <td>0</td>\n",
       "      <td>6</td>\n",
       "    </tr>\n",
       "    <tr>\n",
       "      <th>96394</th>\n",
       "      <td>96751</td>\n",
       "      <td>5142226486</td>\n",
       "      <td>2006-12-31</td>\n",
       "      <td>4503057341100</td>\n",
       "      <td>TECH PAC, INC</td>\n",
       "      <td>OH</td>\n",
       "      <td>45150</td>\n",
       "      <td>P</td>\n",
       "      <td>363.56</td>\n",
       "      <td>0</td>\n",
       "      <td>6</td>\n",
       "    </tr>\n",
       "    <tr>\n",
       "      <th>96395</th>\n",
       "      <td>96752</td>\n",
       "      <td>5142244619</td>\n",
       "      <td>2006-12-31</td>\n",
       "      <td>8834000695412</td>\n",
       "      <td>BUY.COM</td>\n",
       "      <td>CA</td>\n",
       "      <td>92656</td>\n",
       "      <td>P</td>\n",
       "      <td>2202.03</td>\n",
       "      <td>0</td>\n",
       "      <td>6</td>\n",
       "    </tr>\n",
       "    <tr>\n",
       "      <th>96396</th>\n",
       "      <td>96753</td>\n",
       "      <td>5142243247</td>\n",
       "      <td>2006-12-31</td>\n",
       "      <td>9108347680006</td>\n",
       "      <td>STAPLES NATIONAL #471</td>\n",
       "      <td>NJ</td>\n",
       "      <td>07606</td>\n",
       "      <td>P</td>\n",
       "      <td>554.64</td>\n",
       "      <td>0</td>\n",
       "      <td>6</td>\n",
       "    </tr>\n",
       "  </tbody>\n",
       "</table>\n",
       "<p>96397 rows × 11 columns</p>\n",
       "</div>"
      ],
      "text/plain": [
       "       Recnum     Cardnum       Date       Merchnum        Merch description  \\\n",
       "0           1  5142190439 2006-01-01  5509006296254   FEDEX SHP 12/23/09 AB#   \n",
       "1           2  5142183973 2006-01-01    61003026333  SERVICE MERCHANDISE #81   \n",
       "2           3  5142131721 2006-01-01  4503082993600        OFFICE DEPOT #191   \n",
       "3           4  5142148452 2006-01-01  5509006296254   FEDEX SHP 12/28/09 AB#   \n",
       "4           5  5142190439 2006-01-01  5509006296254   FEDEX SHP 12/23/09 AB#   \n",
       "...       ...         ...        ...            ...                      ...   \n",
       "96392   96749  5142276053 2006-12-31  3500000006160   BEST BUY      00001610   \n",
       "96393   96750  5142225701 2006-12-31  8090710030950   MARKUS OFFICE SUPPLIES   \n",
       "96394   96751  5142226486 2006-12-31  4503057341100            TECH PAC, INC   \n",
       "96395   96752  5142244619 2006-12-31  8834000695412                  BUY.COM   \n",
       "96396   96753  5142243247 2006-12-31  9108347680006    STAPLES NATIONAL #471   \n",
       "\n",
       "      Merch state Merch zip Transtype   Amount  Fraud  dow  \n",
       "0              TN     38118         P     3.62      0    6  \n",
       "1              MA     01803         P    31.42      0    6  \n",
       "2              MD     20706         P   178.49      0    6  \n",
       "3              TN     38118         P     3.62      0    6  \n",
       "4              TN     38118         P     3.62      0    6  \n",
       "...           ...       ...       ...      ...    ...  ...  \n",
       "96392          KY     41042         P    84.79      0    6  \n",
       "96393          OH     45248         P   118.75      0    6  \n",
       "96394          OH     45150         P   363.56      0    6  \n",
       "96395          CA     92656         P  2202.03      0    6  \n",
       "96396          NJ     07606         P   554.64      0    6  \n",
       "\n",
       "[96397 rows x 11 columns]"
      ]
     },
     "execution_count": 18,
     "metadata": {},
     "output_type": "execute_result"
    }
   ],
   "source": [
    "data = data[data['Transtype'] == 'P'].reset_index(drop=True)\n",
    "data"
   ]
  },
  {
   "cell_type": "code",
   "execution_count": 19,
   "id": "2d23a69c",
   "metadata": {
    "ExecuteTime": {
     "end_time": "2022-04-08T06:53:01.354499Z",
     "start_time": "2022-04-08T06:53:01.328123Z"
    },
    "hidden": true
   },
   "outputs": [
    {
     "data": {
      "text/plain": [
       "Recnum               0\n",
       "Cardnum              0\n",
       "Date                 0\n",
       "Merchnum             0\n",
       "Merch description    0\n",
       "Merch state          0\n",
       "Merch zip            0\n",
       "Transtype            0\n",
       "Amount               0\n",
       "Fraud                0\n",
       "dow                  0\n",
       "dtype: int64"
      ]
     },
     "execution_count": 19,
     "metadata": {},
     "output_type": "execute_result"
    }
   ],
   "source": [
    "data.isna().sum()"
   ]
  },
  {
   "cell_type": "markdown",
   "id": "934db279",
   "metadata": {
    "heading_collapsed": true
   },
   "source": [
    "## Risk table"
   ]
  },
  {
   "cell_type": "code",
   "execution_count": 20,
   "id": "120ef2b9",
   "metadata": {
    "ExecuteTime": {
     "end_time": "2022-04-08T06:53:01.379452Z",
     "start_time": "2022-04-08T06:53:01.355963Z"
    },
    "hidden": true
   },
   "outputs": [
    {
     "data": {
      "text/plain": [
       "0.007127    19588\n",
       "0.008711    18517\n",
       "0.009788    17943\n",
       "0.009630    15033\n",
       "0.010095    10176\n",
       "0.018626    10055\n",
       "0.025994     5085\n",
       "Name: dow_risk, dtype: int64"
      ]
     },
     "execution_count": 20,
     "metadata": {},
     "output_type": "execute_result"
    }
   ],
   "source": [
    "train_test = data[data.Date < '2006-11-01']\n",
    "# statistical smoothing\n",
    "c = 4\n",
    "nmid = 20\n",
    "y_avg = train_test['Fraud'].mean()\n",
    "y_dow = train_test.groupby('dow')['Fraud'].mean()\n",
    "num = train_test.groupby('dow').size()\n",
    "y_dow_smooth = y_avg + (y_dow - y_avg) / (1 + np.exp(-(num - nmid) / c))\n",
    "data['dow_risk'] = data.dow.map(y_dow_smooth)\n",
    "y_dow = y_dow.reset_index()\n",
    "cats = [\n",
    "    'Monday', 'Tuesday', 'Wednesday', 'Thursday', 'Friday', 'Saturday',\n",
    "    'Sunday'\n",
    "]\n",
    "y_dow['dow'] = pd.Categorical(y_dow['dow'], categories=cats, ordered=True)\n",
    "y_dow = y_dow.sort_values('dow')\n",
    "y_dow = y_dow.set_index('dow')\n",
    "data['dow_risk'].value_counts()"
   ]
  },
  {
   "cell_type": "code",
   "execution_count": 21,
   "id": "083861e2",
   "metadata": {
    "ExecuteTime": {
     "end_time": "2022-04-08T06:53:01.574110Z",
     "start_time": "2022-04-08T06:53:01.380858Z"
    },
    "hidden": true,
    "scrolled": false
   },
   "outputs": [
    {
     "data": {
      "image/png": "[encoded data removed]",
      "text/plain": [
       "<Figure size 1440x720 with 1 Axes>"
      ]
     },
     "metadata": {},
     "output_type": "display_data"
    }
   ],
   "source": [
    "y_dow = y_dow.reset_index()\n",
    "y_dow\n",
    "cats = [\n",
    "    'Monday', 'Tuesday', 'Wednesday', 'Thursday', 'Friday', 'Saturday',\n",
    "    'Sunday'\n",
    "]\n",
    "y_dow['dow'] = cats\n",
    "# y_dow=y_dow.sort_values('dow')\n",
    "y_dow = y_dow.set_index('dow')\n",
    "plt.style.use('ggplot')\n",
    "fig, ax = plt.subplots(figsize=(20, 10))\n",
    "plt.bar(data=y_dow, x=y_dow.index, height='Fraud', color='darkblue')\n",
    "plt.title('Fraud Percentage for Each Day of Week')\n",
    "plt.xlabel('Day of Week')\n",
    "plt.ylabel('Fraud Percentage')\n",
    "# ax.set_ylim(bottom=0.013)\n",
    "ax.axhline(y=y_avg, ls='--', lw=2, color='brown')\n",
    "for i, v in enumerate(y_dow.index):\n",
    "    ax.text(v,\n",
    "            y_dow.loc[v, 'Fraud'] + 0.0001,\n",
    "            round(y_dow.loc[v, 'Fraud'], 4),\n",
    "            horizontalalignment='center',\n",
    "            fontsize=12)\n",
    "plt.show()"
   ]
  },
  {
   "cell_type": "code",
   "execution_count": 22,
   "id": "bff669a5",
   "metadata": {
    "ExecuteTime": {
     "end_time": "2022-04-08T06:53:01.821631Z",
     "start_time": "2022-04-08T06:53:01.575591Z"
    },
    "hidden": true
   },
   "outputs": [
    {
     "data": {
      "image/png": "[encoded data removed]",
      "text/plain": [
       "<Figure size 1440x720 with 1 Axes>"
      ]
     },
     "metadata": {},
     "output_type": "display_data"
    }
   ],
   "source": [
    "# statistical smoothing for creating staet target encoding (state_risk)\n",
    "c = 4\n",
    "nmid = 20\n",
    "y_avg = train_test['Fraud'].mean()\n",
    "y_state = train_test.groupby('Merch state')['Fraud'].mean()\n",
    "num = train_test.groupby('Merch state').size()\n",
    "# .size() is like counts.\n",
    "y_state_smooth = y_avg + (y_state - y_avg) / (1 + np.exp(-(num - nmid) / c))\n",
    "data['state_risk'] = data['Merch state'].map(y_state_smooth)\n",
    "# It maps the value of the sereis \"y_dow_smooth\" by the corresponding indexes\n",
    "# We need to renmae the y_state_smooth series since it is obtained from a formula calculation.\n",
    "y_state_smooth = y_state_smooth.rename('Fraud')\n",
    "y_state_smooth_top15 = y_state_smooth.sort_values(\n",
    "    ascending=False).head(15).reset_index()\n",
    "# The above code reset the index to 0-6, and pull out the column \"dow\"\n",
    "cats_state_top15 = [\n",
    "    i for i in y_state_smooth.sort_values(ascending=False).head(15).index\n",
    "]\n",
    "y_state_smooth_top15['Merch state'] = pd.Categorical(\n",
    "    y_state_smooth_top15['Merch state'],\n",
    "    categories=cats_state_top15,\n",
    "    ordered=True)\n",
    "# The code above set a new column 'Merch state' as a categories varaible, and set the order for\n",
    "y_state_smooth_top15 = y_state_smooth_top15.set_index('Merch state')\n",
    "import matplotlib.pyplot as plt\n",
    "\n",
    "plt.style.use('ggplot')\n",
    "fig, ax = plt.subplots(figsize=(20, 10))\n",
    "plt.bar(data=y_state_smooth_top15,\n",
    "        x=y_state_smooth_top15.index,\n",
    "        height='Fraud',\n",
    "        color='darkblue')\n",
    "# ax.set_ylim(bottom=0.013)\n",
    "ax.axhline(y=y_avg, ls='--', lw=2)\n",
    "ax.set_title('Top 15 Fraud Merchant State with Highest Fraud Percentage',\n",
    "             fontsize=20)\n",
    "# ax.text(xlocation,yloaction,text)\n",
    "for i, v in enumerate(y_state_smooth_top15.index):\n",
    "    ax.text(v,\n",
    "            y_state_smooth_top15.loc[v, 'Fraud'] + 0.001,\n",
    "            round(y_state_smooth_top15.loc[v, 'Fraud'], 4),\n",
    "            horizontalalignment='center',\n",
    "            fontsize=15)"
   ]
  },
  {
   "cell_type": "code",
   "execution_count": 23,
   "id": "c6f19497",
   "metadata": {
    "ExecuteTime": {
     "end_time": "2022-04-08T06:53:01.832442Z",
     "start_time": "2022-04-08T06:53:01.827014Z"
    },
    "hidden": true
   },
   "outputs": [
    {
     "data": {
      "text/plain": [
       "array(['TN', 'MA', 'MD', 'OH', 'GA', 'IL', 'TX', 'WA', 'WI', 'NJ', 'FL',\n",
       "       'NY', 'CA', 'MS', 'VA', 'MO', 'PA', 'NC', 'WV', 'CT', 'KS', 'OR',\n",
       "       'SC', 'MI', 'MN', 'KY', 'ME', 'CO', 'DC', 'AK', 'IA', 'NH', 'MT',\n",
       "       'OK', 'unknown', 'NV', 'RI', 'NE', 'AZ', 'NM', 'UT', 'ID', 'SD',\n",
       "       'AL', 'DE', 'BC', 'LA', 'QC', 'IN', 'ON', 'VT', 'ND', 'PR', 'AR',\n",
       "       'MB', 'HI', 'WY', 'Foreign', 'PQ', 'NS', 'AB', 'US', 'VI'],\n",
       "      dtype=object)"
      ]
     },
     "execution_count": 23,
     "metadata": {},
     "output_type": "execute_result"
    }
   ],
   "source": [
    "train_test['Merch state'].unique()"
   ]
  },
  {
   "cell_type": "code",
   "execution_count": 24,
   "id": "c654e499",
   "metadata": {
    "ExecuteTime": {
     "end_time": "2022-04-08T06:53:01.846041Z",
     "start_time": "2022-04-08T06:53:01.835951Z"
    },
    "hidden": true,
    "scrolled": true
   },
   "outputs": [
    {
     "data": {
      "text/html": [
       "<div>\n",
       "<style scoped>\n",
       "    .dataframe tbody tr th:only-of-type {\n",
       "        vertical-align: middle;\n",
       "    }\n",
       "\n",
       "    .dataframe tbody tr th {\n",
       "        vertical-align: top;\n",
       "    }\n",
       "\n",
       "    .dataframe thead th {\n",
       "        text-align: right;\n",
       "    }\n",
       "</style>\n",
       "<table border=\"1\" class=\"dataframe\">\n",
       "  <thead>\n",
       "    <tr style=\"text-align: right;\">\n",
       "      <th></th>\n",
       "      <th>Recnum</th>\n",
       "      <th>Cardnum</th>\n",
       "      <th>Date</th>\n",
       "      <th>Merchnum</th>\n",
       "      <th>Merch description</th>\n",
       "      <th>Merch state</th>\n",
       "      <th>Merch zip</th>\n",
       "      <th>Transtype</th>\n",
       "      <th>Amount</th>\n",
       "      <th>Fraud</th>\n",
       "      <th>dow</th>\n",
       "      <th>dow_risk</th>\n",
       "      <th>state_risk</th>\n",
       "    </tr>\n",
       "  </thead>\n",
       "  <tbody>\n",
       "    <tr>\n",
       "      <th>0</th>\n",
       "      <td>1</td>\n",
       "      <td>5142190439</td>\n",
       "      <td>2006-01-01</td>\n",
       "      <td>5509006296254</td>\n",
       "      <td>FEDEX SHP 12/23/09 AB#</td>\n",
       "      <td>TN</td>\n",
       "      <td>38118</td>\n",
       "      <td>P</td>\n",
       "      <td>3.62</td>\n",
       "      <td>0</td>\n",
       "      <td>6</td>\n",
       "      <td>0.025994</td>\n",
       "      <td>0.007970</td>\n",
       "    </tr>\n",
       "    <tr>\n",
       "      <th>1</th>\n",
       "      <td>2</td>\n",
       "      <td>5142183973</td>\n",
       "      <td>2006-01-01</td>\n",
       "      <td>61003026333</td>\n",
       "      <td>SERVICE MERCHANDISE #81</td>\n",
       "      <td>MA</td>\n",
       "      <td>01803</td>\n",
       "      <td>P</td>\n",
       "      <td>31.42</td>\n",
       "      <td>0</td>\n",
       "      <td>6</td>\n",
       "      <td>0.025994</td>\n",
       "      <td>0.003304</td>\n",
       "    </tr>\n",
       "    <tr>\n",
       "      <th>2</th>\n",
       "      <td>3</td>\n",
       "      <td>5142131721</td>\n",
       "      <td>2006-01-01</td>\n",
       "      <td>4503082993600</td>\n",
       "      <td>OFFICE DEPOT #191</td>\n",
       "      <td>MD</td>\n",
       "      <td>20706</td>\n",
       "      <td>P</td>\n",
       "      <td>178.49</td>\n",
       "      <td>0</td>\n",
       "      <td>6</td>\n",
       "      <td>0.025994</td>\n",
       "      <td>0.016694</td>\n",
       "    </tr>\n",
       "    <tr>\n",
       "      <th>3</th>\n",
       "      <td>4</td>\n",
       "      <td>5142148452</td>\n",
       "      <td>2006-01-01</td>\n",
       "      <td>5509006296254</td>\n",
       "      <td>FEDEX SHP 12/28/09 AB#</td>\n",
       "      <td>TN</td>\n",
       "      <td>38118</td>\n",
       "      <td>P</td>\n",
       "      <td>3.62</td>\n",
       "      <td>0</td>\n",
       "      <td>6</td>\n",
       "      <td>0.025994</td>\n",
       "      <td>0.007970</td>\n",
       "    </tr>\n",
       "    <tr>\n",
       "      <th>4</th>\n",
       "      <td>5</td>\n",
       "      <td>5142190439</td>\n",
       "      <td>2006-01-01</td>\n",
       "      <td>5509006296254</td>\n",
       "      <td>FEDEX SHP 12/23/09 AB#</td>\n",
       "      <td>TN</td>\n",
       "      <td>38118</td>\n",
       "      <td>P</td>\n",
       "      <td>3.62</td>\n",
       "      <td>0</td>\n",
       "      <td>6</td>\n",
       "      <td>0.025994</td>\n",
       "      <td>0.007970</td>\n",
       "    </tr>\n",
       "  </tbody>\n",
       "</table>\n",
       "</div>"
      ],
      "text/plain": [
       "   Recnum     Cardnum       Date       Merchnum        Merch description  \\\n",
       "0       1  5142190439 2006-01-01  5509006296254   FEDEX SHP 12/23/09 AB#   \n",
       "1       2  5142183973 2006-01-01    61003026333  SERVICE MERCHANDISE #81   \n",
       "2       3  5142131721 2006-01-01  4503082993600        OFFICE DEPOT #191   \n",
       "3       4  5142148452 2006-01-01  5509006296254   FEDEX SHP 12/28/09 AB#   \n",
       "4       5  5142190439 2006-01-01  5509006296254   FEDEX SHP 12/23/09 AB#   \n",
       "\n",
       "  Merch state Merch zip Transtype  Amount  Fraud  dow  dow_risk  state_risk  \n",
       "0          TN     38118         P    3.62      0    6  0.025994    0.007970  \n",
       "1          MA     01803         P   31.42      0    6  0.025994    0.003304  \n",
       "2          MD     20706         P  178.49      0    6  0.025994    0.016694  \n",
       "3          TN     38118         P    3.62      0    6  0.025994    0.007970  \n",
       "4          TN     38118         P    3.62      0    6  0.025994    0.007970  "
      ]
     },
     "execution_count": 24,
     "metadata": {},
     "output_type": "execute_result"
    }
   ],
   "source": [
    "data.head()"
   ]
  },
  {
   "cell_type": "markdown",
   "id": "c9490178",
   "metadata": {
    "heading_collapsed": true
   },
   "source": [
    "## Fix some special values \n",
    "For the records which have neither state nor zip and cannot fillna by mapping back to Merch description."
   ]
  },
  {
   "cell_type": "code",
   "execution_count": 25,
   "id": "b7d88d25",
   "metadata": {
    "ExecuteTime": {
     "end_time": "2022-04-08T06:53:02.019853Z",
     "start_time": "2022-04-08T06:53:01.847405Z"
    },
    "hidden": true
   },
   "outputs": [],
   "source": [
    "v_rec = data.loc[(data['Merch state'] == 'unknown')\n",
    "                 & (data['Merch zip'] == 'unknown')].Recnum\n",
    "for i in v_rec:\n",
    "    data.loc[data.Recnum == i, 'Merch state'] = -i\n",
    "    data.loc[data.Recnum == i, 'Merch zip'] = -i\n",
    "data['Merch state'] = data['Merch state'].astype(str)\n",
    "data['Merch zip'] = data['Merch zip'].astype(str)"
   ]
  },
  {
   "cell_type": "code",
   "execution_count": 26,
   "id": "f34e548e",
   "metadata": {
    "ExecuteTime": {
     "end_time": "2022-04-08T06:53:02.024540Z",
     "start_time": "2022-04-08T06:53:02.021211Z"
    },
    "hidden": true
   },
   "outputs": [],
   "source": [
    "del merchdes_merchnum\n",
    "del merchnum_state\n",
    "del merchdes_zip\n",
    "del merchnum_zip\n",
    "del v_rec\n",
    "del y_avg\n",
    "del y_dow\n",
    "del y_dow_smooth\n",
    "del zip_state"
   ]
  },
  {
   "cell_type": "markdown",
   "id": "3e42b5b3",
   "metadata": {},
   "source": [
    "# Create Variables"
   ]
  },
  {
   "cell_type": "markdown",
   "id": "cc7aa605",
   "metadata": {
    "heading_collapsed": true
   },
   "source": [
    "## Rename column name"
   ]
  },
  {
   "cell_type": "code",
   "execution_count": 27,
   "id": "09af7fd2",
   "metadata": {
    "ExecuteTime": {
     "end_time": "2022-04-08T06:53:02.033977Z",
     "start_time": "2022-04-08T06:53:02.025986Z"
    },
    "hidden": true
   },
   "outputs": [],
   "source": [
    "data = data.rename(\n",
    "    columns={\n",
    "        'Recnum': 'recnum',\n",
    "        'Cardnum': 'cardnum',\n",
    "        'Date': 'date',\n",
    "        'Merchnum': 'merchnum',\n",
    "        'Merch description': 'description',\n",
    "        'Merch state': 'state',\n",
    "        'Merch zip': 'zip5',\n",
    "        'Amount': 'amount'\n",
    "    })"
   ]
  },
  {
   "cell_type": "code",
   "execution_count": 28,
   "id": "85228e19",
   "metadata": {
    "ExecuteTime": {
     "end_time": "2022-04-08T06:53:02.047137Z",
     "start_time": "2022-04-08T06:53:02.035470Z"
    },
    "hidden": true
   },
   "outputs": [],
   "source": [
    "data = data.drop(['Transtype'], axis=1)"
   ]
  },
  {
   "cell_type": "markdown",
   "id": "612e581b",
   "metadata": {
    "heading_collapsed": true
   },
   "source": [
    "## Create new variable - 'country' ( There are four unique values: US, Canada, Foreign, unknown)"
   ]
  },
  {
   "cell_type": "code",
   "execution_count": 29,
   "id": "9e8c6f9b",
   "metadata": {
    "ExecuteTime": {
     "end_time": "2022-04-08T06:53:02.281152Z",
     "start_time": "2022-04-08T06:53:02.048662Z"
    },
    "hidden": true
   },
   "outputs": [],
   "source": [
    "us_s = pd.read_excel('us_state.xlsx')\n",
    "ca_s = pd.read_excel('canada_state.xlsx')"
   ]
  },
  {
   "cell_type": "code",
   "execution_count": 30,
   "id": "8fe4390e",
   "metadata": {
    "ExecuteTime": {
     "end_time": "2022-04-08T06:53:02.285460Z",
     "start_time": "2022-04-08T06:53:02.282563Z"
    },
    "hidden": true
   },
   "outputs": [],
   "source": [
    "def country_(i):\n",
    "    country = ''\n",
    "    if i in list(us_s['STATE']):\n",
    "        country = 'US'\n",
    "    elif i in list(ca_s['STATE']):\n",
    "        country = 'Canada'\n",
    "    elif i == 'Foreign':\n",
    "        country = 'Foreign'\n",
    "    else:\n",
    "        country = 'unknown'\n",
    "    return country"
   ]
  },
  {
   "cell_type": "code",
   "execution_count": 31,
   "id": "8ddf62f4",
   "metadata": {
    "ExecuteTime": {
     "end_time": "2022-04-08T06:53:02.957432Z",
     "start_time": "2022-04-08T06:53:02.287136Z"
    },
    "hidden": true
   },
   "outputs": [],
   "source": [
    "data['country'] = data['state'].apply(lambda x: country_(x))"
   ]
  },
  {
   "cell_type": "markdown",
   "id": "87ec64b9",
   "metadata": {
    "heading_collapsed": true
   },
   "source": [
    "## Create candidate variables"
   ]
  },
  {
   "cell_type": "code",
   "execution_count": 32,
   "id": "11a93761",
   "metadata": {
    "ExecuteTime": {
     "end_time": "2022-04-08T06:53:03.042908Z",
     "start_time": "2022-04-08T06:53:02.958816Z"
    },
    "hidden": true
   },
   "outputs": [],
   "source": [
    "data['state_zip5_country'] = data['state'] + data['zip5'] + data['country']\n",
    "data['merchnum_country'] = data['merchnum'] + data['country']\n",
    "data['description_country'] = data['description'] + data['country']\n",
    "data['description_state_zip5_country'] = data['description'] + data[\n",
    "    'state'] + data['zip5'] + data['country']\n",
    "data['cardnum_merchnum'] = data['cardnum'].astype(\n",
    "    str) + data['merchnum'].astype(str)"
   ]
  },
  {
   "cell_type": "code",
   "execution_count": 33,
   "id": "c501f14c",
   "metadata": {
    "ExecuteTime": {
     "end_time": "2022-04-08T06:53:03.047546Z",
     "start_time": "2022-04-08T06:53:03.044471Z"
    },
    "hidden": true
   },
   "outputs": [
    {
     "data": {
      "text/plain": [
       "Index(['recnum', 'cardnum', 'date', 'merchnum', 'description', 'state', 'zip5',\n",
       "       'amount', 'Fraud', 'dow', 'dow_risk', 'state_risk', 'country',\n",
       "       'state_zip5_country', 'merchnum_country', 'description_country',\n",
       "       'description_state_zip5_country', 'cardnum_merchnum'],\n",
       "      dtype='object')"
      ]
     },
     "execution_count": 33,
     "metadata": {},
     "output_type": "execute_result"
    }
   ],
   "source": [
    "data.columns"
   ]
  },
  {
   "cell_type": "code",
   "execution_count": 34,
   "id": "9ff8e718",
   "metadata": {
    "ExecuteTime": {
     "end_time": "2022-04-08T06:53:03.301075Z",
     "start_time": "2022-04-08T06:53:03.048910Z"
    },
    "hidden": true
   },
   "outputs": [],
   "source": [
    "for field in list(data.iloc[:, np.r_[4:6, 12:17]].columns):\n",
    "    data['cardnum_' + field] = data.cardnum + data[field]\n",
    "for field in list(data.iloc[:, np.r_[4:6, 13:17]].columns):\n",
    "    data['merchnum_' + field] = data.merchnum + data[field]"
   ]
  },
  {
   "cell_type": "code",
   "execution_count": 35,
   "id": "d6ef58df",
   "metadata": {
    "ExecuteTime": {
     "end_time": "2022-04-08T06:53:03.416654Z",
     "start_time": "2022-04-08T06:53:03.302538Z"
    },
    "hidden": true
   },
   "outputs": [],
   "source": [
    "data = data.drop(['merchnum_merchnum_country'], axis=1)"
   ]
  },
  {
   "cell_type": "code",
   "execution_count": 36,
   "id": "2174853a",
   "metadata": {
    "ExecuteTime": {
     "end_time": "2022-04-08T06:53:03.422092Z",
     "start_time": "2022-04-08T06:53:03.418380Z"
    },
    "hidden": true
   },
   "outputs": [
    {
     "data": {
      "text/plain": [
       "Index(['recnum', 'cardnum', 'date', 'merchnum', 'description', 'state', 'zip5',\n",
       "       'amount', 'Fraud', 'dow', 'dow_risk', 'state_risk', 'country',\n",
       "       'state_zip5_country', 'merchnum_country', 'description_country',\n",
       "       'description_state_zip5_country', 'cardnum_merchnum',\n",
       "       'cardnum_description', 'cardnum_state', 'cardnum_country',\n",
       "       'cardnum_state_zip5_country', 'cardnum_merchnum_country',\n",
       "       'cardnum_description_country', 'cardnum_description_state_zip5_country',\n",
       "       'merchnum_description', 'merchnum_state', 'merchnum_state_zip5_country',\n",
       "       'merchnum_description_country',\n",
       "       'merchnum_description_state_zip5_country'],\n",
       "      dtype='object')"
      ]
     },
     "execution_count": 36,
     "metadata": {},
     "output_type": "execute_result"
    }
   ],
   "source": [
    "data.columns"
   ]
  },
  {
   "cell_type": "code",
   "execution_count": 37,
   "id": "3f58077b",
   "metadata": {
    "ExecuteTime": {
     "end_time": "2022-04-08T06:53:03.426857Z",
     "start_time": "2022-04-08T06:53:03.423663Z"
    },
    "hidden": true
   },
   "outputs": [
    {
     "data": {
      "text/plain": [
       "30"
      ]
     },
     "execution_count": 37,
     "metadata": {},
     "output_type": "execute_result"
    }
   ],
   "source": [
    "len(data.columns)"
   ]
  },
  {
   "cell_type": "code",
   "execution_count": 38,
   "id": "159a2dc9",
   "metadata": {
    "ExecuteTime": {
     "end_time": "2022-04-08T06:53:03.460377Z",
     "start_time": "2022-04-08T06:53:03.428415Z"
    },
    "hidden": true
   },
   "outputs": [
    {
     "data": {
      "text/plain": [
       "['cardnum',\n",
       " 'merchnum',\n",
       " 'state_zip5_country',\n",
       " 'merchnum_country',\n",
       " 'description_country',\n",
       " 'description_state_zip5_country',\n",
       " 'cardnum_merchnum',\n",
       " 'cardnum_country',\n",
       " 'cardnum_state_zip5_country',\n",
       " 'cardnum_merchnum_country',\n",
       " 'cardnum_description_country',\n",
       " 'cardnum_description_state_zip5_country',\n",
       " 'merchnum_description',\n",
       " 'merchnum_state',\n",
       " 'merchnum_state_zip5_country',\n",
       " 'merchnum_description_country',\n",
       " 'merchnum_description_state_zip5_country']"
      ]
     },
     "execution_count": 38,
     "metadata": {},
     "output_type": "execute_result"
    }
   ],
   "source": [
    "attributes = list(data.iloc[:, np.r_[1, 3, 13:18, 20, 21:30]].columns)\n",
    "attributes"
   ]
  },
  {
   "cell_type": "code",
   "execution_count": 39,
   "id": "9f731ac8",
   "metadata": {
    "ExecuteTime": {
     "end_time": "2022-04-08T06:53:03.465265Z",
     "start_time": "2022-04-08T06:53:03.461896Z"
    },
    "hidden": true
   },
   "outputs": [
    {
     "data": {
      "text/plain": [
       "17"
      ]
     },
     "execution_count": 39,
     "metadata": {},
     "output_type": "execute_result"
    }
   ],
   "source": [
    "len(attributes)"
   ]
  },
  {
   "cell_type": "code",
   "execution_count": 40,
   "id": "68c49f1f",
   "metadata": {
    "ExecuteTime": {
     "end_time": "2022-04-08T06:53:03.470194Z",
     "start_time": "2022-04-08T06:53:03.466800Z"
    },
    "hidden": true
   },
   "outputs": [
    {
     "data": {
      "text/plain": [
       "['cardnum',\n",
       " 'merchnum',\n",
       " 'state_zip5_country',\n",
       " 'merchnum_country',\n",
       " 'description_country',\n",
       " 'description_state_zip5_country',\n",
       " 'cardnum_merchnum',\n",
       " 'cardnum_country',\n",
       " 'cardnum_state_zip5_country',\n",
       " 'cardnum_merchnum_country',\n",
       " 'cardnum_description_country',\n",
       " 'cardnum_description_state_zip5_country',\n",
       " 'merchnum_description',\n",
       " 'merchnum_state',\n",
       " 'merchnum_state_zip5_country',\n",
       " 'merchnum_description_country',\n",
       " 'merchnum_description_state_zip5_country']"
      ]
     },
     "execution_count": 40,
     "metadata": {},
     "output_type": "execute_result"
    }
   ],
   "source": [
    "attributes"
   ]
  },
  {
   "cell_type": "code",
   "execution_count": 41,
   "id": "134739fd",
   "metadata": {
    "ExecuteTime": {
     "end_time": "2022-04-08T06:53:03.498052Z",
     "start_time": "2022-04-08T06:53:03.471920Z"
    },
    "hidden": true
   },
   "outputs": [
    {
     "data": {
      "text/plain": [
       "(96397, 30)"
      ]
     },
     "execution_count": 41,
     "metadata": {},
     "output_type": "execute_result"
    }
   ],
   "source": [
    "df1 = data.copy()\n",
    "final = data\n",
    "df1['check_date'] = df1.date\n",
    "df1['check_record'] = df1.recnum\n",
    "final.shape"
   ]
  },
  {
   "cell_type": "code",
   "execution_count": 42,
   "id": "55a5939f",
   "metadata": {
    "ExecuteTime": {
     "end_time": "2022-04-08T06:59:29.877529Z",
     "start_time": "2022-04-08T06:53:03.499947Z"
    },
    "hidden": true,
    "scrolled": true
   },
   "outputs": [
    {
     "name": "stdout",
     "output_type": "stream",
     "text": [
      "\n",
      "\n",
      "cardnum_day_since ---> Done\n",
      "cardnum_count_0 ---> Done\n",
      "cardnum amount variables over past 0 ---> Done\n",
      "cardnum_count_1 ---> Done\n",
      "cardnum amount variables over past 1 ---> Done\n",
      "cardnum_count_3 ---> Done\n",
      "cardnum amount variables over past 3 ---> Done\n",
      "cardnum_count_7 ---> Done\n",
      "cardnum amount variables over past 7 ---> Done\n",
      "cardnum_count_14 ---> Done\n",
      "cardnum amount variables over past 14 ---> Done\n",
      "cardnum_count_30 ---> Done\n",
      "cardnum amount variables over past 30 ---> Done\n",
      "Run time for the last entity ----------------- 6.754133566s\n",
      "\n",
      "merchnum_day_since ---> Done\n",
      "merchnum_count_0 ---> Done\n",
      "merchnum amount variables over past 0 ---> Done\n",
      "merchnum_count_1 ---> Done\n",
      "merchnum amount variables over past 1 ---> Done\n",
      "merchnum_count_3 ---> Done\n",
      "merchnum amount variables over past 3 ---> Done\n",
      "merchnum_count_7 ---> Done\n",
      "merchnum amount variables over past 7 ---> Done\n",
      "merchnum_count_14 ---> Done\n",
      "merchnum amount variables over past 14 ---> Done\n",
      "merchnum_count_30 ---> Done\n",
      "merchnum amount variables over past 30 ---> Done\n",
      "Run time for the last entity ----------------- 54.521353772999994s\n",
      "\n",
      "state_zip5_country_day_since ---> Done\n",
      "state_zip5_country_count_0 ---> Done\n",
      "state_zip5_country amount variables over past 0 ---> Done\n",
      "state_zip5_country_count_1 ---> Done\n",
      "state_zip5_country amount variables over past 1 ---> Done\n",
      "state_zip5_country_count_3 ---> Done\n",
      "state_zip5_country amount variables over past 3 ---> Done\n",
      "state_zip5_country_count_7 ---> Done\n",
      "state_zip5_country amount variables over past 7 ---> Done\n",
      "state_zip5_country_count_14 ---> Done\n",
      "state_zip5_country amount variables over past 14 ---> Done\n",
      "state_zip5_country_count_30 ---> Done\n",
      "state_zip5_country amount variables over past 30 ---> Done\n",
      "Run time for the last entity ----------------- 118.18358924300001s\n",
      "\n",
      "merchnum_country_day_since ---> Done\n",
      "merchnum_country_count_0 ---> Done\n",
      "merchnum_country amount variables over past 0 ---> Done\n",
      "merchnum_country_count_1 ---> Done\n",
      "merchnum_country amount variables over past 1 ---> Done\n",
      "merchnum_country_count_3 ---> Done\n",
      "merchnum_country amount variables over past 3 ---> Done\n",
      "merchnum_country_count_7 ---> Done\n",
      "merchnum_country amount variables over past 7 ---> Done\n",
      "merchnum_country_count_14 ---> Done\n",
      "merchnum_country amount variables over past 14 ---> Done\n",
      "merchnum_country_count_30 ---> Done\n",
      "merchnum_country amount variables over past 30 ---> Done\n",
      "Run time for the last entity ----------------- 54.704698968s\n",
      "\n",
      "description_country_day_since ---> Done\n",
      "description_country_count_0 ---> Done\n",
      "description_country amount variables over past 0 ---> Done\n",
      "description_country_count_1 ---> Done\n",
      "description_country amount variables over past 1 ---> Done\n",
      "description_country_count_3 ---> Done\n",
      "description_country amount variables over past 3 ---> Done\n",
      "description_country_count_7 ---> Done\n",
      "description_country amount variables over past 7 ---> Done\n",
      "description_country_count_14 ---> Done\n",
      "description_country amount variables over past 14 ---> Done\n",
      "description_country_count_30 ---> Done\n",
      "description_country amount variables over past 30 ---> Done\n",
      "Run time for the last entity ----------------- 8.061177899000029s\n",
      "\n",
      "description_state_zip5_country_day_since ---> Done\n",
      "description_state_zip5_country_count_0 ---> Done\n",
      "description_state_zip5_country amount variables over past 0 ---> Done\n",
      "description_state_zip5_country_count_1 ---> Done\n",
      "description_state_zip5_country amount variables over past 1 ---> Done\n",
      "description_state_zip5_country_count_3 ---> Done\n",
      "description_state_zip5_country amount variables over past 3 ---> Done\n",
      "description_state_zip5_country_count_7 ---> Done\n",
      "description_state_zip5_country amount variables over past 7 ---> Done\n",
      "description_state_zip5_country_count_14 ---> Done\n",
      "description_state_zip5_country amount variables over past 14 ---> Done\n",
      "description_state_zip5_country_count_30 ---> Done\n",
      "description_state_zip5_country amount variables over past 30 ---> Done\n",
      "Run time for the last entity ----------------- 7.368951195000022s\n",
      "\n",
      "cardnum_merchnum_day_since ---> Done\n",
      "cardnum_merchnum_count_0 ---> Done\n",
      "cardnum_merchnum amount variables over past 0 ---> Done\n",
      "cardnum_merchnum_count_1 ---> Done\n",
      "cardnum_merchnum amount variables over past 1 ---> Done\n",
      "cardnum_merchnum_count_3 ---> Done\n",
      "cardnum_merchnum amount variables over past 3 ---> Done\n",
      "cardnum_merchnum_count_7 ---> Done\n",
      "cardnum_merchnum amount variables over past 7 ---> Done\n",
      "cardnum_merchnum_count_14 ---> Done\n",
      "cardnum_merchnum amount variables over past 14 ---> Done\n",
      "cardnum_merchnum_count_30 ---> Done\n",
      "cardnum_merchnum amount variables over past 30 ---> Done\n",
      "Run time for the last entity ----------------- 1.989293560999954s\n",
      "\n",
      "cardnum_country_day_since ---> Done\n",
      "cardnum_country_count_0 ---> Done\n",
      "cardnum_country amount variables over past 0 ---> Done\n",
      "cardnum_country_count_1 ---> Done\n",
      "cardnum_country amount variables over past 1 ---> Done\n",
      "cardnum_country_count_3 ---> Done\n",
      "cardnum_country amount variables over past 3 ---> Done\n",
      "cardnum_country_count_7 ---> Done\n",
      "cardnum_country amount variables over past 7 ---> Done\n",
      "cardnum_country_count_14 ---> Done\n",
      "cardnum_country amount variables over past 14 ---> Done\n",
      "cardnum_country_count_30 ---> Done\n",
      "cardnum_country amount variables over past 30 ---> Done\n",
      "Run time for the last entity ----------------- 7.205275115000006s\n",
      "\n",
      "cardnum_state_zip5_country_day_since ---> Done\n",
      "cardnum_state_zip5_country_count_0 ---> Done\n",
      "cardnum_state_zip5_country amount variables over past 0 ---> Done\n",
      "cardnum_state_zip5_country_count_1 ---> Done\n",
      "cardnum_state_zip5_country amount variables over past 1 ---> Done\n",
      "cardnum_state_zip5_country_count_3 ---> Done\n",
      "cardnum_state_zip5_country amount variables over past 3 ---> Done\n",
      "cardnum_state_zip5_country_count_7 ---> Done\n",
      "cardnum_state_zip5_country amount variables over past 7 ---> Done\n",
      "cardnum_state_zip5_country_count_14 ---> Done\n",
      "cardnum_state_zip5_country amount variables over past 14 ---> Done\n",
      "cardnum_state_zip5_country_count_30 ---> Done\n",
      "cardnum_state_zip5_country amount variables over past 30 ---> Done\n",
      "Run time for the last entity ----------------- 2.688333886999999s\n",
      "\n",
      "cardnum_merchnum_country_day_since ---> Done\n",
      "cardnum_merchnum_country_count_0 ---> Done\n",
      "cardnum_merchnum_country amount variables over past 0 ---> Done\n",
      "cardnum_merchnum_country_count_1 ---> Done\n",
      "cardnum_merchnum_country amount variables over past 1 ---> Done\n",
      "cardnum_merchnum_country_count_3 ---> Done\n",
      "cardnum_merchnum_country amount variables over past 3 ---> Done\n",
      "cardnum_merchnum_country_count_7 ---> Done\n",
      "cardnum_merchnum_country amount variables over past 7 ---> Done\n",
      "cardnum_merchnum_country_count_14 ---> Done\n",
      "cardnum_merchnum_country amount variables over past 14 ---> Done\n",
      "cardnum_merchnum_country_count_30 ---> Done\n",
      "cardnum_merchnum_country amount variables over past 30 ---> Done\n",
      "Run time for the last entity ----------------- 1.8667847180000194s\n",
      "\n",
      "cardnum_description_country_day_since ---> Done\n",
      "cardnum_description_country_count_0 ---> Done\n",
      "cardnum_description_country amount variables over past 0 ---> Done\n",
      "cardnum_description_country_count_1 ---> Done\n",
      "cardnum_description_country amount variables over past 1 ---> Done\n",
      "cardnum_description_country_count_3 ---> Done\n",
      "cardnum_description_country amount variables over past 3 ---> Done\n",
      "cardnum_description_country_count_7 ---> Done\n",
      "cardnum_description_country amount variables over past 7 ---> Done\n",
      "cardnum_description_country_count_14 ---> Done\n",
      "cardnum_description_country amount variables over past 14 ---> Done\n",
      "cardnum_description_country_count_30 ---> Done\n",
      "cardnum_description_country amount variables over past 30 ---> Done\n",
      "Run time for the last entity ----------------- 1.5349031869999976s\n",
      "\n",
      "cardnum_description_state_zip5_country_day_since ---> Done\n",
      "cardnum_description_state_zip5_country_count_0 ---> Done\n",
      "cardnum_description_state_zip5_country amount variables over past 0 ---> Done\n",
      "cardnum_description_state_zip5_country_count_1 ---> Done\n",
      "cardnum_description_state_zip5_country amount variables over past 1 ---> Done\n",
      "cardnum_description_state_zip5_country_count_3 ---> Done\n",
      "cardnum_description_state_zip5_country amount variables over past 3 ---> Done\n",
      "cardnum_description_state_zip5_country_count_7 ---> Done\n",
      "cardnum_description_state_zip5_country amount variables over past 7 ---> Done\n",
      "cardnum_description_state_zip5_country_count_14 ---> Done\n",
      "cardnum_description_state_zip5_country amount variables over past 14 ---> Done\n",
      "cardnum_description_state_zip5_country_count_30 ---> Done\n"
     ]
    },
    {
     "name": "stdout",
     "output_type": "stream",
     "text": [
      "cardnum_description_state_zip5_country amount variables over past 30 ---> Done\n",
      "Run time for the last entity ----------------- 1.1444598789999532s\n",
      "\n",
      "merchnum_description_day_since ---> Done\n",
      "merchnum_description_count_0 ---> Done\n",
      "merchnum_description amount variables over past 0 ---> Done\n",
      "merchnum_description_count_1 ---> Done\n",
      "merchnum_description amount variables over past 1 ---> Done\n",
      "merchnum_description_count_3 ---> Done\n",
      "merchnum_description amount variables over past 3 ---> Done\n",
      "merchnum_description_count_7 ---> Done\n",
      "merchnum_description amount variables over past 7 ---> Done\n",
      "merchnum_description_count_14 ---> Done\n",
      "merchnum_description amount variables over past 14 ---> Done\n",
      "merchnum_description_count_30 ---> Done\n",
      "merchnum_description amount variables over past 30 ---> Done\n",
      "Run time for the last entity ----------------- 6.379010680000022s\n",
      "\n",
      "merchnum_state_day_since ---> Done\n",
      "merchnum_state_count_0 ---> Done\n",
      "merchnum_state amount variables over past 0 ---> Done\n",
      "merchnum_state_count_1 ---> Done\n",
      "merchnum_state amount variables over past 1 ---> Done\n",
      "merchnum_state_count_3 ---> Done\n",
      "merchnum_state amount variables over past 3 ---> Done\n",
      "merchnum_state_count_7 ---> Done\n",
      "merchnum_state amount variables over past 7 ---> Done\n",
      "merchnum_state_count_14 ---> Done\n",
      "merchnum_state amount variables over past 14 ---> Done\n",
      "merchnum_state_count_30 ---> Done\n",
      "merchnum_state amount variables over past 30 ---> Done\n",
      "Run time for the last entity ----------------- 49.30813656599997s\n",
      "\n",
      "merchnum_state_zip5_country_day_since ---> Done\n",
      "merchnum_state_zip5_country_count_0 ---> Done\n",
      "merchnum_state_zip5_country amount variables over past 0 ---> Done\n",
      "merchnum_state_zip5_country_count_1 ---> Done\n",
      "merchnum_state_zip5_country amount variables over past 1 ---> Done\n",
      "merchnum_state_zip5_country_count_3 ---> Done\n",
      "merchnum_state_zip5_country amount variables over past 3 ---> Done\n",
      "merchnum_state_zip5_country_count_7 ---> Done\n",
      "merchnum_state_zip5_country amount variables over past 7 ---> Done\n",
      "merchnum_state_zip5_country_count_14 ---> Done\n",
      "merchnum_state_zip5_country amount variables over past 14 ---> Done\n",
      "merchnum_state_zip5_country_count_30 ---> Done\n",
      "merchnum_state_zip5_country amount variables over past 30 ---> Done\n",
      "Run time for the last entity ----------------- 51.24951767699997s\n",
      "\n",
      "merchnum_description_country_day_since ---> Done\n",
      "merchnum_description_country_count_0 ---> Done\n",
      "merchnum_description_country amount variables over past 0 ---> Done\n",
      "merchnum_description_country_count_1 ---> Done\n",
      "merchnum_description_country amount variables over past 1 ---> Done\n",
      "merchnum_description_country_count_3 ---> Done\n",
      "merchnum_description_country amount variables over past 3 ---> Done\n",
      "merchnum_description_country_count_7 ---> Done\n",
      "merchnum_description_country amount variables over past 7 ---> Done\n",
      "merchnum_description_country_count_14 ---> Done\n",
      "merchnum_description_country amount variables over past 14 ---> Done\n",
      "merchnum_description_country_count_30 ---> Done\n",
      "merchnum_description_country amount variables over past 30 ---> Done\n",
      "Run time for the last entity ----------------- 7.592019819000029s\n",
      "\n",
      "merchnum_description_state_zip5_country_day_since ---> Done\n",
      "merchnum_description_state_zip5_country_count_0 ---> Done\n",
      "merchnum_description_state_zip5_country amount variables over past 0 ---> Done\n",
      "merchnum_description_state_zip5_country_count_1 ---> Done\n",
      "merchnum_description_state_zip5_country amount variables over past 1 ---> Done\n",
      "merchnum_description_state_zip5_country_count_3 ---> Done\n",
      "merchnum_description_state_zip5_country amount variables over past 3 ---> Done\n",
      "merchnum_description_state_zip5_country_count_7 ---> Done\n",
      "merchnum_description_state_zip5_country amount variables over past 7 ---> Done\n",
      "merchnum_description_state_zip5_country_count_14 ---> Done\n",
      "merchnum_description_state_zip5_country amount variables over past 14 ---> Done\n",
      "merchnum_description_state_zip5_country_count_30 ---> Done\n",
      "merchnum_description_state_zip5_country amount variables over past 30 ---> Done\n",
      "Total run time: 6.438739777566667mins\n"
     ]
    }
   ],
   "source": [
    "import timeit\n",
    "from timeit import default_timer as timer\n",
    "\n",
    "start = timeit.default_timer()\n",
    "for entity in attributes:\n",
    "    try:\n",
    "        print('Run time for the last entity ----------------- {}s'.format(\n",
    "            timeit.default_timer() - st))\n",
    "    except:\n",
    "        print('')\n",
    "    st = timeit.default_timer()\n",
    "    ## Day-since variables:\n",
    "    df_l = df1[['recnum', 'date', entity]]\n",
    "    df_r = df1[['check_record', 'check_date', entity, 'amount']]\n",
    "    temp = pd.merge(df_l, df_r, left_on=entity, right_on=entity)\n",
    "    temp1 = temp[temp.recnum > temp.check_record][['recnum','date','check_date']]\\\n",
    "                                                   .groupby('recnum')[['date', 'check_date']].last()\n",
    "    mapper = (temp1.date - temp1.check_date).dt.days\n",
    "    final[entity + '_day_since'] = final.recnum.map(mapper)\n",
    "    final[entity + '_day_since'].fillna(\n",
    "        (final.date - pd.to_datetime('2010-01-01')).dt.days, inplace=True)\n",
    "    print('\\n' + entity + '_day_since ---> Done')\n",
    "    ## Frequency & Amount variables:\n",
    "    for time in [0, 1, 3, 7, 14, 30]:\n",
    "        temp2 = temp[(temp.check_date >= (temp.date - dt.timedelta(time))) &\\\n",
    "                       (temp.recnum >= temp.check_record)][['recnum', entity, 'amount']]\n",
    "        col_name = entity + '_count_' + str(time)\n",
    "        mapper2 = temp2.groupby('recnum')[entity].count()\n",
    "        final[col_name] = final.recnum.map(mapper2)\n",
    "        print(col_name + ' ---> Done')\n",
    "        final[entity + '_avg_' + str(time)] = final.recnum.map(\n",
    "            temp2.groupby('recnum')['amount'].mean())\n",
    "        final[entity + '_max_' + str(time)] = final.recnum.map(\n",
    "            temp2.groupby('recnum')['amount'].max())\n",
    "        final[entity + '_med_' + str(time)] = final.recnum.map(\n",
    "            temp2.groupby('recnum')['amount'].median())\n",
    "        final[entity + '_total_' + str(time)] = final.recnum.map(\n",
    "            temp2.groupby('recnum')['amount'].sum())\n",
    "        final[entity + '_actual/avg_' +\n",
    "              str(time)] = final['amount'] / final[entity + '_avg_' +\n",
    "                                                   str(time)]\n",
    "        final[entity + '_actual/max_' +\n",
    "              str(time)] = final['amount'] / final[entity + '_max_' +\n",
    "                                                   str(time)]\n",
    "        final[entity + '_actual/med_' +\n",
    "              str(time)] = final['amount'] / final[entity + '_med_' +\n",
    "                                                   str(time)]\n",
    "        final[entity + '_actual/toal_' +\n",
    "              str(time)] = final['amount'] / final[entity + '_total_' +\n",
    "                                                   str(time)]\n",
    "        print(entity + ' amount variables over past ' + str(time) +\n",
    "              ' ---> Done')\n",
    "\n",
    "print('Total run time: {}mins'.format((timeit.default_timer() - start) / 60))"
   ]
  },
  {
   "cell_type": "code",
   "execution_count": 43,
   "id": "d329cd5e",
   "metadata": {
    "ExecuteTime": {
     "end_time": "2022-04-08T06:59:30.748507Z",
     "start_time": "2022-04-08T06:59:29.899686Z"
    },
    "hidden": true
   },
   "outputs": [
    {
     "name": "stdout",
     "output_type": "stream",
     "text": [
      "run time: 0.8332990490000043s\n"
     ]
    }
   ],
   "source": [
    "start = timeit.default_timer()\n",
    "# velocity change variables\n",
    "for ent in attributes:\n",
    "    for d in ['0', '1']:\n",
    "        for dd in ['7', '14', '30']:\n",
    "            final[ent + '_count_' + d + '_by_' + dd] =\\\n",
    "            final[ent + '_count_' + d]/(final[ent + '_count_' + dd])/float(dd)\n",
    "\n",
    "print('run time: {}s'.format(timeit.default_timer() - start))"
   ]
  },
  {
   "cell_type": "code",
   "execution_count": 44,
   "id": "40fdd956",
   "metadata": {
    "ExecuteTime": {
     "end_time": "2022-04-08T06:59:30.769586Z",
     "start_time": "2022-04-08T06:59:30.751489Z"
    },
    "hidden": true
   },
   "outputs": [
    {
     "data": {
      "text/plain": [
       "Index(['recnum', 'cardnum', 'date', 'merchnum', 'description', 'state', 'zip5',\n",
       "       'amount', 'Fraud', 'dow',\n",
       "       ...\n",
       "       'merchnum_description_country_count_0_by_30',\n",
       "       'merchnum_description_country_count_1_by_7',\n",
       "       'merchnum_description_country_count_1_by_14',\n",
       "       'merchnum_description_country_count_1_by_30',\n",
       "       'merchnum_description_state_zip5_country_count_0_by_7',\n",
       "       'merchnum_description_state_zip5_country_count_0_by_14',\n",
       "       'merchnum_description_state_zip5_country_count_0_by_30',\n",
       "       'merchnum_description_state_zip5_country_count_1_by_7',\n",
       "       'merchnum_description_state_zip5_country_count_1_by_14',\n",
       "       'merchnum_description_state_zip5_country_count_1_by_30'],\n",
       "      dtype='object', length=1067)"
      ]
     },
     "execution_count": 44,
     "metadata": {},
     "output_type": "execute_result"
    }
   ],
   "source": [
    "final.columns"
   ]
  },
  {
   "cell_type": "code",
   "execution_count": 45,
   "id": "654cdd53",
   "metadata": {
    "ExecuteTime": {
     "end_time": "2022-04-08T06:59:30.851044Z",
     "start_time": "2022-04-08T06:59:30.771616Z"
    },
    "hidden": true
   },
   "outputs": [],
   "source": [
    "del temp"
   ]
  },
  {
   "cell_type": "markdown",
   "id": "767e0ab8",
   "metadata": {
    "heading_collapsed": true
   },
   "source": [
    "## Ben's Law Variables"
   ]
  },
  {
   "cell_type": "code",
   "execution_count": 46,
   "id": "23faa8da",
   "metadata": {
    "ExecuteTime": {
     "end_time": "2022-04-08T06:59:30.857148Z",
     "start_time": "2022-04-08T06:59:30.853504Z"
    },
    "hidden": true
   },
   "outputs": [],
   "source": [
    "def n_low(df):\n",
    "    return ((df['amount'].str.extract(r\"([1-9])\") == '1') |\n",
    "            (df['amount'].str.extract(r\"([1-9])\") == '2')).sum()"
   ]
  },
  {
   "cell_type": "code",
   "execution_count": 47,
   "id": "8d5ff379",
   "metadata": {
    "ExecuteTime": {
     "end_time": "2022-04-08T06:59:33.109343Z",
     "start_time": "2022-04-08T06:59:30.859652Z"
    },
    "hidden": true
   },
   "outputs": [
    {
     "data": {
      "text/html": [
       "<div>\n",
       "<style scoped>\n",
       "    .dataframe tbody tr th:only-of-type {\n",
       "        vertical-align: middle;\n",
       "    }\n",
       "\n",
       "    .dataframe tbody tr th {\n",
       "        vertical-align: top;\n",
       "    }\n",
       "\n",
       "    .dataframe thead th {\n",
       "        text-align: right;\n",
       "    }\n",
       "</style>\n",
       "<table border=\"1\" class=\"dataframe\">\n",
       "  <thead>\n",
       "    <tr style=\"text-align: right;\">\n",
       "      <th></th>\n",
       "      <th>recnum</th>\n",
       "      <th>cardnum</th>\n",
       "      <th>date</th>\n",
       "      <th>merchnum</th>\n",
       "      <th>description</th>\n",
       "      <th>state</th>\n",
       "      <th>zip5</th>\n",
       "      <th>amount</th>\n",
       "      <th>Fraud</th>\n",
       "      <th>dow</th>\n",
       "      <th>...</th>\n",
       "      <th>merchnum_description_country_count_0_by_30</th>\n",
       "      <th>merchnum_description_country_count_1_by_7</th>\n",
       "      <th>merchnum_description_country_count_1_by_14</th>\n",
       "      <th>merchnum_description_country_count_1_by_30</th>\n",
       "      <th>merchnum_description_state_zip5_country_count_0_by_7</th>\n",
       "      <th>merchnum_description_state_zip5_country_count_0_by_14</th>\n",
       "      <th>merchnum_description_state_zip5_country_count_0_by_30</th>\n",
       "      <th>merchnum_description_state_zip5_country_count_1_by_7</th>\n",
       "      <th>merchnum_description_state_zip5_country_count_1_by_14</th>\n",
       "      <th>merchnum_description_state_zip5_country_count_1_by_30</th>\n",
       "    </tr>\n",
       "  </thead>\n",
       "  <tbody>\n",
       "    <tr>\n",
       "      <th>1</th>\n",
       "      <td>2</td>\n",
       "      <td>5142183973</td>\n",
       "      <td>2006-01-01</td>\n",
       "      <td>61003026333</td>\n",
       "      <td>SERVICE MERCHANDISE #81</td>\n",
       "      <td>MA</td>\n",
       "      <td>01803</td>\n",
       "      <td>31.42</td>\n",
       "      <td>0</td>\n",
       "      <td>6</td>\n",
       "      <td>...</td>\n",
       "      <td>0.033333</td>\n",
       "      <td>0.142857</td>\n",
       "      <td>0.071429</td>\n",
       "      <td>0.033333</td>\n",
       "      <td>0.142857</td>\n",
       "      <td>0.071429</td>\n",
       "      <td>0.033333</td>\n",
       "      <td>0.142857</td>\n",
       "      <td>0.071429</td>\n",
       "      <td>0.033333</td>\n",
       "    </tr>\n",
       "    <tr>\n",
       "      <th>2</th>\n",
       "      <td>3</td>\n",
       "      <td>5142131721</td>\n",
       "      <td>2006-01-01</td>\n",
       "      <td>4503082993600</td>\n",
       "      <td>OFFICE DEPOT #191</td>\n",
       "      <td>MD</td>\n",
       "      <td>20706</td>\n",
       "      <td>178.49</td>\n",
       "      <td>0</td>\n",
       "      <td>6</td>\n",
       "      <td>...</td>\n",
       "      <td>0.033333</td>\n",
       "      <td>0.142857</td>\n",
       "      <td>0.071429</td>\n",
       "      <td>0.033333</td>\n",
       "      <td>0.142857</td>\n",
       "      <td>0.071429</td>\n",
       "      <td>0.033333</td>\n",
       "      <td>0.142857</td>\n",
       "      <td>0.071429</td>\n",
       "      <td>0.033333</td>\n",
       "    </tr>\n",
       "    <tr>\n",
       "      <th>7</th>\n",
       "      <td>8</td>\n",
       "      <td>5142191182</td>\n",
       "      <td>2006-01-01</td>\n",
       "      <td>6098208200062</td>\n",
       "      <td>MIAMI COMPUTER SUPPLY</td>\n",
       "      <td>OH</td>\n",
       "      <td>45429</td>\n",
       "      <td>230.32</td>\n",
       "      <td>0</td>\n",
       "      <td>6</td>\n",
       "      <td>...</td>\n",
       "      <td>0.033333</td>\n",
       "      <td>0.142857</td>\n",
       "      <td>0.071429</td>\n",
       "      <td>0.033333</td>\n",
       "      <td>0.142857</td>\n",
       "      <td>0.071429</td>\n",
       "      <td>0.033333</td>\n",
       "      <td>0.142857</td>\n",
       "      <td>0.071429</td>\n",
       "      <td>0.033333</td>\n",
       "    </tr>\n",
       "    <tr>\n",
       "      <th>8</th>\n",
       "      <td>9</td>\n",
       "      <td>5142258629</td>\n",
       "      <td>2006-01-01</td>\n",
       "      <td>602608969534</td>\n",
       "      <td>FISHER SCI ATL</td>\n",
       "      <td>GA</td>\n",
       "      <td>30091</td>\n",
       "      <td>62.11</td>\n",
       "      <td>0</td>\n",
       "      <td>6</td>\n",
       "      <td>...</td>\n",
       "      <td>0.033333</td>\n",
       "      <td>0.142857</td>\n",
       "      <td>0.071429</td>\n",
       "      <td>0.033333</td>\n",
       "      <td>0.142857</td>\n",
       "      <td>0.071429</td>\n",
       "      <td>0.033333</td>\n",
       "      <td>0.142857</td>\n",
       "      <td>0.071429</td>\n",
       "      <td>0.033333</td>\n",
       "    </tr>\n",
       "    <tr>\n",
       "      <th>13</th>\n",
       "      <td>14</td>\n",
       "      <td>5142124791</td>\n",
       "      <td>2006-01-01</td>\n",
       "      <td>5725000466504</td>\n",
       "      <td>CDW*GOVERNMENT INC</td>\n",
       "      <td>IL</td>\n",
       "      <td>60061</td>\n",
       "      <td>106.89</td>\n",
       "      <td>0</td>\n",
       "      <td>6</td>\n",
       "      <td>...</td>\n",
       "      <td>0.033333</td>\n",
       "      <td>0.142857</td>\n",
       "      <td>0.071429</td>\n",
       "      <td>0.033333</td>\n",
       "      <td>0.142857</td>\n",
       "      <td>0.071429</td>\n",
       "      <td>0.033333</td>\n",
       "      <td>0.142857</td>\n",
       "      <td>0.071429</td>\n",
       "      <td>0.033333</td>\n",
       "    </tr>\n",
       "  </tbody>\n",
       "</table>\n",
       "<p>5 rows × 1067 columns</p>\n",
       "</div>"
      ],
      "text/plain": [
       "    recnum     cardnum       date       merchnum              description  \\\n",
       "1        2  5142183973 2006-01-01    61003026333  SERVICE MERCHANDISE #81   \n",
       "2        3  5142131721 2006-01-01  4503082993600        OFFICE DEPOT #191   \n",
       "7        8  5142191182 2006-01-01  6098208200062    MIAMI COMPUTER SUPPLY   \n",
       "8        9  5142258629 2006-01-01   602608969534           FISHER SCI ATL   \n",
       "13      14  5142124791 2006-01-01  5725000466504       CDW*GOVERNMENT INC   \n",
       "\n",
       "   state   zip5  amount  Fraud  dow  ...  \\\n",
       "1     MA  01803   31.42      0    6  ...   \n",
       "2     MD  20706  178.49      0    6  ...   \n",
       "7     OH  45429  230.32      0    6  ...   \n",
       "8     GA  30091   62.11      0    6  ...   \n",
       "13    IL  60061  106.89      0    6  ...   \n",
       "\n",
       "    merchnum_description_country_count_0_by_30  \\\n",
       "1                                     0.033333   \n",
       "2                                     0.033333   \n",
       "7                                     0.033333   \n",
       "8                                     0.033333   \n",
       "13                                    0.033333   \n",
       "\n",
       "    merchnum_description_country_count_1_by_7  \\\n",
       "1                                    0.142857   \n",
       "2                                    0.142857   \n",
       "7                                    0.142857   \n",
       "8                                    0.142857   \n",
       "13                                   0.142857   \n",
       "\n",
       "   merchnum_description_country_count_1_by_14  \\\n",
       "1                                    0.071429   \n",
       "2                                    0.071429   \n",
       "7                                    0.071429   \n",
       "8                                    0.071429   \n",
       "13                                   0.071429   \n",
       "\n",
       "   merchnum_description_country_count_1_by_30  \\\n",
       "1                                    0.033333   \n",
       "2                                    0.033333   \n",
       "7                                    0.033333   \n",
       "8                                    0.033333   \n",
       "13                                   0.033333   \n",
       "\n",
       "   merchnum_description_state_zip5_country_count_0_by_7  \\\n",
       "1                                            0.142857     \n",
       "2                                            0.142857     \n",
       "7                                            0.142857     \n",
       "8                                            0.142857     \n",
       "13                                           0.142857     \n",
       "\n",
       "   merchnum_description_state_zip5_country_count_0_by_14  \\\n",
       "1                                            0.071429      \n",
       "2                                            0.071429      \n",
       "7                                            0.071429      \n",
       "8                                            0.071429      \n",
       "13                                           0.071429      \n",
       "\n",
       "   merchnum_description_state_zip5_country_count_0_by_30  \\\n",
       "1                                            0.033333      \n",
       "2                                            0.033333      \n",
       "7                                            0.033333      \n",
       "8                                            0.033333      \n",
       "13                                           0.033333      \n",
       "\n",
       "   merchnum_description_state_zip5_country_count_1_by_7  \\\n",
       "1                                            0.142857     \n",
       "2                                            0.142857     \n",
       "7                                            0.142857     \n",
       "8                                            0.142857     \n",
       "13                                           0.142857     \n",
       "\n",
       "   merchnum_description_state_zip5_country_count_1_by_14  \\\n",
       "1                                            0.071429      \n",
       "2                                            0.071429      \n",
       "7                                            0.071429      \n",
       "8                                            0.071429      \n",
       "13                                           0.071429      \n",
       "\n",
       "   merchnum_description_state_zip5_country_count_1_by_30  \n",
       "1                                            0.033333     \n",
       "2                                            0.033333     \n",
       "7                                            0.033333     \n",
       "8                                            0.033333     \n",
       "13                                           0.033333     \n",
       "\n",
       "[5 rows x 1067 columns]"
      ]
     },
     "execution_count": 47,
     "metadata": {},
     "output_type": "execute_result"
    }
   ],
   "source": [
    "cleaned_data = data[data.description.str.match(r\"[Ff][Ee][Dd][Ee][Xx]\") ==\n",
    "                    False].copy()\n",
    "cleaned_data.amount = cleaned_data.amount.astype(str)\n",
    "cleaned_data.head()"
   ]
  },
  {
   "cell_type": "code",
   "execution_count": 48,
   "id": "b347d814",
   "metadata": {
    "ExecuteTime": {
     "end_time": "2022-04-08T06:59:38.812473Z",
     "start_time": "2022-04-08T06:59:33.111476Z"
    },
    "hidden": true
   },
   "outputs": [],
   "source": [
    "cardnums = cleaned_data.groupby('cardnum').apply(n_low)\n",
    "cardnums['n'] = cleaned_data.groupby('cardnum')['amount'].count()\n",
    "cardnums['n_low'] = cleaned_data.groupby('cardnum').apply(n_low)\n",
    "cardnums = cardnums[['n', 'n_low']]\n",
    "cardnums['n_high'] = cardnums['n'] - cardnums['n_low']"
   ]
  },
  {
   "cell_type": "code",
   "execution_count": 49,
   "id": "f14a1f42",
   "metadata": {
    "ExecuteTime": {
     "end_time": "2022-04-08T06:59:38.817473Z",
     "start_time": "2022-04-08T06:59:38.814154Z"
    },
    "hidden": true
   },
   "outputs": [],
   "source": [
    "cardnums['n_low'] = cardnums['n_low'].replace(0, 1)\n",
    "cardnums['n_high'] = cardnums['n_high'].replace(0, 1)"
   ]
  },
  {
   "cell_type": "code",
   "execution_count": 50,
   "id": "f52d2ade",
   "metadata": {
    "ExecuteTime": {
     "end_time": "2022-04-08T06:59:38.823949Z",
     "start_time": "2022-04-08T06:59:38.818727Z"
    },
    "hidden": true
   },
   "outputs": [],
   "source": [
    "cardnums['R'] = 1.096 * cardnums['n_low'] / cardnums['n_high']\n",
    "cardnums['1/R'] = 1 / cardnums['R']\n",
    "cardnums['U'] = cardnums[['R', '1/R']].max(axis=1)"
   ]
  },
  {
   "cell_type": "code",
   "execution_count": 51,
   "id": "ffb0f0ff",
   "metadata": {
    "ExecuteTime": {
     "end_time": "2022-04-08T06:59:38.830715Z",
     "start_time": "2022-04-08T06:59:38.825674Z"
    },
    "hidden": true
   },
   "outputs": [],
   "source": [
    "import math\n",
    "\n",
    "cardnums['t'] = (cardnums['n'] - 15) / 3\n",
    "cardnums['U*'] = 1 + ((cardnums['U'] - 1) / (1 + math.e**-cardnums['t']))"
   ]
  },
  {
   "cell_type": "code",
   "execution_count": 52,
   "id": "89e404d0",
   "metadata": {
    "ExecuteTime": {
     "end_time": "2022-04-08T06:59:38.845537Z",
     "start_time": "2022-04-08T06:59:38.832202Z"
    },
    "hidden": true
   },
   "outputs": [],
   "source": [
    "cardnums.sort_values('U*', ascending=False)[0:40].to_csv('Top 40 Cardnum.csv')"
   ]
  },
  {
   "cell_type": "code",
   "execution_count": 53,
   "id": "661a1a80",
   "metadata": {
    "ExecuteTime": {
     "end_time": "2022-04-08T07:00:12.054127Z",
     "start_time": "2022-04-08T06:59:38.847310Z"
    },
    "hidden": true
   },
   "outputs": [],
   "source": [
    "merchnums = cleaned_data.groupby('merchnum').apply(n_low)\n",
    "merchnums['n'] = cleaned_data.groupby('merchnum')['amount'].count()\n",
    "merchnums['n_low'] = cleaned_data.groupby('merchnum').apply(n_low)\n",
    "merchnums = merchnums[['n', 'n_low']]\n",
    "merchnums['n_high'] = merchnums['n'] - merchnums['n_low']"
   ]
  },
  {
   "cell_type": "code",
   "execution_count": 54,
   "id": "54a50ec4",
   "metadata": {
    "ExecuteTime": {
     "end_time": "2022-04-08T07:00:12.059579Z",
     "start_time": "2022-04-08T07:00:12.055827Z"
    },
    "hidden": true
   },
   "outputs": [],
   "source": [
    "merchnums['n_low'] = merchnums['n_low'].replace(0, 1)\n",
    "merchnums['n_high'] = merchnums['n_high'].replace(0, 1)"
   ]
  },
  {
   "cell_type": "code",
   "execution_count": 55,
   "id": "54f5305d",
   "metadata": {
    "ExecuteTime": {
     "end_time": "2022-04-08T07:00:12.066862Z",
     "start_time": "2022-04-08T07:00:12.061041Z"
    },
    "hidden": true
   },
   "outputs": [],
   "source": [
    "merchnums['R'] = 1.096 * merchnums['n_low'] / merchnums['n_high']\n",
    "merchnums['1/R'] = 1 / merchnums['R']\n",
    "merchnums['U'] = merchnums[['R', '1/R']].max(axis=1)"
   ]
  },
  {
   "cell_type": "code",
   "execution_count": 56,
   "id": "1ebb67bf",
   "metadata": {
    "ExecuteTime": {
     "end_time": "2022-04-08T07:00:12.074284Z",
     "start_time": "2022-04-08T07:00:12.068714Z"
    },
    "hidden": true
   },
   "outputs": [],
   "source": [
    "import math\n",
    "\n",
    "merchnums['t'] = (merchnums['n'] - 15) / 3\n",
    "merchnums['U*'] = 1 + ((merchnums['U'] - 1) / (1 + math.e**-merchnums['t']))"
   ]
  },
  {
   "cell_type": "code",
   "execution_count": 57,
   "id": "46110319",
   "metadata": {
    "ExecuteTime": {
     "end_time": "2022-04-08T07:00:12.084462Z",
     "start_time": "2022-04-08T07:00:12.075877Z"
    },
    "hidden": true
   },
   "outputs": [],
   "source": [
    "merchnums.sort_values('U*',\n",
    "                      ascending=False)[0:40].to_csv('Top 40 Merchnums.csv')"
   ]
  },
  {
   "cell_type": "code",
   "execution_count": 58,
   "id": "da7942b4",
   "metadata": {
    "ExecuteTime": {
     "end_time": "2022-04-08T07:00:12.094620Z",
     "start_time": "2022-04-08T07:00:12.086049Z"
    },
    "hidden": true
   },
   "outputs": [
    {
     "data": {
      "text/html": [
       "<div>\n",
       "<style scoped>\n",
       "    .dataframe tbody tr th:only-of-type {\n",
       "        vertical-align: middle;\n",
       "    }\n",
       "\n",
       "    .dataframe tbody tr th {\n",
       "        vertical-align: top;\n",
       "    }\n",
       "\n",
       "    .dataframe thead th {\n",
       "        text-align: right;\n",
       "    }\n",
       "</style>\n",
       "<table border=\"1\" class=\"dataframe\">\n",
       "  <thead>\n",
       "    <tr style=\"text-align: right;\">\n",
       "      <th></th>\n",
       "      <th>U*</th>\n",
       "    </tr>\n",
       "    <tr>\n",
       "      <th>cardnum</th>\n",
       "      <th></th>\n",
       "    </tr>\n",
       "  </thead>\n",
       "  <tbody>\n",
       "    <tr>\n",
       "      <th>5142110002</th>\n",
       "      <td>1.000894</td>\n",
       "    </tr>\n",
       "    <tr>\n",
       "      <th>5142110081</th>\n",
       "      <td>1.066041</td>\n",
       "    </tr>\n",
       "    <tr>\n",
       "      <th>5142110313</th>\n",
       "      <td>1.021440</td>\n",
       "    </tr>\n",
       "    <tr>\n",
       "      <th>5142110402</th>\n",
       "      <td>1.298955</td>\n",
       "    </tr>\n",
       "    <tr>\n",
       "      <th>5142110434</th>\n",
       "      <td>1.000894</td>\n",
       "    </tr>\n",
       "    <tr>\n",
       "      <th>...</th>\n",
       "      <td>...</td>\n",
       "    </tr>\n",
       "    <tr>\n",
       "      <th>5142310397</th>\n",
       "      <td>1.000894</td>\n",
       "    </tr>\n",
       "    <tr>\n",
       "      <th>5142310525</th>\n",
       "      <td>1.043299</td>\n",
       "    </tr>\n",
       "    <tr>\n",
       "      <th>5142310598</th>\n",
       "      <td>1.015441</td>\n",
       "    </tr>\n",
       "    <tr>\n",
       "      <th>5142310768</th>\n",
       "      <td>1.002393</td>\n",
       "    </tr>\n",
       "    <tr>\n",
       "      <th>5142847398</th>\n",
       "      <td>3.193331</td>\n",
       "    </tr>\n",
       "  </tbody>\n",
       "</table>\n",
       "<p>1640 rows × 1 columns</p>\n",
       "</div>"
      ],
      "text/plain": [
       "                  U*\n",
       "cardnum             \n",
       "5142110002  1.000894\n",
       "5142110081  1.066041\n",
       "5142110313  1.021440\n",
       "5142110402  1.298955\n",
       "5142110434  1.000894\n",
       "...              ...\n",
       "5142310397  1.000894\n",
       "5142310525  1.043299\n",
       "5142310598  1.015441\n",
       "5142310768  1.002393\n",
       "5142847398  3.193331\n",
       "\n",
       "[1640 rows x 1 columns]"
      ]
     },
     "execution_count": 58,
     "metadata": {},
     "output_type": "execute_result"
    }
   ],
   "source": [
    "cardnums_Ustar = pd.DataFrame(cardnums, columns=['U*'])\n",
    "cardnums_Ustar"
   ]
  },
  {
   "cell_type": "code",
   "execution_count": 59,
   "id": "2280473a",
   "metadata": {
    "ExecuteTime": {
     "end_time": "2022-04-08T07:00:12.104932Z",
     "start_time": "2022-04-08T07:00:12.096377Z"
    },
    "hidden": true
   },
   "outputs": [
    {
     "data": {
      "text/html": [
       "<div>\n",
       "<style scoped>\n",
       "    .dataframe tbody tr th:only-of-type {\n",
       "        vertical-align: middle;\n",
       "    }\n",
       "\n",
       "    .dataframe tbody tr th {\n",
       "        vertical-align: top;\n",
       "    }\n",
       "\n",
       "    .dataframe thead th {\n",
       "        text-align: right;\n",
       "    }\n",
       "</style>\n",
       "<table border=\"1\" class=\"dataframe\">\n",
       "  <thead>\n",
       "    <tr style=\"text-align: right;\">\n",
       "      <th></th>\n",
       "      <th>U*</th>\n",
       "    </tr>\n",
       "    <tr>\n",
       "      <th>merchnum</th>\n",
       "      <th></th>\n",
       "    </tr>\n",
       "  </thead>\n",
       "  <tbody>\n",
       "    <tr>\n",
       "      <th>003100006NOT6</th>\n",
       "      <td>1.000894</td>\n",
       "    </tr>\n",
       "    <tr>\n",
       "      <th>004740006ABC6</th>\n",
       "      <td>1.000894</td>\n",
       "    </tr>\n",
       "    <tr>\n",
       "      <th>005590006PNB6</th>\n",
       "      <td>1.000894</td>\n",
       "    </tr>\n",
       "    <tr>\n",
       "      <th>014430619  14</th>\n",
       "      <td>1.000894</td>\n",
       "    </tr>\n",
       "    <tr>\n",
       "      <th>014938913  51</th>\n",
       "      <td>1.000894</td>\n",
       "    </tr>\n",
       "    <tr>\n",
       "      <th>...</th>\n",
       "      <td>...</td>\n",
       "    </tr>\n",
       "    <tr>\n",
       "      <th>DU49038320006</th>\n",
       "      <td>1.000894</td>\n",
       "    </tr>\n",
       "    <tr>\n",
       "      <th>JCPENNE9 CO</th>\n",
       "      <td>1.014835</td>\n",
       "    </tr>\n",
       "    <tr>\n",
       "      <th>PENNE9 CO #05</th>\n",
       "      <td>1.000894</td>\n",
       "    </tr>\n",
       "    <tr>\n",
       "      <th>PENNE9 CO #68</th>\n",
       "      <td>1.000894</td>\n",
       "    </tr>\n",
       "    <tr>\n",
       "      <th>unknown</th>\n",
       "      <td>1.096617</td>\n",
       "    </tr>\n",
       "  </tbody>\n",
       "</table>\n",
       "<p>13083 rows × 1 columns</p>\n",
       "</div>"
      ],
      "text/plain": [
       "                     U*\n",
       "merchnum               \n",
       "003100006NOT6  1.000894\n",
       "004740006ABC6  1.000894\n",
       "005590006PNB6  1.000894\n",
       "014430619  14  1.000894\n",
       "014938913  51  1.000894\n",
       "...                 ...\n",
       "DU49038320006  1.000894\n",
       "JCPENNE9 CO    1.014835\n",
       "PENNE9 CO #05  1.000894\n",
       "PENNE9 CO #68  1.000894\n",
       "unknown        1.096617\n",
       "\n",
       "[13083 rows x 1 columns]"
      ]
     },
     "execution_count": 59,
     "metadata": {},
     "output_type": "execute_result"
    }
   ],
   "source": [
    "merchnums_Ustar = pd.DataFrame(merchnums, columns=['U*'])\n",
    "merchnums_Ustar"
   ]
  },
  {
   "cell_type": "code",
   "execution_count": 60,
   "id": "46cd48b3",
   "metadata": {
    "ExecuteTime": {
     "end_time": "2022-04-08T07:00:54.726723Z",
     "start_time": "2022-04-08T07:00:12.106636Z"
    },
    "hidden": true
   },
   "outputs": [
    {
     "data": {
      "text/html": [
       "<div>\n",
       "<style scoped>\n",
       "    .dataframe tbody tr th:only-of-type {\n",
       "        vertical-align: middle;\n",
       "    }\n",
       "\n",
       "    .dataframe tbody tr th {\n",
       "        vertical-align: top;\n",
       "    }\n",
       "\n",
       "    .dataframe thead th {\n",
       "        text-align: right;\n",
       "    }\n",
       "</style>\n",
       "<table border=\"1\" class=\"dataframe\">\n",
       "  <thead>\n",
       "    <tr style=\"text-align: right;\">\n",
       "      <th></th>\n",
       "      <th>recnum</th>\n",
       "      <th>cardnum</th>\n",
       "      <th>date</th>\n",
       "      <th>merchnum</th>\n",
       "      <th>description</th>\n",
       "      <th>state</th>\n",
       "      <th>zip5</th>\n",
       "      <th>amount</th>\n",
       "      <th>Fraud</th>\n",
       "      <th>dow</th>\n",
       "      <th>...</th>\n",
       "      <th>merchnum_description_country_count_1_by_14</th>\n",
       "      <th>merchnum_description_country_count_1_by_30</th>\n",
       "      <th>merchnum_description_state_zip5_country_count_0_by_7</th>\n",
       "      <th>merchnum_description_state_zip5_country_count_0_by_14</th>\n",
       "      <th>merchnum_description_state_zip5_country_count_0_by_30</th>\n",
       "      <th>merchnum_description_state_zip5_country_count_1_by_7</th>\n",
       "      <th>merchnum_description_state_zip5_country_count_1_by_14</th>\n",
       "      <th>merchnum_description_state_zip5_country_count_1_by_30</th>\n",
       "      <th>U*_cardnum</th>\n",
       "      <th>U*_merchnum</th>\n",
       "    </tr>\n",
       "  </thead>\n",
       "  <tbody>\n",
       "    <tr>\n",
       "      <th>0</th>\n",
       "      <td>1</td>\n",
       "      <td>5142190439</td>\n",
       "      <td>2006-01-01</td>\n",
       "      <td>5509006296254</td>\n",
       "      <td>FEDEX SHP 12/23/09 AB#</td>\n",
       "      <td>TN</td>\n",
       "      <td>38118</td>\n",
       "      <td>3.62</td>\n",
       "      <td>0</td>\n",
       "      <td>6</td>\n",
       "      <td>...</td>\n",
       "      <td>0.071429</td>\n",
       "      <td>0.033333</td>\n",
       "      <td>0.142857</td>\n",
       "      <td>0.071429</td>\n",
       "      <td>0.033333</td>\n",
       "      <td>0.142857</td>\n",
       "      <td>0.071429</td>\n",
       "      <td>0.033333</td>\n",
       "      <td>2.178008</td>\n",
       "      <td>NaN</td>\n",
       "    </tr>\n",
       "    <tr>\n",
       "      <th>1</th>\n",
       "      <td>2</td>\n",
       "      <td>5142183973</td>\n",
       "      <td>2006-01-01</td>\n",
       "      <td>61003026333</td>\n",
       "      <td>SERVICE MERCHANDISE #81</td>\n",
       "      <td>MA</td>\n",
       "      <td>01803</td>\n",
       "      <td>31.42</td>\n",
       "      <td>0</td>\n",
       "      <td>6</td>\n",
       "      <td>...</td>\n",
       "      <td>0.071429</td>\n",
       "      <td>0.033333</td>\n",
       "      <td>0.142857</td>\n",
       "      <td>0.071429</td>\n",
       "      <td>0.033333</td>\n",
       "      <td>0.142857</td>\n",
       "      <td>0.071429</td>\n",
       "      <td>0.033333</td>\n",
       "      <td>1.604857</td>\n",
       "      <td>1.000894</td>\n",
       "    </tr>\n",
       "    <tr>\n",
       "      <th>2</th>\n",
       "      <td>3</td>\n",
       "      <td>5142131721</td>\n",
       "      <td>2006-01-01</td>\n",
       "      <td>4503082993600</td>\n",
       "      <td>OFFICE DEPOT #191</td>\n",
       "      <td>MD</td>\n",
       "      <td>20706</td>\n",
       "      <td>178.49</td>\n",
       "      <td>0</td>\n",
       "      <td>6</td>\n",
       "      <td>...</td>\n",
       "      <td>0.071429</td>\n",
       "      <td>0.033333</td>\n",
       "      <td>0.142857</td>\n",
       "      <td>0.071429</td>\n",
       "      <td>0.033333</td>\n",
       "      <td>0.142857</td>\n",
       "      <td>0.071429</td>\n",
       "      <td>0.033333</td>\n",
       "      <td>2.368143</td>\n",
       "      <td>1.025818</td>\n",
       "    </tr>\n",
       "    <tr>\n",
       "      <th>3</th>\n",
       "      <td>4</td>\n",
       "      <td>5142148452</td>\n",
       "      <td>2006-01-01</td>\n",
       "      <td>5509006296254</td>\n",
       "      <td>FEDEX SHP 12/28/09 AB#</td>\n",
       "      <td>TN</td>\n",
       "      <td>38118</td>\n",
       "      <td>3.62</td>\n",
       "      <td>0</td>\n",
       "      <td>6</td>\n",
       "      <td>...</td>\n",
       "      <td>0.071429</td>\n",
       "      <td>0.033333</td>\n",
       "      <td>0.142857</td>\n",
       "      <td>0.071429</td>\n",
       "      <td>0.033333</td>\n",
       "      <td>0.142857</td>\n",
       "      <td>0.071429</td>\n",
       "      <td>0.033333</td>\n",
       "      <td>1.044105</td>\n",
       "      <td>NaN</td>\n",
       "    </tr>\n",
       "    <tr>\n",
       "      <th>4</th>\n",
       "      <td>5</td>\n",
       "      <td>5142190439</td>\n",
       "      <td>2006-01-01</td>\n",
       "      <td>5509006296254</td>\n",
       "      <td>FEDEX SHP 12/23/09 AB#</td>\n",
       "      <td>TN</td>\n",
       "      <td>38118</td>\n",
       "      <td>3.62</td>\n",
       "      <td>0</td>\n",
       "      <td>6</td>\n",
       "      <td>...</td>\n",
       "      <td>0.071429</td>\n",
       "      <td>0.033333</td>\n",
       "      <td>0.142857</td>\n",
       "      <td>0.071429</td>\n",
       "      <td>0.033333</td>\n",
       "      <td>0.142857</td>\n",
       "      <td>0.071429</td>\n",
       "      <td>0.033333</td>\n",
       "      <td>2.178008</td>\n",
       "      <td>NaN</td>\n",
       "    </tr>\n",
       "    <tr>\n",
       "      <th>...</th>\n",
       "      <td>...</td>\n",
       "      <td>...</td>\n",
       "      <td>...</td>\n",
       "      <td>...</td>\n",
       "      <td>...</td>\n",
       "      <td>...</td>\n",
       "      <td>...</td>\n",
       "      <td>...</td>\n",
       "      <td>...</td>\n",
       "      <td>...</td>\n",
       "      <td>...</td>\n",
       "      <td>...</td>\n",
       "      <td>...</td>\n",
       "      <td>...</td>\n",
       "      <td>...</td>\n",
       "      <td>...</td>\n",
       "      <td>...</td>\n",
       "      <td>...</td>\n",
       "      <td>...</td>\n",
       "      <td>...</td>\n",
       "      <td>...</td>\n",
       "    </tr>\n",
       "    <tr>\n",
       "      <th>96392</th>\n",
       "      <td>96749</td>\n",
       "      <td>5142276053</td>\n",
       "      <td>2006-12-31</td>\n",
       "      <td>3500000006160</td>\n",
       "      <td>BEST BUY      00001610</td>\n",
       "      <td>KY</td>\n",
       "      <td>41042</td>\n",
       "      <td>84.79</td>\n",
       "      <td>0</td>\n",
       "      <td>6</td>\n",
       "      <td>...</td>\n",
       "      <td>0.071429</td>\n",
       "      <td>0.033333</td>\n",
       "      <td>0.142857</td>\n",
       "      <td>0.071429</td>\n",
       "      <td>0.033333</td>\n",
       "      <td>0.142857</td>\n",
       "      <td>0.071429</td>\n",
       "      <td>0.033333</td>\n",
       "      <td>1.002393</td>\n",
       "      <td>1.000894</td>\n",
       "    </tr>\n",
       "    <tr>\n",
       "      <th>96393</th>\n",
       "      <td>96750</td>\n",
       "      <td>5142225701</td>\n",
       "      <td>2006-12-31</td>\n",
       "      <td>8090710030950</td>\n",
       "      <td>MARKUS OFFICE SUPPLIES</td>\n",
       "      <td>OH</td>\n",
       "      <td>45248</td>\n",
       "      <td>118.75</td>\n",
       "      <td>0</td>\n",
       "      <td>6</td>\n",
       "      <td>...</td>\n",
       "      <td>0.014286</td>\n",
       "      <td>0.004762</td>\n",
       "      <td>0.142857</td>\n",
       "      <td>0.014286</td>\n",
       "      <td>0.004762</td>\n",
       "      <td>0.142857</td>\n",
       "      <td>0.014286</td>\n",
       "      <td>0.004762</td>\n",
       "      <td>1.137948</td>\n",
       "      <td>1.288057</td>\n",
       "    </tr>\n",
       "    <tr>\n",
       "      <th>96394</th>\n",
       "      <td>96751</td>\n",
       "      <td>5142226486</td>\n",
       "      <td>2006-12-31</td>\n",
       "      <td>4503057341100</td>\n",
       "      <td>TECH PAC, INC</td>\n",
       "      <td>OH</td>\n",
       "      <td>45150</td>\n",
       "      <td>363.56</td>\n",
       "      <td>0</td>\n",
       "      <td>6</td>\n",
       "      <td>...</td>\n",
       "      <td>0.040816</td>\n",
       "      <td>0.006667</td>\n",
       "      <td>0.095238</td>\n",
       "      <td>0.040816</td>\n",
       "      <td>0.006667</td>\n",
       "      <td>0.095238</td>\n",
       "      <td>0.040816</td>\n",
       "      <td>0.006667</td>\n",
       "      <td>1.201338</td>\n",
       "      <td>1.106055</td>\n",
       "    </tr>\n",
       "    <tr>\n",
       "      <th>96395</th>\n",
       "      <td>96752</td>\n",
       "      <td>5142244619</td>\n",
       "      <td>2006-12-31</td>\n",
       "      <td>8834000695412</td>\n",
       "      <td>BUY.COM</td>\n",
       "      <td>CA</td>\n",
       "      <td>92656</td>\n",
       "      <td>2202.03</td>\n",
       "      <td>0</td>\n",
       "      <td>6</td>\n",
       "      <td>...</td>\n",
       "      <td>0.021978</td>\n",
       "      <td>0.002899</td>\n",
       "      <td>0.023810</td>\n",
       "      <td>0.005495</td>\n",
       "      <td>0.000725</td>\n",
       "      <td>0.095238</td>\n",
       "      <td>0.021978</td>\n",
       "      <td>0.002899</td>\n",
       "      <td>1.499767</td>\n",
       "      <td>1.029441</td>\n",
       "    </tr>\n",
       "    <tr>\n",
       "      <th>96396</th>\n",
       "      <td>96753</td>\n",
       "      <td>5142243247</td>\n",
       "      <td>2006-12-31</td>\n",
       "      <td>9108347680006</td>\n",
       "      <td>STAPLES NATIONAL #471</td>\n",
       "      <td>NJ</td>\n",
       "      <td>07606</td>\n",
       "      <td>554.64</td>\n",
       "      <td>0</td>\n",
       "      <td>6</td>\n",
       "      <td>...</td>\n",
       "      <td>0.011905</td>\n",
       "      <td>0.002564</td>\n",
       "      <td>0.047619</td>\n",
       "      <td>0.011905</td>\n",
       "      <td>0.002564</td>\n",
       "      <td>0.047619</td>\n",
       "      <td>0.011905</td>\n",
       "      <td>0.002564</td>\n",
       "      <td>1.233441</td>\n",
       "      <td>1.113448</td>\n",
       "    </tr>\n",
       "  </tbody>\n",
       "</table>\n",
       "<p>96397 rows × 1069 columns</p>\n",
       "</div>"
      ],
      "text/plain": [
       "       recnum     cardnum       date       merchnum              description  \\\n",
       "0           1  5142190439 2006-01-01  5509006296254   FEDEX SHP 12/23/09 AB#   \n",
       "1           2  5142183973 2006-01-01    61003026333  SERVICE MERCHANDISE #81   \n",
       "2           3  5142131721 2006-01-01  4503082993600        OFFICE DEPOT #191   \n",
       "3           4  5142148452 2006-01-01  5509006296254   FEDEX SHP 12/28/09 AB#   \n",
       "4           5  5142190439 2006-01-01  5509006296254   FEDEX SHP 12/23/09 AB#   \n",
       "...       ...         ...        ...            ...                      ...   \n",
       "96392   96749  5142276053 2006-12-31  3500000006160   BEST BUY      00001610   \n",
       "96393   96750  5142225701 2006-12-31  8090710030950   MARKUS OFFICE SUPPLIES   \n",
       "96394   96751  5142226486 2006-12-31  4503057341100            TECH PAC, INC   \n",
       "96395   96752  5142244619 2006-12-31  8834000695412                  BUY.COM   \n",
       "96396   96753  5142243247 2006-12-31  9108347680006    STAPLES NATIONAL #471   \n",
       "\n",
       "      state   zip5   amount  Fraud  dow  ...  \\\n",
       "0        TN  38118     3.62      0    6  ...   \n",
       "1        MA  01803    31.42      0    6  ...   \n",
       "2        MD  20706   178.49      0    6  ...   \n",
       "3        TN  38118     3.62      0    6  ...   \n",
       "4        TN  38118     3.62      0    6  ...   \n",
       "...     ...    ...      ...    ...  ...  ...   \n",
       "96392    KY  41042    84.79      0    6  ...   \n",
       "96393    OH  45248   118.75      0    6  ...   \n",
       "96394    OH  45150   363.56      0    6  ...   \n",
       "96395    CA  92656  2202.03      0    6  ...   \n",
       "96396    NJ  07606   554.64      0    6  ...   \n",
       "\n",
       "       merchnum_description_country_count_1_by_14  \\\n",
       "0                                        0.071429   \n",
       "1                                        0.071429   \n",
       "2                                        0.071429   \n",
       "3                                        0.071429   \n",
       "4                                        0.071429   \n",
       "...                                           ...   \n",
       "96392                                    0.071429   \n",
       "96393                                    0.014286   \n",
       "96394                                    0.040816   \n",
       "96395                                    0.021978   \n",
       "96396                                    0.011905   \n",
       "\n",
       "       merchnum_description_country_count_1_by_30  \\\n",
       "0                                        0.033333   \n",
       "1                                        0.033333   \n",
       "2                                        0.033333   \n",
       "3                                        0.033333   \n",
       "4                                        0.033333   \n",
       "...                                           ...   \n",
       "96392                                    0.033333   \n",
       "96393                                    0.004762   \n",
       "96394                                    0.006667   \n",
       "96395                                    0.002899   \n",
       "96396                                    0.002564   \n",
       "\n",
       "      merchnum_description_state_zip5_country_count_0_by_7  \\\n",
       "0                                               0.142857     \n",
       "1                                               0.142857     \n",
       "2                                               0.142857     \n",
       "3                                               0.142857     \n",
       "4                                               0.142857     \n",
       "...                                                  ...     \n",
       "96392                                           0.142857     \n",
       "96393                                           0.142857     \n",
       "96394                                           0.095238     \n",
       "96395                                           0.023810     \n",
       "96396                                           0.047619     \n",
       "\n",
       "      merchnum_description_state_zip5_country_count_0_by_14  \\\n",
       "0                                               0.071429      \n",
       "1                                               0.071429      \n",
       "2                                               0.071429      \n",
       "3                                               0.071429      \n",
       "4                                               0.071429      \n",
       "...                                                  ...      \n",
       "96392                                           0.071429      \n",
       "96393                                           0.014286      \n",
       "96394                                           0.040816      \n",
       "96395                                           0.005495      \n",
       "96396                                           0.011905      \n",
       "\n",
       "      merchnum_description_state_zip5_country_count_0_by_30  \\\n",
       "0                                               0.033333      \n",
       "1                                               0.033333      \n",
       "2                                               0.033333      \n",
       "3                                               0.033333      \n",
       "4                                               0.033333      \n",
       "...                                                  ...      \n",
       "96392                                           0.033333      \n",
       "96393                                           0.004762      \n",
       "96394                                           0.006667      \n",
       "96395                                           0.000725      \n",
       "96396                                           0.002564      \n",
       "\n",
       "      merchnum_description_state_zip5_country_count_1_by_7  \\\n",
       "0                                               0.142857     \n",
       "1                                               0.142857     \n",
       "2                                               0.142857     \n",
       "3                                               0.142857     \n",
       "4                                               0.142857     \n",
       "...                                                  ...     \n",
       "96392                                           0.142857     \n",
       "96393                                           0.142857     \n",
       "96394                                           0.095238     \n",
       "96395                                           0.095238     \n",
       "96396                                           0.047619     \n",
       "\n",
       "      merchnum_description_state_zip5_country_count_1_by_14  \\\n",
       "0                                               0.071429      \n",
       "1                                               0.071429      \n",
       "2                                               0.071429      \n",
       "3                                               0.071429      \n",
       "4                                               0.071429      \n",
       "...                                                  ...      \n",
       "96392                                           0.071429      \n",
       "96393                                           0.014286      \n",
       "96394                                           0.040816      \n",
       "96395                                           0.021978      \n",
       "96396                                           0.011905      \n",
       "\n",
       "      merchnum_description_state_zip5_country_count_1_by_30 U*_cardnum  \\\n",
       "0                                               0.033333      2.178008   \n",
       "1                                               0.033333      1.604857   \n",
       "2                                               0.033333      2.368143   \n",
       "3                                               0.033333      1.044105   \n",
       "4                                               0.033333      2.178008   \n",
       "...                                                  ...           ...   \n",
       "96392                                           0.033333      1.002393   \n",
       "96393                                           0.004762      1.137948   \n",
       "96394                                           0.006667      1.201338   \n",
       "96395                                           0.002899      1.499767   \n",
       "96396                                           0.002564      1.233441   \n",
       "\n",
       "      U*_merchnum  \n",
       "0             NaN  \n",
       "1        1.000894  \n",
       "2        1.025818  \n",
       "3             NaN  \n",
       "4             NaN  \n",
       "...           ...  \n",
       "96392    1.000894  \n",
       "96393    1.288057  \n",
       "96394    1.106055  \n",
       "96395    1.029441  \n",
       "96396    1.113448  \n",
       "\n",
       "[96397 rows x 1069 columns]"
      ]
     },
     "execution_count": 60,
     "metadata": {},
     "output_type": "execute_result"
    }
   ],
   "source": [
    "final = final.merge(cardnums_Ustar,\n",
    "                    how='left',\n",
    "                    left_on='cardnum',\n",
    "                    right_on=cardnums_Ustar.index)\n",
    "final = final.rename(columns={'U*': 'U*_cardnum'})\n",
    "final = final.merge(merchnums_Ustar,\n",
    "                    how='left',\n",
    "                    left_on='merchnum',\n",
    "                    right_on=merchnums_Ustar.index)\n",
    "final = final.rename(columns={'U*': 'U*_merchnum'})\n",
    "final"
   ]
  },
  {
   "cell_type": "code",
   "execution_count": 61,
   "id": "40b64687",
   "metadata": {
    "ExecuteTime": {
     "end_time": "2022-04-08T07:01:38.698321Z",
     "start_time": "2022-04-08T07:00:54.728370Z"
    },
    "hidden": true
   },
   "outputs": [
    {
     "data": {
      "text/html": [
       "<div>\n",
       "<style scoped>\n",
       "    .dataframe tbody tr th:only-of-type {\n",
       "        vertical-align: middle;\n",
       "    }\n",
       "\n",
       "    .dataframe tbody tr th {\n",
       "        vertical-align: top;\n",
       "    }\n",
       "\n",
       "    .dataframe thead th {\n",
       "        text-align: right;\n",
       "    }\n",
       "</style>\n",
       "<table border=\"1\" class=\"dataframe\">\n",
       "  <thead>\n",
       "    <tr style=\"text-align: right;\">\n",
       "      <th></th>\n",
       "      <th>recnum</th>\n",
       "      <th>cardnum</th>\n",
       "      <th>date</th>\n",
       "      <th>merchnum</th>\n",
       "      <th>description</th>\n",
       "      <th>state</th>\n",
       "      <th>zip5</th>\n",
       "      <th>amount</th>\n",
       "      <th>Fraud</th>\n",
       "      <th>dow</th>\n",
       "      <th>...</th>\n",
       "      <th>merchnum_description_country_count_1_by_14</th>\n",
       "      <th>merchnum_description_country_count_1_by_30</th>\n",
       "      <th>merchnum_description_state_zip5_country_count_0_by_7</th>\n",
       "      <th>merchnum_description_state_zip5_country_count_0_by_14</th>\n",
       "      <th>merchnum_description_state_zip5_country_count_0_by_30</th>\n",
       "      <th>merchnum_description_state_zip5_country_count_1_by_7</th>\n",
       "      <th>merchnum_description_state_zip5_country_count_1_by_14</th>\n",
       "      <th>merchnum_description_state_zip5_country_count_1_by_30</th>\n",
       "      <th>U*_cardnum</th>\n",
       "      <th>U*_merchnum</th>\n",
       "    </tr>\n",
       "  </thead>\n",
       "  <tbody>\n",
       "    <tr>\n",
       "      <th>0</th>\n",
       "      <td>1</td>\n",
       "      <td>5142190439</td>\n",
       "      <td>2006-01-01</td>\n",
       "      <td>5509006296254</td>\n",
       "      <td>FEDEX SHP 12/23/09 AB#</td>\n",
       "      <td>TN</td>\n",
       "      <td>38118</td>\n",
       "      <td>3.62</td>\n",
       "      <td>0</td>\n",
       "      <td>6</td>\n",
       "      <td>...</td>\n",
       "      <td>0.071429</td>\n",
       "      <td>0.033333</td>\n",
       "      <td>0.142857</td>\n",
       "      <td>0.071429</td>\n",
       "      <td>0.033333</td>\n",
       "      <td>0.142857</td>\n",
       "      <td>0.071429</td>\n",
       "      <td>0.033333</td>\n",
       "      <td>2.178008</td>\n",
       "      <td>NaN</td>\n",
       "    </tr>\n",
       "    <tr>\n",
       "      <th>1</th>\n",
       "      <td>2</td>\n",
       "      <td>5142183973</td>\n",
       "      <td>2006-01-01</td>\n",
       "      <td>61003026333</td>\n",
       "      <td>SERVICE MERCHANDISE #81</td>\n",
       "      <td>MA</td>\n",
       "      <td>01803</td>\n",
       "      <td>31.42</td>\n",
       "      <td>0</td>\n",
       "      <td>6</td>\n",
       "      <td>...</td>\n",
       "      <td>0.071429</td>\n",
       "      <td>0.033333</td>\n",
       "      <td>0.142857</td>\n",
       "      <td>0.071429</td>\n",
       "      <td>0.033333</td>\n",
       "      <td>0.142857</td>\n",
       "      <td>0.071429</td>\n",
       "      <td>0.033333</td>\n",
       "      <td>1.604857</td>\n",
       "      <td>1.000894</td>\n",
       "    </tr>\n",
       "    <tr>\n",
       "      <th>2</th>\n",
       "      <td>3</td>\n",
       "      <td>5142131721</td>\n",
       "      <td>2006-01-01</td>\n",
       "      <td>4503082993600</td>\n",
       "      <td>OFFICE DEPOT #191</td>\n",
       "      <td>MD</td>\n",
       "      <td>20706</td>\n",
       "      <td>178.49</td>\n",
       "      <td>0</td>\n",
       "      <td>6</td>\n",
       "      <td>...</td>\n",
       "      <td>0.071429</td>\n",
       "      <td>0.033333</td>\n",
       "      <td>0.142857</td>\n",
       "      <td>0.071429</td>\n",
       "      <td>0.033333</td>\n",
       "      <td>0.142857</td>\n",
       "      <td>0.071429</td>\n",
       "      <td>0.033333</td>\n",
       "      <td>2.368143</td>\n",
       "      <td>1.025818</td>\n",
       "    </tr>\n",
       "    <tr>\n",
       "      <th>3</th>\n",
       "      <td>4</td>\n",
       "      <td>5142148452</td>\n",
       "      <td>2006-01-01</td>\n",
       "      <td>5509006296254</td>\n",
       "      <td>FEDEX SHP 12/28/09 AB#</td>\n",
       "      <td>TN</td>\n",
       "      <td>38118</td>\n",
       "      <td>3.62</td>\n",
       "      <td>0</td>\n",
       "      <td>6</td>\n",
       "      <td>...</td>\n",
       "      <td>0.071429</td>\n",
       "      <td>0.033333</td>\n",
       "      <td>0.142857</td>\n",
       "      <td>0.071429</td>\n",
       "      <td>0.033333</td>\n",
       "      <td>0.142857</td>\n",
       "      <td>0.071429</td>\n",
       "      <td>0.033333</td>\n",
       "      <td>1.044105</td>\n",
       "      <td>NaN</td>\n",
       "    </tr>\n",
       "    <tr>\n",
       "      <th>4</th>\n",
       "      <td>5</td>\n",
       "      <td>5142190439</td>\n",
       "      <td>2006-01-01</td>\n",
       "      <td>5509006296254</td>\n",
       "      <td>FEDEX SHP 12/23/09 AB#</td>\n",
       "      <td>TN</td>\n",
       "      <td>38118</td>\n",
       "      <td>3.62</td>\n",
       "      <td>0</td>\n",
       "      <td>6</td>\n",
       "      <td>...</td>\n",
       "      <td>0.071429</td>\n",
       "      <td>0.033333</td>\n",
       "      <td>0.142857</td>\n",
       "      <td>0.071429</td>\n",
       "      <td>0.033333</td>\n",
       "      <td>0.142857</td>\n",
       "      <td>0.071429</td>\n",
       "      <td>0.033333</td>\n",
       "      <td>2.178008</td>\n",
       "      <td>NaN</td>\n",
       "    </tr>\n",
       "  </tbody>\n",
       "</table>\n",
       "<p>5 rows × 1069 columns</p>\n",
       "</div>"
      ],
      "text/plain": [
       "   recnum     cardnum       date       merchnum              description  \\\n",
       "0       1  5142190439 2006-01-01  5509006296254   FEDEX SHP 12/23/09 AB#   \n",
       "1       2  5142183973 2006-01-01    61003026333  SERVICE MERCHANDISE #81   \n",
       "2       3  5142131721 2006-01-01  4503082993600        OFFICE DEPOT #191   \n",
       "3       4  5142148452 2006-01-01  5509006296254   FEDEX SHP 12/28/09 AB#   \n",
       "4       5  5142190439 2006-01-01  5509006296254   FEDEX SHP 12/23/09 AB#   \n",
       "\n",
       "  state   zip5  amount  Fraud  dow  ...  \\\n",
       "0    TN  38118    3.62      0    6  ...   \n",
       "1    MA  01803   31.42      0    6  ...   \n",
       "2    MD  20706  178.49      0    6  ...   \n",
       "3    TN  38118    3.62      0    6  ...   \n",
       "4    TN  38118    3.62      0    6  ...   \n",
       "\n",
       "   merchnum_description_country_count_1_by_14  \\\n",
       "0                                    0.071429   \n",
       "1                                    0.071429   \n",
       "2                                    0.071429   \n",
       "3                                    0.071429   \n",
       "4                                    0.071429   \n",
       "\n",
       "   merchnum_description_country_count_1_by_30  \\\n",
       "0                                    0.033333   \n",
       "1                                    0.033333   \n",
       "2                                    0.033333   \n",
       "3                                    0.033333   \n",
       "4                                    0.033333   \n",
       "\n",
       "  merchnum_description_state_zip5_country_count_0_by_7  \\\n",
       "0                                           0.142857     \n",
       "1                                           0.142857     \n",
       "2                                           0.142857     \n",
       "3                                           0.142857     \n",
       "4                                           0.142857     \n",
       "\n",
       "  merchnum_description_state_zip5_country_count_0_by_14  \\\n",
       "0                                           0.071429      \n",
       "1                                           0.071429      \n",
       "2                                           0.071429      \n",
       "3                                           0.071429      \n",
       "4                                           0.071429      \n",
       "\n",
       "  merchnum_description_state_zip5_country_count_0_by_30  \\\n",
       "0                                           0.033333      \n",
       "1                                           0.033333      \n",
       "2                                           0.033333      \n",
       "3                                           0.033333      \n",
       "4                                           0.033333      \n",
       "\n",
       "  merchnum_description_state_zip5_country_count_1_by_7  \\\n",
       "0                                           0.142857     \n",
       "1                                           0.142857     \n",
       "2                                           0.142857     \n",
       "3                                           0.142857     \n",
       "4                                           0.142857     \n",
       "\n",
       "  merchnum_description_state_zip5_country_count_1_by_14  \\\n",
       "0                                           0.071429      \n",
       "1                                           0.071429      \n",
       "2                                           0.071429      \n",
       "3                                           0.071429      \n",
       "4                                           0.071429      \n",
       "\n",
       "  merchnum_description_state_zip5_country_count_1_by_30 U*_cardnum U*_merchnum  \n",
       "0                                           0.033333      2.178008         NaN  \n",
       "1                                           0.033333      1.604857    1.000894  \n",
       "2                                           0.033333      2.368143    1.025818  \n",
       "3                                           0.033333      1.044105         NaN  \n",
       "4                                           0.033333      2.178008         NaN  \n",
       "\n",
       "[5 rows x 1069 columns]"
      ]
     },
     "execution_count": 61,
     "metadata": {},
     "output_type": "execute_result"
    }
   ],
   "source": [
    "data = data.merge(cardnums_Ustar,\n",
    "                  how='left',\n",
    "                  left_on='cardnum',\n",
    "                  right_on=cardnums_Ustar.index)\n",
    "data = data.rename(columns={'U*': 'U*_cardnum'})\n",
    "data = data.merge(merchnums_Ustar,\n",
    "                  how='left',\n",
    "                  left_on='merchnum',\n",
    "                  right_on=merchnums_Ustar.index)\n",
    "data = data.rename(columns={'U*': 'U*_merchnum'})\n",
    "data.head()"
   ]
  },
  {
   "cell_type": "code",
   "execution_count": 62,
   "id": "ae11a1ed",
   "metadata": {
    "ExecuteTime": {
     "end_time": "2022-04-08T07:01:38.703860Z",
     "start_time": "2022-04-08T07:01:38.699701Z"
    },
    "hidden": true
   },
   "outputs": [
    {
     "data": {
      "text/plain": [
       "72"
      ]
     },
     "execution_count": 62,
     "metadata": {},
     "output_type": "execute_result"
    }
   ],
   "source": [
    "final['U*_cardnum'].isna().sum()"
   ]
  },
  {
   "cell_type": "code",
   "execution_count": 63,
   "id": "7ae5cb53",
   "metadata": {
    "ExecuteTime": {
     "end_time": "2022-04-08T07:01:38.708241Z",
     "start_time": "2022-04-08T07:01:38.705079Z"
    },
    "hidden": true
   },
   "outputs": [
    {
     "data": {
      "text/plain": [
       "11775"
      ]
     },
     "execution_count": 63,
     "metadata": {},
     "output_type": "execute_result"
    }
   ],
   "source": [
    "final['U*_merchnum'].isna().sum()"
   ]
  },
  {
   "cell_type": "code",
   "execution_count": 64,
   "id": "4fbf9f22",
   "metadata": {
    "ExecuteTime": {
     "end_time": "2022-04-08T07:01:39.680859Z",
     "start_time": "2022-04-08T07:01:38.709504Z"
    },
    "hidden": true
   },
   "outputs": [
    {
     "data": {
      "text/plain": [
       "array(['06-3666654612'], dtype=object)"
      ]
     },
     "execution_count": 64,
     "metadata": {},
     "output_type": "execute_result"
    }
   ],
   "source": [
    "data[data['description'] == 'GRAINGER #973'].merchnum.unique()"
   ]
  },
  {
   "cell_type": "code",
   "execution_count": 65,
   "id": "d760ce06",
   "metadata": {
    "ExecuteTime": {
     "end_time": "2022-04-08T07:01:39.707340Z",
     "start_time": "2022-04-08T07:01:39.682813Z"
    },
    "hidden": true
   },
   "outputs": [
    {
     "data": {
      "text/html": [
       "<div>\n",
       "<style scoped>\n",
       "    .dataframe tbody tr th:only-of-type {\n",
       "        vertical-align: middle;\n",
       "    }\n",
       "\n",
       "    .dataframe tbody tr th {\n",
       "        vertical-align: top;\n",
       "    }\n",
       "\n",
       "    .dataframe thead th {\n",
       "        text-align: right;\n",
       "    }\n",
       "</style>\n",
       "<table border=\"1\" class=\"dataframe\">\n",
       "  <thead>\n",
       "    <tr style=\"text-align: right;\">\n",
       "      <th></th>\n",
       "      <th>recnum</th>\n",
       "      <th>cardnum</th>\n",
       "      <th>date</th>\n",
       "      <th>merchnum</th>\n",
       "      <th>description</th>\n",
       "      <th>state</th>\n",
       "      <th>zip5</th>\n",
       "      <th>amount</th>\n",
       "      <th>Fraud</th>\n",
       "      <th>dow</th>\n",
       "      <th>...</th>\n",
       "      <th>merchnum_description_country_count_1_by_14</th>\n",
       "      <th>merchnum_description_country_count_1_by_30</th>\n",
       "      <th>merchnum_description_state_zip5_country_count_0_by_7</th>\n",
       "      <th>merchnum_description_state_zip5_country_count_0_by_14</th>\n",
       "      <th>merchnum_description_state_zip5_country_count_0_by_30</th>\n",
       "      <th>merchnum_description_state_zip5_country_count_1_by_7</th>\n",
       "      <th>merchnum_description_state_zip5_country_count_1_by_14</th>\n",
       "      <th>merchnum_description_state_zip5_country_count_1_by_30</th>\n",
       "      <th>U*_cardnum</th>\n",
       "      <th>U*_merchnum</th>\n",
       "    </tr>\n",
       "  </thead>\n",
       "  <tbody>\n",
       "    <tr>\n",
       "      <th>0</th>\n",
       "      <td>1</td>\n",
       "      <td>5142190439</td>\n",
       "      <td>2006-01-01</td>\n",
       "      <td>5509006296254</td>\n",
       "      <td>FEDEX SHP 12/23/09 AB#</td>\n",
       "      <td>TN</td>\n",
       "      <td>38118</td>\n",
       "      <td>3.62</td>\n",
       "      <td>0</td>\n",
       "      <td>6</td>\n",
       "      <td>...</td>\n",
       "      <td>0.071429</td>\n",
       "      <td>0.033333</td>\n",
       "      <td>0.142857</td>\n",
       "      <td>0.071429</td>\n",
       "      <td>0.033333</td>\n",
       "      <td>0.142857</td>\n",
       "      <td>0.071429</td>\n",
       "      <td>0.033333</td>\n",
       "      <td>2.178008</td>\n",
       "      <td>1.933194</td>\n",
       "    </tr>\n",
       "    <tr>\n",
       "      <th>1</th>\n",
       "      <td>2</td>\n",
       "      <td>5142183973</td>\n",
       "      <td>2006-01-01</td>\n",
       "      <td>61003026333</td>\n",
       "      <td>SERVICE MERCHANDISE #81</td>\n",
       "      <td>MA</td>\n",
       "      <td>01803</td>\n",
       "      <td>31.42</td>\n",
       "      <td>0</td>\n",
       "      <td>6</td>\n",
       "      <td>...</td>\n",
       "      <td>0.071429</td>\n",
       "      <td>0.033333</td>\n",
       "      <td>0.142857</td>\n",
       "      <td>0.071429</td>\n",
       "      <td>0.033333</td>\n",
       "      <td>0.142857</td>\n",
       "      <td>0.071429</td>\n",
       "      <td>0.033333</td>\n",
       "      <td>1.604857</td>\n",
       "      <td>1.000894</td>\n",
       "    </tr>\n",
       "    <tr>\n",
       "      <th>2</th>\n",
       "      <td>3</td>\n",
       "      <td>5142131721</td>\n",
       "      <td>2006-01-01</td>\n",
       "      <td>4503082993600</td>\n",
       "      <td>OFFICE DEPOT #191</td>\n",
       "      <td>MD</td>\n",
       "      <td>20706</td>\n",
       "      <td>178.49</td>\n",
       "      <td>0</td>\n",
       "      <td>6</td>\n",
       "      <td>...</td>\n",
       "      <td>0.071429</td>\n",
       "      <td>0.033333</td>\n",
       "      <td>0.142857</td>\n",
       "      <td>0.071429</td>\n",
       "      <td>0.033333</td>\n",
       "      <td>0.142857</td>\n",
       "      <td>0.071429</td>\n",
       "      <td>0.033333</td>\n",
       "      <td>2.368143</td>\n",
       "      <td>1.025818</td>\n",
       "    </tr>\n",
       "    <tr>\n",
       "      <th>3</th>\n",
       "      <td>4</td>\n",
       "      <td>5142148452</td>\n",
       "      <td>2006-01-01</td>\n",
       "      <td>5509006296254</td>\n",
       "      <td>FEDEX SHP 12/28/09 AB#</td>\n",
       "      <td>TN</td>\n",
       "      <td>38118</td>\n",
       "      <td>3.62</td>\n",
       "      <td>0</td>\n",
       "      <td>6</td>\n",
       "      <td>...</td>\n",
       "      <td>0.071429</td>\n",
       "      <td>0.033333</td>\n",
       "      <td>0.142857</td>\n",
       "      <td>0.071429</td>\n",
       "      <td>0.033333</td>\n",
       "      <td>0.142857</td>\n",
       "      <td>0.071429</td>\n",
       "      <td>0.033333</td>\n",
       "      <td>1.044105</td>\n",
       "      <td>1.933194</td>\n",
       "    </tr>\n",
       "    <tr>\n",
       "      <th>4</th>\n",
       "      <td>5</td>\n",
       "      <td>5142190439</td>\n",
       "      <td>2006-01-01</td>\n",
       "      <td>5509006296254</td>\n",
       "      <td>FEDEX SHP 12/23/09 AB#</td>\n",
       "      <td>TN</td>\n",
       "      <td>38118</td>\n",
       "      <td>3.62</td>\n",
       "      <td>0</td>\n",
       "      <td>6</td>\n",
       "      <td>...</td>\n",
       "      <td>0.071429</td>\n",
       "      <td>0.033333</td>\n",
       "      <td>0.142857</td>\n",
       "      <td>0.071429</td>\n",
       "      <td>0.033333</td>\n",
       "      <td>0.142857</td>\n",
       "      <td>0.071429</td>\n",
       "      <td>0.033333</td>\n",
       "      <td>2.178008</td>\n",
       "      <td>1.933194</td>\n",
       "    </tr>\n",
       "  </tbody>\n",
       "</table>\n",
       "<p>5 rows × 1069 columns</p>\n",
       "</div>"
      ],
      "text/plain": [
       "   recnum     cardnum       date       merchnum              description  \\\n",
       "0       1  5142190439 2006-01-01  5509006296254   FEDEX SHP 12/23/09 AB#   \n",
       "1       2  5142183973 2006-01-01    61003026333  SERVICE MERCHANDISE #81   \n",
       "2       3  5142131721 2006-01-01  4503082993600        OFFICE DEPOT #191   \n",
       "3       4  5142148452 2006-01-01  5509006296254   FEDEX SHP 12/28/09 AB#   \n",
       "4       5  5142190439 2006-01-01  5509006296254   FEDEX SHP 12/23/09 AB#   \n",
       "\n",
       "  state   zip5  amount  Fraud  dow  ...  \\\n",
       "0    TN  38118    3.62      0    6  ...   \n",
       "1    MA  01803   31.42      0    6  ...   \n",
       "2    MD  20706  178.49      0    6  ...   \n",
       "3    TN  38118    3.62      0    6  ...   \n",
       "4    TN  38118    3.62      0    6  ...   \n",
       "\n",
       "   merchnum_description_country_count_1_by_14  \\\n",
       "0                                    0.071429   \n",
       "1                                    0.071429   \n",
       "2                                    0.071429   \n",
       "3                                    0.071429   \n",
       "4                                    0.071429   \n",
       "\n",
       "   merchnum_description_country_count_1_by_30  \\\n",
       "0                                    0.033333   \n",
       "1                                    0.033333   \n",
       "2                                    0.033333   \n",
       "3                                    0.033333   \n",
       "4                                    0.033333   \n",
       "\n",
       "  merchnum_description_state_zip5_country_count_0_by_7  \\\n",
       "0                                           0.142857     \n",
       "1                                           0.142857     \n",
       "2                                           0.142857     \n",
       "3                                           0.142857     \n",
       "4                                           0.142857     \n",
       "\n",
       "  merchnum_description_state_zip5_country_count_0_by_14  \\\n",
       "0                                           0.071429      \n",
       "1                                           0.071429      \n",
       "2                                           0.071429      \n",
       "3                                           0.071429      \n",
       "4                                           0.071429      \n",
       "\n",
       "  merchnum_description_state_zip5_country_count_0_by_30  \\\n",
       "0                                           0.033333      \n",
       "1                                           0.033333      \n",
       "2                                           0.033333      \n",
       "3                                           0.033333      \n",
       "4                                           0.033333      \n",
       "\n",
       "  merchnum_description_state_zip5_country_count_1_by_7  \\\n",
       "0                                           0.142857     \n",
       "1                                           0.142857     \n",
       "2                                           0.142857     \n",
       "3                                           0.142857     \n",
       "4                                           0.142857     \n",
       "\n",
       "  merchnum_description_state_zip5_country_count_1_by_14  \\\n",
       "0                                           0.071429      \n",
       "1                                           0.071429      \n",
       "2                                           0.071429      \n",
       "3                                           0.071429      \n",
       "4                                           0.071429      \n",
       "\n",
       "  merchnum_description_state_zip5_country_count_1_by_30 U*_cardnum U*_merchnum  \n",
       "0                                           0.033333      2.178008    1.933194  \n",
       "1                                           0.033333      1.604857    1.000894  \n",
       "2                                           0.033333      2.368143    1.025818  \n",
       "3                                           0.033333      1.044105    1.933194  \n",
       "4                                           0.033333      2.178008    1.933194  \n",
       "\n",
       "[5 rows x 1069 columns]"
      ]
     },
     "execution_count": 65,
     "metadata": {},
     "output_type": "execute_result"
    }
   ],
   "source": [
    "data['U*_merchnum'] = data['U*_merchnum'].fillna(data['U*_merchnum'].mean())\n",
    "data['U*_cardnum'] = data['U*_cardnum'].fillna(data['U*_cardnum'].mean())\n",
    "data.head()"
   ]
  },
  {
   "cell_type": "code",
   "execution_count": null,
   "id": "189e6208",
   "metadata": {},
   "outputs": [],
   "source": [
    "# data.to_csv('final_vars.csv')"
   ]
  }
 ],
 "metadata": {
  "kernelspec": {
   "display_name": "Python 3",
   "language": "python",
   "name": "python3"
  },
  "language_info": {
   "codemirror_mode": {
    "name": "ipython",
    "version": 3
   },
   "file_extension": ".py",
   "mimetype": "text/x-python",
   "name": "python",
   "nbconvert_exporter": "python",
   "pygments_lexer": "ipython3",
   "version": "3.8.8"
  },
  "latex_envs": {
   "LaTeX_envs_menu_present": true,
   "autoclose": false,
   "autocomplete": true,
   "bibliofile": "biblio.bib",
   "cite_by": "apalike",
   "current_citInitial": 1,
   "eqLabelWithNumbers": true,
   "eqNumInitial": 1,
   "hotkeys": {
    "equation": "Ctrl-E",
    "itemize": "Ctrl-I"
   },
   "labels_anchors": false,
   "latex_user_defs": false,
   "report_style_numbering": false,
   "user_envs_cfg": false
  },
  "toc": {
   "base_numbering": 1,
   "nav_menu": {},
   "number_sections": true,
   "sideBar": true,
   "skip_h1_title": false,
   "title_cell": "Table of Contents",
   "title_sidebar": "Contents",
   "toc_cell": false,
   "toc_position": {},
   "toc_section_display": true,
   "toc_window_display": false
  },
  "varInspector": {
   "cols": {
    "lenName": 16,
    "lenType": 16,
    "lenVar": 40
   },
   "kernels_config": {
    "python": {
     "delete_cmd_postfix": "",
     "delete_cmd_prefix": "del ",
     "library": "var_list.py",
     "varRefreshCmd": "print(var_dic_list())"
    },
    "r": {
     "delete_cmd_postfix": ") ",
     "delete_cmd_prefix": "rm(",
     "library": "var_list.r",
     "varRefreshCmd": "cat(var_dic_list()) "
    }
   },
   "position": {
    "height": "437.852px",
    "left": "2053.99px",
    "right": "20px",
    "top": "120px",
    "width": "326.006px"
   },
   "types_to_exclude": [
    "module",
    "function",
    "builtin_function_or_method",
    "instance",
    "_Feature"
   ],
   "window_display": true
  }
 },
 "nbformat": 4,
 "nbformat_minor": 5
}
