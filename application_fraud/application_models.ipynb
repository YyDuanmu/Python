{
 "cells": [
  {
   "cell_type": "markdown",
   "id": "2676940c",
   "metadata": {},
   "source": [
    "# Modeling"
   ]
  },
  {
   "cell_type": "code",
   "execution_count": 1008,
   "id": "384db0a5",
   "metadata": {
    "ExecuteTime": {
     "end_time": "2022-03-24T09:33:17.476688Z",
     "start_time": "2022-03-24T09:33:17.470218Z"
    },
    "scrolled": false
   },
   "outputs": [
    {
     "name": "stdout",
     "output_type": "stream",
     "text": [
      "LOAD DURATION:  0:00:00.001451\n"
     ]
    }
   ],
   "source": [
    "from datetime import datetime\n",
    "\n",
    "start_time = datetime.now()\n",
    "\n",
    "# Libraries to load\n",
    "# !pip install lightgbm\n",
    "\n",
    "import pandas as pd\n",
    "from sklearn.model_selection import train_test_split\n",
    "from sklearn.tree import DecisionTreeClassifier\n",
    "from sklearn.linear_model import LogisticRegression\n",
    "from sklearn.ensemble import RandomForestClassifier\n",
    "from sklearn.neural_network import MLPClassifier\n",
    "import lightgbm as lgb\n",
    "import xgboost as xgb\n",
    "import catboost as cat\n",
    "import numpy as np\n",
    "%matplotlib inline\n",
    "\n",
    "print('LOAD DURATION: ',\n",
    "      datetime.now() - start_time)  # load time about 30 seconds"
   ]
  },
  {
   "cell_type": "code",
   "execution_count": 1009,
   "id": "e0b47c54",
   "metadata": {
    "ExecuteTime": {
     "end_time": "2022-03-24T09:33:18.189678Z",
     "start_time": "2022-03-24T09:33:17.772981Z"
    }
   },
   "outputs": [
    {
     "name": "stdout",
     "output_type": "stream",
     "text": [
      "CPU times: user 325 ms, sys: 82.6 ms, total: 408 ms\n",
      "Wall time: 413 ms\n"
     ]
    }
   ],
   "source": [
    "%%time\n",
    "vars = pd.read_csv('vars_final_save1.csv')"
   ]
  },
  {
   "cell_type": "code",
   "execution_count": 1010,
   "id": "d1cbbd6e",
   "metadata": {
    "ExecuteTime": {
     "end_time": "2022-03-24T09:33:18.401403Z",
     "start_time": "2022-03-24T09:33:18.399486Z"
    }
   },
   "outputs": [],
   "source": [
    "# use this to cap variables. For some problems it helps\n",
    "Clip = 10"
   ]
  },
  {
   "cell_type": "code",
   "execution_count": 1011,
   "id": "5224dac1",
   "metadata": {
    "ExecuteTime": {
     "end_time": "2022-03-24T09:33:18.594727Z",
     "start_time": "2022-03-24T09:33:18.590803Z"
    }
   },
   "outputs": [
    {
     "data": {
      "text/plain": [
       "14393"
      ]
     },
     "execution_count": 1011,
     "metadata": {},
     "output_type": "execute_result"
    }
   ],
   "source": [
    "vars['fraud_label'].sum()"
   ]
  },
  {
   "cell_type": "code",
   "execution_count": 1012,
   "id": "ca9fc16f",
   "metadata": {
    "ExecuteTime": {
     "end_time": "2022-03-24T09:33:18.806564Z",
     "start_time": "2022-03-24T09:33:18.797687Z"
    },
    "scrolled": false
   },
   "outputs": [
    {
     "data": {
      "text/html": [
       "<div>\n",
       "<style scoped>\n",
       "    .dataframe tbody tr th:only-of-type {\n",
       "        vertical-align: middle;\n",
       "    }\n",
       "\n",
       "    .dataframe tbody tr th {\n",
       "        vertical-align: top;\n",
       "    }\n",
       "\n",
       "    .dataframe thead th {\n",
       "        text-align: right;\n",
       "    }\n",
       "</style>\n",
       "<table border=\"1\" class=\"dataframe\">\n",
       "  <thead>\n",
       "    <tr style=\"text-align: right;\">\n",
       "      <th></th>\n",
       "      <th>fulladdress_count_30</th>\n",
       "      <th>ssn_firstname_count_30</th>\n",
       "      <th>homephone_count_3</th>\n",
       "      <th>ssn_dob_day_since</th>\n",
       "      <th>fulladdress_homephone_day_since</th>\n",
       "      <th>record</th>\n",
       "      <th>fraud_label</th>\n",
       "    </tr>\n",
       "  </thead>\n",
       "  <tbody>\n",
       "    <tr>\n",
       "      <th>0</th>\n",
       "      <td>1</td>\n",
       "      <td>1</td>\n",
       "      <td>1</td>\n",
       "      <td>365.0</td>\n",
       "      <td>365.0</td>\n",
       "      <td>1</td>\n",
       "      <td>0</td>\n",
       "    </tr>\n",
       "    <tr>\n",
       "      <th>1</th>\n",
       "      <td>1</td>\n",
       "      <td>1</td>\n",
       "      <td>1</td>\n",
       "      <td>365.0</td>\n",
       "      <td>365.0</td>\n",
       "      <td>2</td>\n",
       "      <td>1</td>\n",
       "    </tr>\n",
       "    <tr>\n",
       "      <th>2</th>\n",
       "      <td>1</td>\n",
       "      <td>1</td>\n",
       "      <td>1</td>\n",
       "      <td>365.0</td>\n",
       "      <td>365.0</td>\n",
       "      <td>3</td>\n",
       "      <td>0</td>\n",
       "    </tr>\n",
       "    <tr>\n",
       "      <th>3</th>\n",
       "      <td>1</td>\n",
       "      <td>1</td>\n",
       "      <td>1</td>\n",
       "      <td>365.0</td>\n",
       "      <td>365.0</td>\n",
       "      <td>4</td>\n",
       "      <td>0</td>\n",
       "    </tr>\n",
       "    <tr>\n",
       "      <th>4</th>\n",
       "      <td>1</td>\n",
       "      <td>1</td>\n",
       "      <td>1</td>\n",
       "      <td>365.0</td>\n",
       "      <td>365.0</td>\n",
       "      <td>5</td>\n",
       "      <td>0</td>\n",
       "    </tr>\n",
       "    <tr>\n",
       "      <th>5</th>\n",
       "      <td>1</td>\n",
       "      <td>1</td>\n",
       "      <td>1</td>\n",
       "      <td>365.0</td>\n",
       "      <td>365.0</td>\n",
       "      <td>6</td>\n",
       "      <td>0</td>\n",
       "    </tr>\n",
       "    <tr>\n",
       "      <th>6</th>\n",
       "      <td>1</td>\n",
       "      <td>1</td>\n",
       "      <td>1</td>\n",
       "      <td>365.0</td>\n",
       "      <td>365.0</td>\n",
       "      <td>7</td>\n",
       "      <td>0</td>\n",
       "    </tr>\n",
       "    <tr>\n",
       "      <th>7</th>\n",
       "      <td>1</td>\n",
       "      <td>1</td>\n",
       "      <td>1</td>\n",
       "      <td>365.0</td>\n",
       "      <td>365.0</td>\n",
       "      <td>8</td>\n",
       "      <td>0</td>\n",
       "    </tr>\n",
       "    <tr>\n",
       "      <th>8</th>\n",
       "      <td>1</td>\n",
       "      <td>1</td>\n",
       "      <td>1</td>\n",
       "      <td>365.0</td>\n",
       "      <td>365.0</td>\n",
       "      <td>9</td>\n",
       "      <td>0</td>\n",
       "    </tr>\n",
       "    <tr>\n",
       "      <th>9</th>\n",
       "      <td>1</td>\n",
       "      <td>1</td>\n",
       "      <td>1</td>\n",
       "      <td>365.0</td>\n",
       "      <td>365.0</td>\n",
       "      <td>10</td>\n",
       "      <td>0</td>\n",
       "    </tr>\n",
       "  </tbody>\n",
       "</table>\n",
       "</div>"
      ],
      "text/plain": [
       "   fulladdress_count_30  ssn_firstname_count_30  homephone_count_3  \\\n",
       "0                     1                       1                  1   \n",
       "1                     1                       1                  1   \n",
       "2                     1                       1                  1   \n",
       "3                     1                       1                  1   \n",
       "4                     1                       1                  1   \n",
       "5                     1                       1                  1   \n",
       "6                     1                       1                  1   \n",
       "7                     1                       1                  1   \n",
       "8                     1                       1                  1   \n",
       "9                     1                       1                  1   \n",
       "\n",
       "   ssn_dob_day_since  fulladdress_homephone_day_since  record  fraud_label  \n",
       "0              365.0                            365.0       1            0  \n",
       "1              365.0                            365.0       2            1  \n",
       "2              365.0                            365.0       3            0  \n",
       "3              365.0                            365.0       4            0  \n",
       "4              365.0                            365.0       5            0  \n",
       "5              365.0                            365.0       6            0  \n",
       "6              365.0                            365.0       7            0  \n",
       "7              365.0                            365.0       8            0  \n",
       "8              365.0                            365.0       9            0  \n",
       "9              365.0                            365.0      10            0  "
      ]
     },
     "execution_count": 1012,
     "metadata": {},
     "output_type": "execute_result"
    }
   ],
   "source": [
    "vars.head(10)"
   ]
  },
  {
   "cell_type": "code",
   "execution_count": 1013,
   "id": "cf58a289",
   "metadata": {
    "ExecuteTime": {
     "end_time": "2022-03-24T09:33:19.018629Z",
     "start_time": "2022-03-24T09:33:19.015237Z"
    }
   },
   "outputs": [
    {
     "data": {
      "text/plain": [
       "(1000000, 7)"
      ]
     },
     "execution_count": 1013,
     "metadata": {},
     "output_type": "execute_result"
    }
   ],
   "source": [
    "vars.shape"
   ]
  },
  {
   "cell_type": "code",
   "execution_count": 1014,
   "id": "1f4399e4",
   "metadata": {
    "ExecuteTime": {
     "end_time": "2022-03-24T09:33:19.653347Z",
     "start_time": "2022-03-24T09:33:19.474646Z"
    },
    "scrolled": false
   },
   "outputs": [
    {
     "data": {
      "text/html": [
       "<div>\n",
       "<style scoped>\n",
       "    .dataframe tbody tr th:only-of-type {\n",
       "        vertical-align: middle;\n",
       "    }\n",
       "\n",
       "    .dataframe tbody tr th {\n",
       "        vertical-align: top;\n",
       "    }\n",
       "\n",
       "    .dataframe thead th {\n",
       "        text-align: right;\n",
       "    }\n",
       "</style>\n",
       "<table border=\"1\" class=\"dataframe\">\n",
       "  <thead>\n",
       "    <tr style=\"text-align: right;\">\n",
       "      <th></th>\n",
       "      <th>fulladdress_count_30</th>\n",
       "      <th>ssn_firstname_count_30</th>\n",
       "      <th>homephone_count_3</th>\n",
       "      <th>ssn_dob_day_since</th>\n",
       "      <th>fulladdress_homephone_day_since</th>\n",
       "      <th>record</th>\n",
       "      <th>fraud_label</th>\n",
       "    </tr>\n",
       "  </thead>\n",
       "  <tbody>\n",
       "    <tr>\n",
       "      <th>count</th>\n",
       "      <td>1000000.000000</td>\n",
       "      <td>1000000.000000</td>\n",
       "      <td>1000000.000000</td>\n",
       "      <td>1000000.000000</td>\n",
       "      <td>1000000.000000</td>\n",
       "      <td>1000000.000000</td>\n",
       "      <td>1000000.000000</td>\n",
       "    </tr>\n",
       "    <tr>\n",
       "      <th>mean</th>\n",
       "      <td>1.064624</td>\n",
       "      <td>1.048903</td>\n",
       "      <td>1.449296</td>\n",
       "      <td>331.283191</td>\n",
       "      <td>329.790635</td>\n",
       "      <td>500000.500000</td>\n",
       "      <td>0.014393</td>\n",
       "    </tr>\n",
       "    <tr>\n",
       "      <th>std</th>\n",
       "      <td>0.633831</td>\n",
       "      <td>0.499029</td>\n",
       "      <td>0.861622</td>\n",
       "      <td>91.969721</td>\n",
       "      <td>93.675714</td>\n",
       "      <td>288675.278933</td>\n",
       "      <td>0.119104</td>\n",
       "    </tr>\n",
       "    <tr>\n",
       "      <th>min</th>\n",
       "      <td>1.000000</td>\n",
       "      <td>1.000000</td>\n",
       "      <td>1.000000</td>\n",
       "      <td>0.000000</td>\n",
       "      <td>0.000000</td>\n",
       "      <td>1.000000</td>\n",
       "      <td>0.000000</td>\n",
       "    </tr>\n",
       "    <tr>\n",
       "      <th>25%</th>\n",
       "      <td>1.000000</td>\n",
       "      <td>1.000000</td>\n",
       "      <td>1.000000</td>\n",
       "      <td>365.000000</td>\n",
       "      <td>365.000000</td>\n",
       "      <td>250000.750000</td>\n",
       "      <td>0.000000</td>\n",
       "    </tr>\n",
       "    <tr>\n",
       "      <th>50%</th>\n",
       "      <td>1.000000</td>\n",
       "      <td>1.000000</td>\n",
       "      <td>1.000000</td>\n",
       "      <td>365.000000</td>\n",
       "      <td>365.000000</td>\n",
       "      <td>500000.500000</td>\n",
       "      <td>0.000000</td>\n",
       "    </tr>\n",
       "    <tr>\n",
       "      <th>75%</th>\n",
       "      <td>1.000000</td>\n",
       "      <td>1.000000</td>\n",
       "      <td>2.000000</td>\n",
       "      <td>365.000000</td>\n",
       "      <td>365.000000</td>\n",
       "      <td>750000.250000</td>\n",
       "      <td>0.000000</td>\n",
       "    </tr>\n",
       "    <tr>\n",
       "      <th>max</th>\n",
       "      <td>30.000000</td>\n",
       "      <td>34.000000</td>\n",
       "      <td>32.000000</td>\n",
       "      <td>365.000000</td>\n",
       "      <td>365.000000</td>\n",
       "      <td>1000000.000000</td>\n",
       "      <td>1.000000</td>\n",
       "    </tr>\n",
       "  </tbody>\n",
       "</table>\n",
       "</div>"
      ],
      "text/plain": [
       "       fulladdress_count_30  ssn_firstname_count_30  homephone_count_3  \\\n",
       "count        1000000.000000          1000000.000000     1000000.000000   \n",
       "mean               1.064624                1.048903           1.449296   \n",
       "std                0.633831                0.499029           0.861622   \n",
       "min                1.000000                1.000000           1.000000   \n",
       "25%                1.000000                1.000000           1.000000   \n",
       "50%                1.000000                1.000000           1.000000   \n",
       "75%                1.000000                1.000000           2.000000   \n",
       "max               30.000000               34.000000          32.000000   \n",
       "\n",
       "       ssn_dob_day_since  fulladdress_homephone_day_since          record  \\\n",
       "count     1000000.000000                   1000000.000000  1000000.000000   \n",
       "mean          331.283191                       329.790635   500000.500000   \n",
       "std            91.969721                        93.675714   288675.278933   \n",
       "min             0.000000                         0.000000        1.000000   \n",
       "25%           365.000000                       365.000000   250000.750000   \n",
       "50%           365.000000                       365.000000   500000.500000   \n",
       "75%           365.000000                       365.000000   750000.250000   \n",
       "max           365.000000                       365.000000  1000000.000000   \n",
       "\n",
       "          fraud_label  \n",
       "count  1000000.000000  \n",
       "mean         0.014393  \n",
       "std          0.119104  \n",
       "min          0.000000  \n",
       "25%          0.000000  \n",
       "50%          0.000000  \n",
       "75%          0.000000  \n",
       "max          1.000000  "
      ]
     },
     "execution_count": 1014,
     "metadata": {},
     "output_type": "execute_result"
    }
   ],
   "source": [
    "vars.describe()"
   ]
  },
  {
   "cell_type": "code",
   "execution_count": 1015,
   "id": "b716602b",
   "metadata": {
    "ExecuteTime": {
     "end_time": "2022-03-24T09:33:23.448751Z",
     "start_time": "2022-03-24T09:33:23.439215Z"
    }
   },
   "outputs": [
    {
     "data": {
      "text/html": [
       "<div>\n",
       "<style scoped>\n",
       "    .dataframe tbody tr th:only-of-type {\n",
       "        vertical-align: middle;\n",
       "    }\n",
       "\n",
       "    .dataframe tbody tr th {\n",
       "        vertical-align: top;\n",
       "    }\n",
       "\n",
       "    .dataframe thead th {\n",
       "        text-align: right;\n",
       "    }\n",
       "</style>\n",
       "<table border=\"1\" class=\"dataframe\">\n",
       "  <thead>\n",
       "    <tr style=\"text-align: right;\">\n",
       "      <th></th>\n",
       "      <th>fraud_label</th>\n",
       "    </tr>\n",
       "  </thead>\n",
       "  <tbody>\n",
       "    <tr>\n",
       "      <th>0</th>\n",
       "      <td>0</td>\n",
       "    </tr>\n",
       "    <tr>\n",
       "      <th>1</th>\n",
       "      <td>1</td>\n",
       "    </tr>\n",
       "    <tr>\n",
       "      <th>2</th>\n",
       "      <td>0</td>\n",
       "    </tr>\n",
       "    <tr>\n",
       "      <th>3</th>\n",
       "      <td>0</td>\n",
       "    </tr>\n",
       "    <tr>\n",
       "      <th>4</th>\n",
       "      <td>0</td>\n",
       "    </tr>\n",
       "  </tbody>\n",
       "</table>\n",
       "</div>"
      ],
      "text/plain": [
       "   fraud_label\n",
       "0            0\n",
       "1            1\n",
       "2            0\n",
       "3            0\n",
       "4            0"
      ]
     },
     "execution_count": 1015,
     "metadata": {},
     "output_type": "execute_result"
    }
   ],
   "source": [
    "record_save = vars['record']\n",
    "Y_save = pd.DataFrame(vars.loc[:, 'fraud_label'])\n",
    "Y_save.head()"
   ]
  },
  {
   "cell_type": "markdown",
   "id": "a6cd12fd",
   "metadata": {},
   "source": [
    "## Scale and truncate field values"
   ]
  },
  {
   "cell_type": "code",
   "execution_count": 1016,
   "id": "fa0a9666",
   "metadata": {
    "ExecuteTime": {
     "end_time": "2022-03-24T09:33:23.975024Z",
     "start_time": "2022-03-24T09:33:23.822763Z"
    }
   },
   "outputs": [
    {
     "data": {
      "text/html": [
       "<div>\n",
       "<style scoped>\n",
       "    .dataframe tbody tr th:only-of-type {\n",
       "        vertical-align: middle;\n",
       "    }\n",
       "\n",
       "    .dataframe tbody tr th {\n",
       "        vertical-align: top;\n",
       "    }\n",
       "\n",
       "    .dataframe thead th {\n",
       "        text-align: right;\n",
       "    }\n",
       "</style>\n",
       "<table border=\"1\" class=\"dataframe\">\n",
       "  <thead>\n",
       "    <tr style=\"text-align: right;\">\n",
       "      <th></th>\n",
       "      <th>fulladdress_count_30</th>\n",
       "      <th>ssn_firstname_count_30</th>\n",
       "      <th>homephone_count_3</th>\n",
       "      <th>ssn_dob_day_since</th>\n",
       "      <th>fulladdress_homephone_day_since</th>\n",
       "    </tr>\n",
       "  </thead>\n",
       "  <tbody>\n",
       "    <tr>\n",
       "      <th>count</th>\n",
       "      <td>1000000.000000</td>\n",
       "      <td>1000000.000000</td>\n",
       "      <td>1000000.000000</td>\n",
       "      <td>1000000.000000</td>\n",
       "      <td>1000000.000000</td>\n",
       "    </tr>\n",
       "    <tr>\n",
       "      <th>mean</th>\n",
       "      <td>1.064624</td>\n",
       "      <td>1.048903</td>\n",
       "      <td>1.449296</td>\n",
       "      <td>331.283191</td>\n",
       "      <td>329.790635</td>\n",
       "    </tr>\n",
       "    <tr>\n",
       "      <th>std</th>\n",
       "      <td>0.633831</td>\n",
       "      <td>0.499029</td>\n",
       "      <td>0.861622</td>\n",
       "      <td>91.969721</td>\n",
       "      <td>93.675714</td>\n",
       "    </tr>\n",
       "    <tr>\n",
       "      <th>min</th>\n",
       "      <td>1.000000</td>\n",
       "      <td>1.000000</td>\n",
       "      <td>1.000000</td>\n",
       "      <td>0.000000</td>\n",
       "      <td>0.000000</td>\n",
       "    </tr>\n",
       "    <tr>\n",
       "      <th>25%</th>\n",
       "      <td>1.000000</td>\n",
       "      <td>1.000000</td>\n",
       "      <td>1.000000</td>\n",
       "      <td>365.000000</td>\n",
       "      <td>365.000000</td>\n",
       "    </tr>\n",
       "    <tr>\n",
       "      <th>50%</th>\n",
       "      <td>1.000000</td>\n",
       "      <td>1.000000</td>\n",
       "      <td>1.000000</td>\n",
       "      <td>365.000000</td>\n",
       "      <td>365.000000</td>\n",
       "    </tr>\n",
       "    <tr>\n",
       "      <th>75%</th>\n",
       "      <td>1.000000</td>\n",
       "      <td>1.000000</td>\n",
       "      <td>2.000000</td>\n",
       "      <td>365.000000</td>\n",
       "      <td>365.000000</td>\n",
       "    </tr>\n",
       "    <tr>\n",
       "      <th>max</th>\n",
       "      <td>30.000000</td>\n",
       "      <td>34.000000</td>\n",
       "      <td>32.000000</td>\n",
       "      <td>365.000000</td>\n",
       "      <td>365.000000</td>\n",
       "    </tr>\n",
       "  </tbody>\n",
       "</table>\n",
       "</div>"
      ],
      "text/plain": [
       "       fulladdress_count_30  ssn_firstname_count_30  homephone_count_3  \\\n",
       "count        1000000.000000          1000000.000000     1000000.000000   \n",
       "mean               1.064624                1.048903           1.449296   \n",
       "std                0.633831                0.499029           0.861622   \n",
       "min                1.000000                1.000000           1.000000   \n",
       "25%                1.000000                1.000000           1.000000   \n",
       "50%                1.000000                1.000000           1.000000   \n",
       "75%                1.000000                1.000000           2.000000   \n",
       "max               30.000000               34.000000          32.000000   \n",
       "\n",
       "       ssn_dob_day_since  fulladdress_homephone_day_since  \n",
       "count     1000000.000000                   1000000.000000  \n",
       "mean          331.283191                       329.790635  \n",
       "std            91.969721                        93.675714  \n",
       "min             0.000000                         0.000000  \n",
       "25%           365.000000                       365.000000  \n",
       "50%           365.000000                       365.000000  \n",
       "75%           365.000000                       365.000000  \n",
       "max           365.000000                       365.000000  "
      ]
     },
     "execution_count": 1016,
     "metadata": {},
     "output_type": "execute_result"
    }
   ],
   "source": [
    "X_no_scaling = vars.drop(columns=['record', 'fraud_label'])\n",
    "X_no_scaling.describe()"
   ]
  },
  {
   "cell_type": "code",
   "execution_count": 1017,
   "id": "2c01a141",
   "metadata": {
    "ExecuteTime": {
     "end_time": "2022-03-24T09:33:24.613830Z",
     "start_time": "2022-03-24T09:33:24.550957Z"
    },
    "scrolled": true
   },
   "outputs": [],
   "source": [
    "X = (X_no_scaling - X_no_scaling.mean()) / X_no_scaling.std()"
   ]
  },
  {
   "cell_type": "code",
   "execution_count": 1018,
   "id": "921c5674",
   "metadata": {
    "ExecuteTime": {
     "end_time": "2022-03-24T09:33:25.757761Z",
     "start_time": "2022-03-24T09:33:25.359385Z"
    },
    "scrolled": true
   },
   "outputs": [
    {
     "data": {
      "text/html": [
       "<div>\n",
       "<style scoped>\n",
       "    .dataframe tbody tr th:only-of-type {\n",
       "        vertical-align: middle;\n",
       "    }\n",
       "\n",
       "    .dataframe tbody tr th {\n",
       "        vertical-align: top;\n",
       "    }\n",
       "\n",
       "    .dataframe thead th {\n",
       "        text-align: right;\n",
       "    }\n",
       "</style>\n",
       "<table border=\"1\" class=\"dataframe\">\n",
       "  <thead>\n",
       "    <tr style=\"text-align: right;\">\n",
       "      <th></th>\n",
       "      <th>fulladdress_count_30</th>\n",
       "      <th>ssn_firstname_count_30</th>\n",
       "      <th>homephone_count_3</th>\n",
       "      <th>ssn_dob_day_since</th>\n",
       "      <th>fulladdress_homephone_day_since</th>\n",
       "    </tr>\n",
       "  </thead>\n",
       "  <tbody>\n",
       "    <tr>\n",
       "      <th>count</th>\n",
       "      <td>1000000.000000</td>\n",
       "      <td>1000000.000000</td>\n",
       "      <td>1000000.000000</td>\n",
       "      <td>1.000000e+06</td>\n",
       "      <td>1.000000e+06</td>\n",
       "    </tr>\n",
       "    <tr>\n",
       "      <th>mean</th>\n",
       "      <td>-0.018176</td>\n",
       "      <td>-0.017457</td>\n",
       "      <td>-0.005814</td>\n",
       "      <td>5.598172e-13</td>\n",
       "      <td>-1.073916e-12</td>\n",
       "    </tr>\n",
       "    <tr>\n",
       "      <th>std</th>\n",
       "      <td>0.631721</td>\n",
       "      <td>0.579481</td>\n",
       "      <td>0.910935</td>\n",
       "      <td>1.000000e+00</td>\n",
       "      <td>1.000000e+00</td>\n",
       "    </tr>\n",
       "    <tr>\n",
       "      <th>min</th>\n",
       "      <td>-0.101958</td>\n",
       "      <td>-0.097996</td>\n",
       "      <td>-0.521454</td>\n",
       "      <td>-3.602090e+00</td>\n",
       "      <td>-3.520556e+00</td>\n",
       "    </tr>\n",
       "    <tr>\n",
       "      <th>25%</th>\n",
       "      <td>-0.101958</td>\n",
       "      <td>-0.097996</td>\n",
       "      <td>-0.521454</td>\n",
       "      <td>3.666077e-01</td>\n",
       "      <td>3.758644e-01</td>\n",
       "    </tr>\n",
       "    <tr>\n",
       "      <th>50%</th>\n",
       "      <td>-0.101958</td>\n",
       "      <td>-0.097996</td>\n",
       "      <td>-0.521454</td>\n",
       "      <td>3.666077e-01</td>\n",
       "      <td>3.758644e-01</td>\n",
       "    </tr>\n",
       "    <tr>\n",
       "      <th>75%</th>\n",
       "      <td>-0.101958</td>\n",
       "      <td>-0.097996</td>\n",
       "      <td>0.639148</td>\n",
       "      <td>3.666077e-01</td>\n",
       "      <td>3.758644e-01</td>\n",
       "    </tr>\n",
       "    <tr>\n",
       "      <th>max</th>\n",
       "      <td>10.000000</td>\n",
       "      <td>10.000000</td>\n",
       "      <td>10.000000</td>\n",
       "      <td>3.666077e-01</td>\n",
       "      <td>3.758644e-01</td>\n",
       "    </tr>\n",
       "  </tbody>\n",
       "</table>\n",
       "</div>"
      ],
      "text/plain": [
       "       fulladdress_count_30  ssn_firstname_count_30  homephone_count_3  \\\n",
       "count        1000000.000000          1000000.000000     1000000.000000   \n",
       "mean              -0.018176               -0.017457          -0.005814   \n",
       "std                0.631721                0.579481           0.910935   \n",
       "min               -0.101958               -0.097996          -0.521454   \n",
       "25%               -0.101958               -0.097996          -0.521454   \n",
       "50%               -0.101958               -0.097996          -0.521454   \n",
       "75%               -0.101958               -0.097996           0.639148   \n",
       "max               10.000000               10.000000          10.000000   \n",
       "\n",
       "       ssn_dob_day_since  fulladdress_homephone_day_since  \n",
       "count       1.000000e+06                     1.000000e+06  \n",
       "mean        5.598172e-13                    -1.073916e-12  \n",
       "std         1.000000e+00                     1.000000e+00  \n",
       "min        -3.602090e+00                    -3.520556e+00  \n",
       "25%         3.666077e-01                     3.758644e-01  \n",
       "50%         3.666077e-01                     3.758644e-01  \n",
       "75%         3.666077e-01                     3.758644e-01  \n",
       "max         3.666077e-01                     3.758644e-01  "
      ]
     },
     "execution_count": 1018,
     "metadata": {},
     "output_type": "execute_result"
    }
   ],
   "source": [
    "# push in any outlier values\n",
    "cols = X.columns\n",
    "X.loc[:, cols] = X[cols].clip(upper=Clip)\n",
    "X.loc[:, cols] = X[cols].clip(lower=-1 * Clip)\n",
    "# X = (X_no_scaling - X_no_scaling.mean()) / X_no_scaling.std()\n",
    "X.describe()"
   ]
  },
  {
   "cell_type": "code",
   "execution_count": 1019,
   "id": "5e62efa7",
   "metadata": {
    "ExecuteTime": {
     "end_time": "2022-03-24T09:33:25.976563Z",
     "start_time": "2022-03-24T09:33:25.958546Z"
    },
    "scrolled": true
   },
   "outputs": [],
   "source": [
    "# separate data into modeling (traintest) and out of time\n",
    "X_trntst = X[0:833507]\n",
    "Y_trntst = Y_save[0:833507]\n",
    "X_oot = X[833507:]\n",
    "Y_oot = Y_save[833507:]"
   ]
  },
  {
   "cell_type": "code",
   "execution_count": 1020,
   "id": "78ac8d15",
   "metadata": {
    "ExecuteTime": {
     "end_time": "2022-03-24T09:33:26.613225Z",
     "start_time": "2022-03-24T09:33:26.604095Z"
    },
    "scrolled": true
   },
   "outputs": [],
   "source": [
    "niter = 0\n",
    "nitermax = 3\n",
    "FDR3 = pd.DataFrame(np.zeros((nitermax, 3)), columns=('trn', 'tst', 'oot'))\n",
    "X_oot_orig = X_oot.copy()\n",
    "pd.options.mode.chained_assignment = None  # default='warn'"
   ]
  },
  {
   "cell_type": "code",
   "execution_count": 1029,
   "id": "68485c0c",
   "metadata": {
    "ExecuteTime": {
     "end_time": "2022-03-24T09:37:05.523966Z",
     "start_time": "2022-03-24T09:36:54.743383Z"
    }
   },
   "outputs": [
    {
     "name": "stdout",
     "output_type": "stream",
     "text": [
      "0 0.5228642325416519 0.5253950338600452 0.510896898575021\n",
      "1 0.5216970869092228 0.5265131226566685 0.510896898575021\n",
      "2 0.5240533460347702 0.5220282626766417 0.5104777870913663\n",
      "trn    0.522872\n",
      "tst    0.524645\n",
      "oot    0.510757\n",
      "dtype: float64\n",
      "CPU times: user 14.2 s, sys: 1.96 s, total: 16.2 s\n",
      "Wall time: 10.8 s\n"
     ]
    }
   ],
   "source": [
    "%%time\n",
    "# Logistic regression\n",
    "\n",
    "for niter in range(nitermax):\n",
    "    X_trn, X_tst, Y_trn, Y_tst = train_test_split(X_trntst,\n",
    "                                                  Y_trntst,\n",
    "                                                  test_size=.3)\n",
    "\n",
    "    model = LogisticRegression(penalty='elasticnet',\n",
    "                               C=1,\n",
    "                               solver='saga',\n",
    "                               l1_ratio=0.4)\n",
    "\n",
    "    X_oot = X_oot_orig.copy()\n",
    "    X_trn_save = X_trn.copy()\n",
    "    Y_trn_save = Y_trn.copy()\n",
    "\n",
    "    model.fit(X_trn, Y_trn.values.ravel())\n",
    "\n",
    "    predictions = model.predict_proba(X_trn_save)[:, 1]\n",
    "    X_trn['predicted'] = predictions\n",
    "    X_trn['fraud_label'] = Y_trn_save['fraud_label']\n",
    "    topRows = int(round(X_trn.shape[0] * 0.03))\n",
    "    temp = X_trn.sort_values('predicted', ascending=False).head(topRows)\n",
    "    needed = temp.loc[:, 'fraud_label']\n",
    "    FDR3.loc[niter, 'trn'] = sum(needed) / sum(X_trn.loc[:, 'fraud_label'])\n",
    "\n",
    "    predictions = model.predict_proba(X_tst)[:, 1]\n",
    "    X_tst['predicted'] = predictions\n",
    "    X_tst['fraud_label'] = Y_tst['fraud_label']\n",
    "    topRows = int(round(X_tst.shape[0] * 0.03))\n",
    "    temp = X_tst.sort_values('predicted', ascending=False).head(topRows)\n",
    "    needed = temp.loc[:, 'fraud_label']\n",
    "    FDR3.loc[niter, 'tst'] = sum(needed) / sum(X_tst.loc[:, 'fraud_label'])\n",
    "\n",
    "    predictions = model.predict_proba(X_oot)[:, 1]\n",
    "    X_oot['predicted'] = predictions\n",
    "    X_oot['fraud_label'] = Y_oot['fraud_label']\n",
    "    topRows = int(round(X_oot.shape[0] * 0.03))\n",
    "    temp = X_oot.sort_values('predicted', ascending=False).head(topRows)\n",
    "    needed = temp.loc[:, 'fraud_label']\n",
    "    FDR3.loc[niter, 'oot'] = sum(needed) / sum(X_oot.loc[:, 'fraud_label'])\n",
    "    print(niter, FDR3.loc[niter, 'trn'], FDR3.loc[niter, 'tst'],\n",
    "          FDR3.loc[niter, 'oot'])\n",
    "\n",
    "print(FDR3.mean())"
   ]
  },
  {
   "cell_type": "markdown",
   "id": "c20b6a5f",
   "metadata": {},
   "source": [
    "## Models. You can comment out any of these cells and just explore one model type. You can also just rerun that single cell multiple times as you explore different model hyperparameters."
   ]
  },
  {
   "cell_type": "markdown",
   "id": "c540253f",
   "metadata": {},
   "source": [
    "### Single Decition Tree"
   ]
  },
  {
   "cell_type": "code",
   "execution_count": 1046,
   "id": "e5186263",
   "metadata": {
    "ExecuteTime": {
     "end_time": "2022-03-24T09:40:09.318639Z",
     "start_time": "2022-03-24T09:40:07.425513Z"
    }
   },
   "outputs": [
    {
     "name": "stdout",
     "output_type": "stream",
     "text": [
      "0 0.5740962413215226 0.5472214618122091 0.5414920368818106\n",
      "1 0.5617380808690404 0.5733476625470177 0.5356244761106455\n",
      "2 0.5732840800762631 0.5579529737206086 0.5456831517183571\n",
      "trn    0.569706\n",
      "tst    0.559507\n",
      "oot    0.540933\n",
      "dtype: float64\n",
      "CPU times: user 1.71 s, sys: 175 ms, total: 1.88 s\n",
      "Wall time: 1.89 s\n"
     ]
    }
   ],
   "source": [
    "%%time\n",
    "# Single DT\n",
    "\n",
    "for niter in range(nitermax):\n",
    "    X_trn, X_tst, Y_trn, Y_tst = train_test_split(X_trntst,\n",
    "                                                  Y_trntst,\n",
    "                                                  test_size=.3)\n",
    "\n",
    "    model = DecisionTreeClassifier(criterion='entropy',\n",
    "                                   max_depth=20,\n",
    "                                   min_samples_leaf=60,\n",
    "                                   splitter='random')\n",
    "\n",
    "    X_oot = X_oot_orig.copy()\n",
    "    X_trn_save = X_trn.copy()\n",
    "    Y_trn_save = Y_trn.copy()\n",
    "\n",
    "    model.fit(X_trn, Y_trn.values.ravel())\n",
    "\n",
    "    predictions = model.predict_proba(X_trn_save)[:, 1]\n",
    "    X_trn['predicted'] = predictions\n",
    "    X_trn['fraud_label'] = Y_trn_save['fraud_label']\n",
    "    topRows = int(round(X_trn.shape[0] * 0.03))\n",
    "    temp = X_trn.sort_values('predicted', ascending=False).head(topRows)\n",
    "    needed = temp.loc[:, 'fraud_label']\n",
    "    FDR3.loc[niter, 'trn'] = sum(needed) / sum(X_trn.loc[:, 'fraud_label'])\n",
    "\n",
    "    predictions = model.predict_proba(X_tst)[:, 1]\n",
    "    X_tst['predicted'] = predictions\n",
    "    X_tst['fraud_label'] = Y_tst['fraud_label']\n",
    "    topRows = int(round(X_tst.shape[0] * 0.03))\n",
    "    temp = X_tst.sort_values('predicted', ascending=False).head(topRows)\n",
    "    needed = temp.loc[:, 'fraud_label']\n",
    "    FDR3.loc[niter, 'tst'] = sum(needed) / sum(X_tst.loc[:, 'fraud_label'])\n",
    "\n",
    "    predictions = model.predict_proba(X_oot)[:, 1]\n",
    "    X_oot['predicted'] = predictions\n",
    "    X_oot['fraud_label'] = Y_oot['fraud_label']\n",
    "    topRows = int(round(X_oot.shape[0] * 0.03))\n",
    "    temp = X_oot.sort_values('predicted', ascending=False).head(topRows)\n",
    "    needed = temp.loc[:, 'fraud_label']\n",
    "    FDR3.loc[niter, 'oot'] = sum(needed) / sum(X_oot.loc[:, 'fraud_label'])\n",
    "    print(niter, FDR3.loc[niter, 'trn'], FDR3.loc[niter, 'tst'],\n",
    "          FDR3.loc[niter, 'oot'])\n",
    "\n",
    "print(FDR3.mean())"
   ]
  },
  {
   "cell_type": "markdown",
   "id": "de8588e4",
   "metadata": {},
   "source": [
    "### Random Forest"
   ]
  },
  {
   "cell_type": "code",
   "execution_count": 1052,
   "id": "d44f4136",
   "metadata": {
    "ExecuteTime": {
     "end_time": "2022-03-24T09:49:07.129346Z",
     "start_time": "2022-03-24T09:48:01.834937Z"
    },
    "scrolled": false
   },
   "outputs": [
    {
     "name": "stdout",
     "output_type": "stream",
     "text": [
      "0 0.5766746411483253 0.564299424184261 0.5511316010058676\n",
      "1 0.5775923718712753 0.5656621509538291 0.5528080469404861\n",
      "2 0.5764636309875814 0.5655968468468469 0.549455155071249\n",
      "trn    0.576910\n",
      "tst    0.565186\n",
      "oot    0.551132\n",
      "dtype: float64\n",
      "CPU times: user 1min 3s, sys: 1.42 s, total: 1min 5s\n",
      "Wall time: 1min 5s\n"
     ]
    }
   ],
   "source": [
    "%%time\n",
    "# RF\n",
    "\n",
    "for niter in range(nitermax):\n",
    "    X_trn, X_tst, Y_trn, Y_tst = train_test_split(X_trntst,\n",
    "                                                  Y_trntst,\n",
    "                                                  test_size=.3)\n",
    "\n",
    "    model = RandomForestClassifier(bootstrap=True,\n",
    "                                   n_estimators=50,\n",
    "                                   max_depth=20,\n",
    "                                   min_samples_leaf=20,\n",
    "                                   criterion='entropy',\n",
    "                                   max_features=4)\n",
    "    X_oot = X_oot_orig.copy()\n",
    "    X_trn_save = X_trn.copy()\n",
    "    Y_trn_save = Y_trn.copy()\n",
    "\n",
    "    model.fit(X_trn, Y_trn.values.ravel())\n",
    "\n",
    "    predictions = model.predict_proba(X_trn_save)[:, 1]\n",
    "    X_trn['predicted'] = predictions\n",
    "    X_trn['fraud_label'] = Y_trn_save['fraud_label']\n",
    "    topRows = int(round(X_trn.shape[0] * 0.03))\n",
    "    temp = X_trn.sort_values('predicted', ascending=False).head(topRows)\n",
    "    needed = temp.loc[:, 'fraud_label']\n",
    "    FDR3.loc[niter, 'trn'] = sum(needed) / sum(X_trn.loc[:, 'fraud_label'])\n",
    "\n",
    "    predictions = model.predict_proba(X_tst)[:, 1]\n",
    "    X_tst['predicted'] = predictions\n",
    "    X_tst['fraud_label'] = Y_tst['fraud_label']\n",
    "    topRows = int(round(X_tst.shape[0] * 0.03))\n",
    "    temp = X_tst.sort_values('predicted', ascending=False).head(topRows)\n",
    "    needed = temp.loc[:, 'fraud_label']\n",
    "    FDR3.loc[niter, 'tst'] = sum(needed) / sum(X_tst.loc[:, 'fraud_label'])\n",
    "\n",
    "    predictions = model.predict_proba(X_oot)[:, 1]\n",
    "    X_oot['predicted'] = predictions\n",
    "    X_oot['fraud_label'] = Y_oot['fraud_label']\n",
    "    topRows = int(round(X_oot.shape[0] * 0.03))\n",
    "    temp = X_oot.sort_values('predicted', ascending=False).head(topRows)\n",
    "    needed = temp.loc[:, 'fraud_label']\n",
    "    FDR3.loc[niter, 'oot'] = sum(needed) / sum(X_oot.loc[:, 'fraud_label'])\n",
    "    print(niter, FDR3.loc[niter, 'trn'], FDR3.loc[niter, 'tst'],\n",
    "          FDR3.loc[niter, 'oot'])\n",
    "\n",
    "print(FDR3.mean())"
   ]
  },
  {
   "cell_type": "markdown",
   "id": "1283963a",
   "metadata": {},
   "source": [
    "### LightGBM"
   ]
  },
  {
   "cell_type": "code",
   "execution_count": 1060,
   "id": "d50101f2",
   "metadata": {
    "ExecuteTime": {
     "end_time": "2022-03-24T10:01:57.872457Z",
     "start_time": "2022-03-24T10:01:00.995156Z"
    },
    "scrolled": false
   },
   "outputs": [
    {
     "name": "stdout",
     "output_type": "stream",
     "text": [
      "0 0.5717367853290184 0.5644104803493449 0.5549036043587594\n",
      "1 0.5676638176638177 0.5738208205414457 0.5540653813914501\n",
      "2 0.5662519627974393 0.5769849785407726 0.5553227158424141\n",
      "trn    0.568551\n",
      "tst    0.571739\n",
      "oot    0.554764\n",
      "dtype: float64\n",
      "CPU times: user 7min 21s, sys: 5.79 s, total: 7min 27s\n",
      "Wall time: 56.9 s\n"
     ]
    }
   ],
   "source": [
    "%%time\n",
    "# BT\n",
    "\n",
    "for niter in range(nitermax):\n",
    "    X_trn, X_tst, Y_trn, Y_tst = train_test_split(X_trntst,\n",
    "                                                  Y_trntst,\n",
    "                                                  test_size=.3)\n",
    "\n",
    "    model = lgb.LGBMClassifier(boosting_type='goss',\n",
    "                               max_depth=7,\n",
    "                               num_leaves=22,\n",
    "                               n_estimators=800,\n",
    "                               colsample_bytree=0.8,\n",
    "                               subsample=0.8,\n",
    "                               learning_rate=0.01)\n",
    "\n",
    "    X_oot = X_oot_orig.copy()\n",
    "    X_trn_save = X_trn.copy()\n",
    "    Y_trn_save = Y_trn.copy()\n",
    "\n",
    "    model.fit(X_trn, Y_trn.values.ravel(), eval_metric='logloss')\n",
    "\n",
    "    predictions = model.predict_proba(X_trn_save)[:, 1]\n",
    "    X_trn['predicted'] = predictions\n",
    "    X_trn['fraud_label'] = Y_trn_save['fraud_label']\n",
    "    topRows = int(round(X_trn.shape[0] * 0.03))\n",
    "    temp = X_trn.sort_values('predicted', ascending=False).head(topRows)\n",
    "    needed = temp.loc[:, 'fraud_label']\n",
    "    FDR3.loc[niter, 'trn'] = sum(needed) / sum(X_trn.loc[:, 'fraud_label'])\n",
    "\n",
    "    predictions = model.predict_proba(X_tst)[:, 1]\n",
    "    X_tst['predicted'] = predictions\n",
    "    X_tst['fraud_label'] = Y_tst['fraud_label']\n",
    "    topRows = int(round(X_tst.shape[0] * 0.03))\n",
    "    temp = X_tst.sort_values('predicted', ascending=False).head(topRows)\n",
    "    needed = temp.loc[:, 'fraud_label']\n",
    "    FDR3.loc[niter, 'tst'] = sum(needed) / sum(X_tst.loc[:, 'fraud_label'])\n",
    "\n",
    "    predictions = model.predict_proba(X_oot)[:, 1]\n",
    "    X_oot['predicted'] = predictions\n",
    "    X_oot['fraud_label'] = Y_oot['fraud_label']\n",
    "    topRows = int(round(X_oot.shape[0] * 0.03))\n",
    "    temp = X_oot.sort_values('predicted', ascending=False).head(topRows)\n",
    "    needed = temp.loc[:, 'fraud_label']\n",
    "    FDR3.loc[niter, 'oot'] = sum(needed) / sum(X_oot.loc[:, 'fraud_label'])\n",
    "    print(niter, FDR3.loc[niter, 'trn'], FDR3.loc[niter, 'tst'],\n",
    "          FDR3.loc[niter, 'oot'])\n",
    "\n",
    "print(FDR3.mean())"
   ]
  },
  {
   "cell_type": "code",
   "execution_count": 1062,
   "id": "2bdc7318",
   "metadata": {
    "ExecuteTime": {
     "end_time": "2022-03-24T10:02:56.511984Z",
     "start_time": "2022-03-24T10:02:56.367182Z"
    }
   },
   "outputs": [
    {
     "data": {
      "text/plain": [
       "<AxesSubplot:title={'center':'Feature importance'}, xlabel='Feature importance', ylabel='Features'>"
      ]
     },
     "execution_count": 1062,
     "metadata": {},
     "output_type": "execute_result"
    },
    {
     "data": {
      "text/plain": [
       "<Figure size 1080x504 with 0 Axes>"
      ]
     },
     "metadata": {},
     "output_type": "display_data"
    },
    {
     "data": {
      "image/png": "[encoded data removed]",
      "text/plain": [
       "<Figure size 432x288 with 1 Axes>"
      ]
     },
     "metadata": {
      "needs_background": "light"
     },
     "output_type": "display_data"
    }
   ],
   "source": [
    "plt.figure(figsize=(15, 7))\n",
    "lgb.plot_importance(model, max_num_features=5)"
   ]
  },
  {
   "cell_type": "markdown",
   "id": "a76f4b2b",
   "metadata": {},
   "source": [
    "### XGBoost"
   ]
  },
  {
   "cell_type": "code",
   "execution_count": 998,
   "id": "03de58f5",
   "metadata": {
    "ExecuteTime": {
     "end_time": "2022-03-24T09:17:55.255070Z",
     "start_time": "2022-03-24T09:17:30.055404Z"
    }
   },
   "outputs": [
    {
     "name": "stdout",
     "output_type": "stream",
     "text": [
      "0 0.5682441292168315 0.5713101160862355 0.5553227158424141\n",
      "1 0.5712750716332379 0.5654089782429083 0.557837384744342\n",
      "2 0.568904593639576 0.570941143019619 0.5557418273260687\n",
      "trn    0.569475\n",
      "tst    0.569220\n",
      "oot    0.556301\n",
      "dtype: float64\n",
      "CPU times: user 3min 7s, sys: 3.6 s, total: 3min 11s\n",
      "Wall time: 24.5 s\n"
     ]
    }
   ],
   "source": [
    "%%time\n",
    "# XG The best time\n",
    "\n",
    "for niter in range(nitermax):\n",
    "    X_trn, X_tst, Y_trn, Y_tst = train_test_split(X_trntst,\n",
    "                                                  Y_trntst,\n",
    "                                                  test_size=.3)\n",
    "\n",
    "    model = xgb.XGBClassifier(use_label_encoder=False,\n",
    "                              max_depth=5,\n",
    "                              n_estimators=100,\n",
    "                              min_child_weight=10,\n",
    "                              colsample_bytree=0.8,\n",
    "                              subsample=0.8,\n",
    "                              eta=0.25,\n",
    "                              tree_method='approx',\n",
    "                              booster='gbtree',\n",
    "                              nthread=8)\n",
    "\n",
    "    X_oot = X_oot_orig.copy()\n",
    "    X_trn_save = X_trn.copy()\n",
    "    Y_trn_save = Y_trn.copy()\n",
    "\n",
    "    model.fit(X_trn, Y_trn.values.ravel(), eval_metric='logloss')\n",
    "\n",
    "    predictions = model.predict_proba(X_trn_save)[:, 1]\n",
    "    X_trn['predicted'] = predictions\n",
    "    X_trn['fraud_label'] = Y_trn_save['fraud_label']\n",
    "    topRows = int(round(X_trn.shape[0] * 0.03))\n",
    "    temp = X_trn.sort_values('predicted', ascending=False).head(topRows)\n",
    "    needed = temp.loc[:, 'fraud_label']\n",
    "    FDR3.loc[niter, 'trn'] = sum(needed) / sum(X_trn.loc[:, 'fraud_label'])\n",
    "\n",
    "    predictions = model.predict_proba(X_tst)[:, 1]\n",
    "    X_tst['predicted'] = predictions\n",
    "    X_tst['fraud_label'] = Y_tst['fraud_label']\n",
    "    topRows = int(round(X_tst.shape[0] * 0.03))\n",
    "    temp = X_tst.sort_values('predicted', ascending=False).head(topRows)\n",
    "    needed = temp.loc[:, 'fraud_label']\n",
    "    FDR3.loc[niter, 'tst'] = sum(needed) / sum(X_tst.loc[:, 'fraud_label'])\n",
    "\n",
    "    predictions = model.predict_proba(X_oot)[:, 1]\n",
    "    X_oot['predicted'] = predictions\n",
    "    X_oot['fraud_label'] = Y_oot['fraud_label']\n",
    "    topRows = int(round(X_oot.shape[0] * 0.03))\n",
    "    temp = X_oot.sort_values('predicted', ascending=False).head(topRows)\n",
    "    needed = temp.loc[:, 'fraud_label']\n",
    "    FDR3.loc[niter, 'oot'] = sum(needed) / sum(X_oot.loc[:, 'fraud_label'])\n",
    "    print(niter, FDR3.loc[niter, 'trn'], FDR3.loc[niter, 'tst'],\n",
    "          FDR3.loc[niter, 'oot'])\n",
    "\n",
    "print(FDR3.mean())"
   ]
  },
  {
   "cell_type": "code",
   "execution_count": 1069,
   "id": "209da175",
   "metadata": {
    "ExecuteTime": {
     "end_time": "2022-03-24T10:18:15.708093Z",
     "start_time": "2022-03-24T10:17:19.472117Z"
    }
   },
   "outputs": [
    {
     "name": "stdout",
     "output_type": "stream",
     "text": [
      "0 0.5686110447047573 0.5698983795660533 0.5553227158424141\n",
      "1 0.565572799431347 0.5768367919237241 0.5553227158424141\n",
      "2 0.5702240423994218 0.5673414304993253 0.5553227158424141\n",
      "trn    0.568136\n",
      "tst    0.571359\n",
      "oot    0.555323\n",
      "dtype: float64\n",
      "CPU times: user 7min 13s, sys: 7.09 s, total: 7min 20s\n",
      "Wall time: 56.2 s\n"
     ]
    }
   ],
   "source": [
    "%%time\n",
    "# XG\n",
    "\n",
    "for niter in range(nitermax):\n",
    "    X_trn, X_tst, Y_trn, Y_tst = train_test_split(X_trntst,\n",
    "                                                  Y_trntst,\n",
    "                                                  test_size=.3)\n",
    "\n",
    "    model = xgb.XGBClassifier(use_label_encoder=False,\n",
    "                              max_depth=5,\n",
    "                              n_estimators=100,\n",
    "                              min_child_weight=10,\n",
    "                              colsample_bytree=0.8,\n",
    "                              subsample=0.8,\n",
    "                              eta=0.25,\n",
    "                              tree_method='approx',\n",
    "                              booster='dart',\n",
    "                              nthread=8)\n",
    "\n",
    "    X_oot = X_oot_orig.copy()\n",
    "    X_trn_save = X_trn.copy()\n",
    "    Y_trn_save = Y_trn.copy()\n",
    "\n",
    "    model.fit(X_trn, Y_trn.values.ravel(), eval_metric='auc')\n",
    "\n",
    "    predictions = model.predict_proba(X_trn_save)[:, 1]\n",
    "    X_trn['predicted'] = predictions\n",
    "    X_trn['fraud_label'] = Y_trn_save['fraud_label']\n",
    "    topRows = int(round(X_trn.shape[0] * 0.03))\n",
    "    temp = X_trn.sort_values('predicted', ascending=False).head(topRows)\n",
    "    needed = temp.loc[:, 'fraud_label']\n",
    "    FDR3.loc[niter, 'trn'] = sum(needed) / sum(X_trn.loc[:, 'fraud_label'])\n",
    "\n",
    "    predictions = model.predict_proba(X_tst)[:, 1]\n",
    "    X_tst['predicted'] = predictions\n",
    "    X_tst['fraud_label'] = Y_tst['fraud_label']\n",
    "    topRows = int(round(X_tst.shape[0] * 0.03))\n",
    "    temp = X_tst.sort_values('predicted', ascending=False).head(topRows)\n",
    "    needed = temp.loc[:, 'fraud_label']\n",
    "    FDR3.loc[niter, 'tst'] = sum(needed) / sum(X_tst.loc[:, 'fraud_label'])\n",
    "\n",
    "    predictions = model.predict_proba(X_oot)[:, 1]\n",
    "    X_oot['predicted'] = predictions\n",
    "    X_oot['fraud_label'] = Y_oot['fraud_label']\n",
    "    topRows = int(round(X_oot.shape[0] * 0.03))\n",
    "    temp = X_oot.sort_values('predicted', ascending=False).head(topRows)\n",
    "    needed = temp.loc[:, 'fraud_label']\n",
    "    FDR3.loc[niter, 'oot'] = sum(needed) / sum(X_oot.loc[:, 'fraud_label'])\n",
    "    print(niter, FDR3.loc[niter, 'trn'], FDR3.loc[niter, 'tst'],\n",
    "          FDR3.loc[niter, 'oot'])\n",
    "\n",
    "print(FDR3.mean())"
   ]
  },
  {
   "cell_type": "markdown",
   "id": "abe964bd",
   "metadata": {},
   "source": [
    "### CatBoost"
   ]
  },
  {
   "cell_type": "code",
   "execution_count": 1077,
   "id": "ef48b231",
   "metadata": {
    "ExecuteTime": {
     "end_time": "2022-03-24T10:39:03.311796Z",
     "start_time": "2022-03-24T10:37:36.520709Z"
    }
   },
   "outputs": [
    {
     "name": "stdout",
     "output_type": "stream",
     "text": [
      "0:\tlearn: 0.6465034\ttotal: 30.7ms\tremaining: 30.6s\n",
      "300:\tlearn: 0.0436439\ttotal: 8.49s\tremaining: 19.7s\n",
      "600:\tlearn: 0.0433636\ttotal: 17.3s\tremaining: 11.5s\n",
      "900:\tlearn: 0.0432204\ttotal: 25.8s\tremaining: 2.84s\n",
      "999:\tlearn: 0.0431895\ttotal: 28.6s\tremaining: 0us\n",
      "0 0.5719051590611224 0.5581073602656337 0.5528080469404861\n",
      "0:\tlearn: 0.6468358\ttotal: 35.8ms\tremaining: 35.8s\n",
      "300:\tlearn: 0.0446621\ttotal: 8.54s\tremaining: 19.8s\n",
      "600:\tlearn: 0.0443996\ttotal: 17s\tremaining: 11.3s\n",
      "900:\tlearn: 0.0442586\ttotal: 25.4s\tremaining: 2.79s\n",
      "999:\tlearn: 0.0442240\ttotal: 28.2s\tremaining: 0us\n",
      "1 0.5612956614257004 0.5837091319052987 0.5536462699077954\n",
      "0:\tlearn: 0.6466162\ttotal: 27ms\tremaining: 26.9s\n",
      "300:\tlearn: 0.0442183\ttotal: 8.32s\tremaining: 19.3s\n",
      "600:\tlearn: 0.0439564\ttotal: 16.6s\tremaining: 11s\n",
      "900:\tlearn: 0.0438197\ttotal: 25.1s\tremaining: 2.75s\n",
      "999:\tlearn: 0.0437806\ttotal: 27.7s\tremaining: 0us\n",
      "2 0.5652896486229819 0.573262629081775 0.5549036043587594\n",
      "trn    0.566163\n",
      "tst    0.571693\n",
      "oot    0.553786\n",
      "dtype: float64\n",
      "CPU times: user 16min 1s, sys: 33.5 s, total: 16min 34s\n",
      "Wall time: 1min 26s\n"
     ]
    }
   ],
   "source": [
    "%%time\n",
    "# CG\n",
    "\n",
    "for niter in range(nitermax):\n",
    "    X_trn, X_tst, Y_trn, Y_tst = train_test_split(X_trntst,\n",
    "                                                  Y_trntst,\n",
    "                                                  test_size=.3)\n",
    "\n",
    "    model = cat.CatBoostClassifier(learning_rate=0.02,\n",
    "                                   iterations=1000,\n",
    "                                   loss_function='Logloss',\n",
    "                                   depth=5,\n",
    "                                   od_wait=300,\n",
    "                                   od_type='Iter',\n",
    "                                   random_state=10,\n",
    "                                   l2_leaf_reg=4,\n",
    "                                   verbose=300)\n",
    "\n",
    "    X_oot = X_oot_orig.copy()\n",
    "    X_trn_save = X_trn.copy()\n",
    "    Y_trn_save = Y_trn.copy()\n",
    "\n",
    "    model.fit(X_trn, Y_trn.values.ravel())\n",
    "\n",
    "    predictions = model.predict_proba(X_trn_save)[:, 1]\n",
    "    X_trn['predicted'] = predictions\n",
    "    X_trn['fraud_label'] = Y_trn_save['fraud_label']\n",
    "    topRows = int(round(X_trn.shape[0] * 0.03))\n",
    "    temp = X_trn.sort_values('predicted', ascending=False).head(topRows)\n",
    "    needed = temp.loc[:, 'fraud_label']\n",
    "    FDR3.loc[niter, 'trn'] = sum(needed) / sum(X_trn.loc[:, 'fraud_label'])\n",
    "\n",
    "    predictions = model.predict_proba(X_tst)[:, 1]\n",
    "    X_tst['predicted'] = predictions\n",
    "    X_tst['fraud_label'] = Y_tst['fraud_label']\n",
    "    topRows = int(round(X_tst.shape[0] * 0.03))\n",
    "    temp = X_tst.sort_values('predicted', ascending=False).head(topRows)\n",
    "    needed = temp.loc[:, 'fraud_label']\n",
    "    FDR3.loc[niter, 'tst'] = sum(needed) / sum(X_tst.loc[:, 'fraud_label'])\n",
    "\n",
    "    predictions = model.predict_proba(X_oot)[:, 1]\n",
    "    X_oot['predicted'] = predictions\n",
    "    X_oot['fraud_label'] = Y_oot['fraud_label']\n",
    "    topRows = int(round(X_oot.shape[0] * 0.03))\n",
    "    temp = X_oot.sort_values('predicted', ascending=False).head(topRows)\n",
    "    needed = temp.loc[:, 'fraud_label']\n",
    "    FDR3.loc[niter, 'oot'] = sum(needed) / sum(X_oot.loc[:, 'fraud_label'])\n",
    "    print(niter, FDR3.loc[niter, 'trn'], FDR3.loc[niter, 'tst'],\n",
    "          FDR3.loc[niter, 'oot'])\n",
    "\n",
    "print(FDR3.mean())"
   ]
  },
  {
   "cell_type": "markdown",
   "id": "1cf8d76d",
   "metadata": {},
   "source": [
    "### NN"
   ]
  },
  {
   "cell_type": "code",
   "execution_count": 1081,
   "id": "487cbf6f",
   "metadata": {
    "ExecuteTime": {
     "end_time": "2022-03-24T10:48:04.853228Z",
     "start_time": "2022-03-24T10:47:23.560411Z"
    },
    "scrolled": false
   },
   "outputs": [
    {
     "name": "stdout",
     "output_type": "stream",
     "text": [
      "0 0.5697867298578199 0.5643397813288478 0.5544844928751048\n",
      "1 0.5678067447978953 0.5679012345679012 0.5544844928751048\n",
      "2 0.564634724857685 0.5737062937062937 0.5532271584241408\n",
      "trn    0.567409\n",
      "tst    0.568649\n",
      "oot    0.554065\n",
      "dtype: float64\n",
      "CPU times: user 3min 44s, sys: 1min 25s, total: 5min 9s\n",
      "Wall time: 41.3 s\n"
     ]
    }
   ],
   "source": [
    "%%time\n",
    "# NN\n",
    "\n",
    "for niter in range(nitermax):\n",
    "    X_trn, X_tst, Y_trn, Y_tst = train_test_split(X_trntst,\n",
    "                                                  Y_trntst,\n",
    "                                                  test_size=.3)\n",
    "\n",
    "    model = MLPClassifier(hidden_layer_sizes=10,\n",
    "                          activation='tanh',\n",
    "                          solver='lbfgs',\n",
    "                          alpha=0.15,\n",
    "                          learning_rate='constant',\n",
    "                          max_iter=200)\n",
    "\n",
    "    X_oot = X_oot_orig.copy()\n",
    "    X_trn_save = X_trn.copy()\n",
    "    Y_trn_save = Y_trn.copy()\n",
    "\n",
    "    model.fit(X_trn, Y_trn.values.ravel())\n",
    "\n",
    "    predictions = model.predict_proba(X_trn_save)[:, 1]\n",
    "    X_trn['predicted'] = predictions\n",
    "    X_trn['fraud_label'] = Y_trn_save['fraud_label']\n",
    "    topRows = int(round(X_trn.shape[0] * 0.03))\n",
    "    temp = X_trn.sort_values('predicted', ascending=False).head(topRows)\n",
    "    needed = temp.loc[:, 'fraud_label']\n",
    "    FDR3.loc[niter, 'trn'] = sum(needed) / sum(X_trn.loc[:, 'fraud_label'])\n",
    "\n",
    "    predictions = model.predict_proba(X_tst)[:, 1]\n",
    "    X_tst['predicted'] = predictions\n",
    "    X_tst['fraud_label'] = Y_tst['fraud_label']\n",
    "    topRows = int(round(X_tst.shape[0] * 0.03))\n",
    "    temp = X_tst.sort_values('predicted', ascending=False).head(topRows)\n",
    "    needed = temp.loc[:, 'fraud_label']\n",
    "    FDR3.loc[niter, 'tst'] = sum(needed) / sum(X_tst.loc[:, 'fraud_label'])\n",
    "\n",
    "    predictions = model.predict_proba(X_oot)[:, 1]\n",
    "    X_oot['predicted'] = predictions\n",
    "    X_oot['fraud_label'] = Y_oot['fraud_label']\n",
    "    topRows = int(round(X_oot.shape[0] * 0.03))\n",
    "    temp = X_oot.sort_values('predicted', ascending=False).head(topRows)\n",
    "    needed = temp.loc[:, 'fraud_label']\n",
    "    FDR3.loc[niter, 'oot'] = sum(needed) / sum(X_oot.loc[:, 'fraud_label'])\n",
    "    print(niter, FDR3.loc[niter, 'trn'], FDR3.loc[niter, 'tst'],\n",
    "          FDR3.loc[niter, 'oot'])\n",
    "\n",
    "print(FDR3.mean())"
   ]
  }
 ],
 "metadata": {
  "kernelspec": {
   "display_name": "Python 3",
   "language": "python",
   "name": "python3"
  },
  "language_info": {
   "codemirror_mode": {
    "name": "ipython",
    "version": 3
   },
   "file_extension": ".py",
   "mimetype": "text/x-python",
   "name": "python",
   "nbconvert_exporter": "python",
   "pygments_lexer": "ipython3",
   "version": "3.8.8"
  },
  "latex_envs": {
   "LaTeX_envs_menu_present": true,
   "autoclose": false,
   "autocomplete": true,
   "bibliofile": "biblio.bib",
   "cite_by": "apalike",
   "current_citInitial": 1,
   "eqLabelWithNumbers": true,
   "eqNumInitial": 1,
   "hotkeys": {
    "equation": "Ctrl-E",
    "itemize": "Ctrl-I"
   },
   "labels_anchors": false,
   "latex_user_defs": false,
   "report_style_numbering": false,
   "user_envs_cfg": false
  },
  "toc": {
   "base_numbering": 1,
   "nav_menu": {},
   "number_sections": true,
   "sideBar": true,
   "skip_h1_title": false,
   "title_cell": "Table of Contents",
   "title_sidebar": "Contents",
   "toc_cell": false,
   "toc_position": {},
   "toc_section_display": true,
   "toc_window_display": false
  },
  "varInspector": {
   "cols": {
    "lenName": 16,
    "lenType": 16,
    "lenVar": 40
   },
   "kernels_config": {
    "python": {
     "delete_cmd_postfix": "",
     "delete_cmd_prefix": "del ",
     "library": "var_list.py",
     "varRefreshCmd": "print(var_dic_list())"
    },
    "r": {
     "delete_cmd_postfix": ") ",
     "delete_cmd_prefix": "rm(",
     "library": "var_list.r",
     "varRefreshCmd": "cat(var_dic_list()) "
    }
   },
   "types_to_exclude": [
    "module",
    "function",
    "builtin_function_or_method",
    "instance",
    "_Feature"
   ],
   "window_display": false
  }
 },
 "nbformat": 4,
 "nbformat_minor": 5
}
