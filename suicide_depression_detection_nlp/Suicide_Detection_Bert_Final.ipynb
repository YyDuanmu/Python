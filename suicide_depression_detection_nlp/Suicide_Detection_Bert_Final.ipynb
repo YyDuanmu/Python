{
 "cells": [
  {
   "cell_type": "markdown",
   "id": "5503c74d",
   "metadata": {},
   "source": [
    "# import packages"
   ]
  },
  {
   "cell_type": "code",
   "execution_count": 1,
   "id": "f5ee95b5",
   "metadata": {
    "ExecuteTime": {
     "end_time": "2023-05-07T11:50:52.547633Z",
     "start_time": "2023-05-07T11:50:41.188377Z"
    },
    "id": "syvJ-zV-U54I"
   },
   "outputs": [],
   "source": [
    "import xgboost as xgb\n",
    "import transformers as ppb  # pytorch transformers\n",
    "import torch.nn as nn\n",
    "import torch\n",
    "import time\n",
    "import string\n",
    "import seaborn as sns\n",
    "import re\n",
    "import pickle\n",
    "import pandas as pd\n",
    "import os\n",
    "import numpy as np\n",
    "import nltk\n",
    "import matplotlib.pyplot as plt\n",
    "import lightgbm as lgb\n",
    "import emoji\n",
    "import catboost as catboost\n",
    "from wordcloud import WordCloud\n",
    "from transformers import BertModel\n",
    "from transformers import BertTokenizer\n",
    "from transformers import BertForSequenceClassification, AdamW\n",
    "from torch.utils.data import Dataset, TensorDataset, DataLoader, SequentialSampler, RandomSampler\n",
    "from torch.nn.utils.rnn import pad_sequence\n",
    "from sklearn.neural_network import MLPClassifier\n",
    "from sklearn.model_selection import train_test_split\n",
    "from sklearn.model_selection import cross_val_score\n",
    "from sklearn.linear_model import LogisticRegression\n",
    "from sklearn.feature_extraction.text import TfidfVectorizer\n",
    "from sklearn.feature_extraction.text import CountVectorizer\n",
    "from sklearn.ensemble import RandomForestClassifier\n",
    "from nltk.tokenize import word_tokenize\n",
    "from nltk.stem import WordNetLemmatizer\n",
    "from nltk.corpus import wordnet\n",
    "from nltk.corpus import stopwords\n",
    "from datetime import datetime\n",
    "\n",
    "start_time = datetime.now()\n",
    "# nltk.download('wordnet')\n",
    "# nltk.download('stopwords')\n",
    "# nltk.download('punkt')\n",
    "# nltk.download('averaged_perceptron_tagger')"
   ]
  },
  {
   "cell_type": "markdown",
   "id": "63a3e604",
   "metadata": {},
   "source": [
    "# Data preprocessing"
   ]
  },
  {
   "cell_type": "code",
   "execution_count": 2,
   "id": "04c5b103",
   "metadata": {
    "ExecuteTime": {
     "end_time": "2023-05-07T11:50:55.661554Z",
     "start_time": "2023-05-07T11:50:53.574494Z"
    },
    "id": "wCeBWQD8TSu_"
   },
   "outputs": [],
   "source": [
    "sc = pd.read_csv(\"Suicide_Detection.csv\", index_col=0)"
   ]
  },
  {
   "cell_type": "code",
   "execution_count": 3,
   "id": "c98a6e2b",
   "metadata": {
    "ExecuteTime": {
     "end_time": "2023-05-07T11:50:55.708558Z",
     "start_time": "2023-05-07T11:50:55.694356Z"
    },
    "colab": {
     "base_uri": "https://localhost:8080/",
     "height": 206
    },
    "id": "VbWyHK9aTSxW",
    "outputId": "8afe4f6b-7cd1-435f-fbd2-3e317140084e"
   },
   "outputs": [
    {
     "data": {
      "text/html": [
       "<div>\n",
       "<style scoped>\n",
       "    .dataframe tbody tr th:only-of-type {\n",
       "        vertical-align: middle;\n",
       "    }\n",
       "\n",
       "    .dataframe tbody tr th {\n",
       "        vertical-align: top;\n",
       "    }\n",
       "\n",
       "    .dataframe thead th {\n",
       "        text-align: right;\n",
       "    }\n",
       "</style>\n",
       "<table border=\"1\" class=\"dataframe\">\n",
       "  <thead>\n",
       "    <tr style=\"text-align: right;\">\n",
       "      <th></th>\n",
       "      <th>text</th>\n",
       "      <th>class</th>\n",
       "    </tr>\n",
       "  </thead>\n",
       "  <tbody>\n",
       "    <tr>\n",
       "      <th>2</th>\n",
       "      <td>Ex Wife Threatening SuicideRecently I left my ...</td>\n",
       "      <td>suicide</td>\n",
       "    </tr>\n",
       "    <tr>\n",
       "      <th>3</th>\n",
       "      <td>Am I weird I don't get affected by compliments...</td>\n",
       "      <td>non-suicide</td>\n",
       "    </tr>\n",
       "    <tr>\n",
       "      <th>4</th>\n",
       "      <td>Finally 2020 is almost over... So I can never ...</td>\n",
       "      <td>non-suicide</td>\n",
       "    </tr>\n",
       "    <tr>\n",
       "      <th>8</th>\n",
       "      <td>i need helpjust help me im crying so hard</td>\n",
       "      <td>suicide</td>\n",
       "    </tr>\n",
       "    <tr>\n",
       "      <th>9</th>\n",
       "      <td>I’m so lostHello, my name is Adam (16) and I’v...</td>\n",
       "      <td>suicide</td>\n",
       "    </tr>\n",
       "  </tbody>\n",
       "</table>\n",
       "</div>"
      ],
      "text/plain": [
       "                                                text        class\n",
       "2  Ex Wife Threatening SuicideRecently I left my ...      suicide\n",
       "3  Am I weird I don't get affected by compliments...  non-suicide\n",
       "4  Finally 2020 is almost over... So I can never ...  non-suicide\n",
       "8          i need helpjust help me im crying so hard      suicide\n",
       "9  I’m so lostHello, my name is Adam (16) and I’v...      suicide"
      ]
     },
     "execution_count": 3,
     "metadata": {},
     "output_type": "execute_result"
    }
   ],
   "source": [
    "sc.head()"
   ]
  },
  {
   "cell_type": "code",
   "execution_count": 4,
   "id": "68701e64",
   "metadata": {
    "ExecuteTime": {
     "end_time": "2023-05-07T11:50:55.801891Z",
     "start_time": "2023-05-07T11:50:55.742295Z"
    },
    "id": "vqSE4C3qA4u4"
   },
   "outputs": [],
   "source": [
    "sc['label'] = [1 if i == 'suicide' else 0 for i in sc['class']]"
   ]
  },
  {
   "cell_type": "markdown",
   "id": "458e004b",
   "metadata": {},
   "source": [
    "## Translate emoji to English discription"
   ]
  },
  {
   "cell_type": "code",
   "execution_count": 5,
   "id": "30753cd4",
   "metadata": {
    "ExecuteTime": {
     "end_time": "2023-05-07T11:51:33.910977Z",
     "start_time": "2023-05-07T11:50:55.834355Z"
    }
   },
   "outputs": [
    {
     "data": {
      "text/html": [
       "<div>\n",
       "<style scoped>\n",
       "    .dataframe tbody tr th:only-of-type {\n",
       "        vertical-align: middle;\n",
       "    }\n",
       "\n",
       "    .dataframe tbody tr th {\n",
       "        vertical-align: top;\n",
       "    }\n",
       "\n",
       "    .dataframe thead th {\n",
       "        text-align: right;\n",
       "    }\n",
       "</style>\n",
       "<table border=\"1\" class=\"dataframe\">\n",
       "  <thead>\n",
       "    <tr style=\"text-align: right;\">\n",
       "      <th></th>\n",
       "      <th>text</th>\n",
       "      <th>class</th>\n",
       "      <th>label</th>\n",
       "      <th>text_deemoji</th>\n",
       "    </tr>\n",
       "  </thead>\n",
       "  <tbody>\n",
       "    <tr>\n",
       "      <th>2</th>\n",
       "      <td>Ex Wife Threatening SuicideRecently I left my ...</td>\n",
       "      <td>suicide</td>\n",
       "      <td>1</td>\n",
       "      <td>Ex Wife Threatening SuicideRecently I left my ...</td>\n",
       "    </tr>\n",
       "    <tr>\n",
       "      <th>3</th>\n",
       "      <td>Am I weird I don't get affected by compliments...</td>\n",
       "      <td>non-suicide</td>\n",
       "      <td>0</td>\n",
       "      <td>Am I weird I don't get affected by compliments...</td>\n",
       "    </tr>\n",
       "    <tr>\n",
       "      <th>4</th>\n",
       "      <td>Finally 2020 is almost over... So I can never ...</td>\n",
       "      <td>non-suicide</td>\n",
       "      <td>0</td>\n",
       "      <td>Finally 2020 is almost over... So I can never ...</td>\n",
       "    </tr>\n",
       "    <tr>\n",
       "      <th>8</th>\n",
       "      <td>i need helpjust help me im crying so hard</td>\n",
       "      <td>suicide</td>\n",
       "      <td>1</td>\n",
       "      <td>i need helpjust help me im crying so hard</td>\n",
       "    </tr>\n",
       "    <tr>\n",
       "      <th>9</th>\n",
       "      <td>I’m so lostHello, my name is Adam (16) and I’v...</td>\n",
       "      <td>suicide</td>\n",
       "      <td>1</td>\n",
       "      <td>I’m so lostHello, my name is Adam (16) and I’v...</td>\n",
       "    </tr>\n",
       "    <tr>\n",
       "      <th>...</th>\n",
       "      <td>...</td>\n",
       "      <td>...</td>\n",
       "      <td>...</td>\n",
       "      <td>...</td>\n",
       "    </tr>\n",
       "    <tr>\n",
       "      <th>348103</th>\n",
       "      <td>If you don't like rock then your not going to ...</td>\n",
       "      <td>non-suicide</td>\n",
       "      <td>0</td>\n",
       "      <td>If you don't like rock then your not going to ...</td>\n",
       "    </tr>\n",
       "    <tr>\n",
       "      <th>348106</th>\n",
       "      <td>You how you can tell i have so many friends an...</td>\n",
       "      <td>non-suicide</td>\n",
       "      <td>0</td>\n",
       "      <td>You how you can tell i have so many friends an...</td>\n",
       "    </tr>\n",
       "    <tr>\n",
       "      <th>348107</th>\n",
       "      <td>pee probably tastes like salty tea😏💦‼️ can som...</td>\n",
       "      <td>non-suicide</td>\n",
       "      <td>0</td>\n",
       "      <td>pee probably tastes like salty tea smirking_fa...</td>\n",
       "    </tr>\n",
       "    <tr>\n",
       "      <th>348108</th>\n",
       "      <td>The usual stuff you find hereI'm not posting t...</td>\n",
       "      <td>suicide</td>\n",
       "      <td>1</td>\n",
       "      <td>The usual stuff you find hereI'm not posting t...</td>\n",
       "    </tr>\n",
       "    <tr>\n",
       "      <th>348110</th>\n",
       "      <td>I still haven't beaten the first boss in Hollo...</td>\n",
       "      <td>non-suicide</td>\n",
       "      <td>0</td>\n",
       "      <td>I still haven't beaten the first boss in Hollo...</td>\n",
       "    </tr>\n",
       "  </tbody>\n",
       "</table>\n",
       "<p>232074 rows × 4 columns</p>\n",
       "</div>"
      ],
      "text/plain": [
       "                                                     text        class  label  \\\n",
       "2       Ex Wife Threatening SuicideRecently I left my ...      suicide      1   \n",
       "3       Am I weird I don't get affected by compliments...  non-suicide      0   \n",
       "4       Finally 2020 is almost over... So I can never ...  non-suicide      0   \n",
       "8               i need helpjust help me im crying so hard      suicide      1   \n",
       "9       I’m so lostHello, my name is Adam (16) and I’v...      suicide      1   \n",
       "...                                                   ...          ...    ...   \n",
       "348103  If you don't like rock then your not going to ...  non-suicide      0   \n",
       "348106  You how you can tell i have so many friends an...  non-suicide      0   \n",
       "348107  pee probably tastes like salty tea😏💦‼️ can som...  non-suicide      0   \n",
       "348108  The usual stuff you find hereI'm not posting t...      suicide      1   \n",
       "348110  I still haven't beaten the first boss in Hollo...  non-suicide      0   \n",
       "\n",
       "                                             text_deemoji  \n",
       "2       Ex Wife Threatening SuicideRecently I left my ...  \n",
       "3       Am I weird I don't get affected by compliments...  \n",
       "4       Finally 2020 is almost over... So I can never ...  \n",
       "8               i need helpjust help me im crying so hard  \n",
       "9       I’m so lostHello, my name is Adam (16) and I’v...  \n",
       "...                                                   ...  \n",
       "348103  If you don't like rock then your not going to ...  \n",
       "348106  You how you can tell i have so many friends an...  \n",
       "348107  pee probably tastes like salty tea smirking_fa...  \n",
       "348108  The usual stuff you find hereI'm not posting t...  \n",
       "348110  I still haven't beaten the first boss in Hollo...  \n",
       "\n",
       "[232074 rows x 4 columns]"
      ]
     },
     "execution_count": 5,
     "metadata": {},
     "output_type": "execute_result"
    }
   ],
   "source": [
    "def emoji_change(str):\n",
    "    result = emoji.demojize(str, delimiters='  ')\n",
    "    return result\n",
    "\n",
    "\n",
    "sc['text_deemoji'] = sc['text'].apply(emoji_change)\n",
    "sc"
   ]
  },
  {
   "cell_type": "markdown",
   "id": "8f3319b6",
   "metadata": {},
   "source": [
    "## Remove stopwords"
   ]
  },
  {
   "cell_type": "code",
   "execution_count": 6,
   "id": "ee49b0a6",
   "metadata": {
    "ExecuteTime": {
     "end_time": "2023-05-07T11:54:41.329758Z",
     "start_time": "2023-05-07T11:51:33.944008Z"
    },
    "colab": {
     "base_uri": "https://localhost:8080/",
     "height": 495
    },
    "id": "FJcBPFxuA4yH",
    "outputId": "aafa7599-7c50-4db3-a3cc-f1f8613f4d89"
   },
   "outputs": [],
   "source": [
    "# Remove stop_words\n",
    "\n",
    "stop_words = set(\n",
    "    stopwords.words('english') +\n",
    "    [\".\", '.', \",\", \":\", \"''\", \"'s\", \"'\", \"``\", \"^\", \"(\", \")\", \"-\"])\n",
    "\n",
    "# Removed the stopwords\n",
    "stop_removed_list = []\n",
    "for line in sc['text_deemoji']:\n",
    "    tokens = nltk.word_tokenize(line)\n",
    "    stopword_removed = [\n",
    "        token for token in tokens if token.lower() not in stop_words\n",
    "    ]\n",
    "    removed_sent = (\" \").join(stopword_removed)\n",
    "    stop_removed_list.append(removed_sent)\n",
    "# append stopwords to a new column\n",
    "sc['Text'] = stop_removed_list"
   ]
  },
  {
   "cell_type": "markdown",
   "id": "add6864a",
   "metadata": {},
   "source": [
    "## Regex"
   ]
  },
  {
   "cell_type": "code",
   "execution_count": 7,
   "id": "ba04d4bb",
   "metadata": {
    "ExecuteTime": {
     "end_time": "2023-05-07T11:54:52.884332Z",
     "start_time": "2023-05-07T11:54:43.154248Z"
    }
   },
   "outputs": [],
   "source": [
    "# Regex\n",
    "\n",
    "\n",
    "def regex_clean(comment, ree, new):\n",
    "    line = re.sub(ree, new, comment, flags=re.IGNORECASE)\n",
    "    return line\n",
    "\n",
    "\n",
    "re1 = r\"\\_\"\n",
    "re2 = r\"filler\"\n",
    "re3 = r\"\\b(?:work[\\w]+|jobs?|career|intern(ship)?|position)\\b\"\n",
    "re4 = r\"\\b(?:co(\\-)?worker|interpersonal|managers?|boss|supervisor|colleague|employees?|staffs?|network)\\b\"\n",
    "sc['new_Text'] = sc['Text'].apply(regex_clean, ree=re1, new=' ')\n",
    "sc['new_Text'] = sc['new_Text'].apply(regex_clean, ree=re2, new=' ')\n",
    "sc['new_Text'] = sc['new_Text'].apply(regex_clean, ree=re3, new=' _WORK_ ')\n",
    "sc['new_Text'] = sc['new_Text'].apply(regex_clean,\n",
    "                                      ree=re4,\n",
    "                                      new=' _INTERPERSONAL_ ')"
   ]
  },
  {
   "cell_type": "markdown",
   "id": "6708a140",
   "metadata": {},
   "source": [
    "## Lemmatization"
   ]
  },
  {
   "cell_type": "code",
   "execution_count": 8,
   "id": "7c656500",
   "metadata": {
    "ExecuteTime": {
     "end_time": "2023-05-07T12:10:34.201222Z",
     "start_time": "2023-05-07T11:54:54.410568Z"
    },
    "colab": {
     "base_uri": "https://localhost:8080/"
    },
    "id": "vrkAZAu8A41F",
    "outputId": "666e6030-c78e-47cb-cb63-fd297a0ccfe9"
   },
   "outputs": [],
   "source": [
    "# Lemmatization\n",
    "lemmatizer = WordNetLemmatizer()\n",
    "\n",
    "\n",
    "# function to convert nltk tag to wordnet tag\n",
    "def nltk_tag_to_wordnet_tag(nltk_tag):\n",
    "    if nltk_tag.startswith('J'):\n",
    "        return wordnet.ADJ\n",
    "    elif nltk_tag.startswith('V'):\n",
    "        return wordnet.VERB\n",
    "    elif nltk_tag.startswith('N'):\n",
    "        return wordnet.NOUN\n",
    "    elif nltk_tag.startswith('R'):\n",
    "        return wordnet.ADV\n",
    "    else:\n",
    "        return None\n",
    "\n",
    "\n",
    "def lemmatize_sentence(sentence):\n",
    "    #tokenize the sentence and find the POS tag for each token\n",
    "    nltk_tagged = nltk.pos_tag(nltk.word_tokenize(\n",
    "        sentence.lower()))  # I add a lower() function here since it will\n",
    "    #tuple of (token, wordnet_tag)                                   # do a bad job with capital letters\n",
    "    wordnet_tagged = [(x[0], nltk_tag_to_wordnet_tag(x[1]))\n",
    "                      for x in nltk_tagged]\n",
    "    lemmatized_sentence = []\n",
    "    for word, tag in wordnet_tagged:\n",
    "        if tag is None:\n",
    "            #if there is no available tag, append the token as is\n",
    "            lemmatized_sentence.append(word)\n",
    "        else:\n",
    "            #else use the tag to lemmatize the token\n",
    "            lemmatized_sentence.append(lemmatizer.lemmatize(word, tag))\n",
    "    return \" \".join(lemmatized_sentence)\n",
    "\n",
    "\n",
    "sc['lemm_Text'] = sc['new_Text'].apply(lemmatize_sentence)"
   ]
  },
  {
   "cell_type": "markdown",
   "id": "47ac5c8a",
   "metadata": {},
   "source": [
    "## Topic Modeling"
   ]
  },
  {
   "cell_type": "code",
   "execution_count": 9,
   "id": "90a5f5ea",
   "metadata": {
    "ExecuteTime": {
     "end_time": "2023-05-07T12:10:35.757368Z",
     "start_time": "2023-05-07T12:10:35.727187Z"
    },
    "id": "nVx6-SPeL1Az"
   },
   "outputs": [],
   "source": [
    "news_corpus_df = sc\n",
    "news_corpus_df['text'] = sc['lemm_Text']"
   ]
  },
  {
   "cell_type": "code",
   "execution_count": 10,
   "id": "416a05bb",
   "metadata": {
    "ExecuteTime": {
     "end_time": "2023-05-07T12:10:58.252627Z",
     "start_time": "2023-05-07T12:10:37.278895Z"
    }
   },
   "outputs": [],
   "source": [
    "# Regex\n",
    "import re\n",
    "\n",
    "\n",
    "def regex_clean(comment, ree, new):\n",
    "    line = re.sub(ree, new, comment, flags=re.IGNORECASE)\n",
    "    return line\n",
    "\n",
    "\n",
    "# Mainly for removing '_' in the English discription after translating emojis\n",
    "re1 = r\"\\_\"\n",
    "\n",
    "# Remove noise words\n",
    "re2 = r\"fil(l|t)er\"\n",
    "re3 = r\"\\b(youtube)|(reddit)|(www)|(com)|(amp)|(webp)|(https)|(x200b)|(pjpg)|(format)|(png)|(auto)\\b\"\n",
    "\n",
    "# Translate oral language to written language\n",
    "re4 = r\"\\b(wan( )?na)\\b\"\n",
    "re5 = r\"\\b(gon( )?na)\\b\"\n",
    "\n",
    "news_corpus_df['text'] = news_corpus_df['text'].apply(regex_clean,\n",
    "                                                      ree=re1,\n",
    "                                                      new=' ')\n",
    "news_corpus_df['text'] = news_corpus_df['text'].apply(regex_clean,\n",
    "                                                      ree=re2,\n",
    "                                                      new=' ')\n",
    "news_corpus_df['text'] = news_corpus_df['text'].apply(regex_clean,\n",
    "                                                      ree=re3,\n",
    "                                                      new=' ')\n",
    "news_corpus_df['text'] = news_corpus_df['text'].apply(regex_clean,\n",
    "                                                      ree=re4,\n",
    "                                                      new=' want ')\n",
    "news_corpus_df['text'] = news_corpus_df['text'].apply(regex_clean,\n",
    "                                                      ree=re5,\n",
    "                                                      new=' go ')"
   ]
  },
  {
   "cell_type": "markdown",
   "id": "8ae468c6",
   "metadata": {},
   "source": [
    "### Bigram"
   ]
  },
  {
   "cell_type": "code",
   "execution_count": 11,
   "id": "0a90bfd6",
   "metadata": {
    "ExecuteTime": {
     "end_time": "2023-05-07T12:11:14.744857Z",
     "start_time": "2023-05-07T12:10:59.716152Z"
    }
   },
   "outputs": [
    {
     "name": "stdout",
     "output_type": "stream",
     "text": [
      "News TF-IDF: (232074, 69)\n",
      "   anymore want  best friend  ca anymore  close friend   day day  die want  \\\n",
      "0           0.0          0.0         0.0           0.0  0.000000       0.0   \n",
      "1           0.0          0.0         0.0           0.0  0.000000       0.0   \n",
      "2           0.0          0.0         0.0           0.0  0.000000       0.0   \n",
      "3           0.0          0.0         0.0           0.0  0.000000       0.0   \n",
      "4           0.0          0.0         0.0           0.0  0.415785       0.0   \n",
      "\n",
      "   dont know  dont want  end life  feel bad  ...  want hurt  want kill  \\\n",
      "0        0.0        0.0       0.0  0.000000  ...        0.0        0.0   \n",
      "1        0.0        0.0       0.0  0.000000  ...        0.0        0.0   \n",
      "2        0.0        0.0       0.0  0.000000  ...        0.0        0.0   \n",
      "3        0.0        0.0       0.0  0.000000  ...        0.0        0.0   \n",
      "4        0.0        0.0       0.0  0.378066  ...        0.0        0.0   \n",
      "\n",
      "   want know  want live  want make  want talk  want want  week ago  year ago  \\\n",
      "0        0.0        0.0        0.0        0.0        0.0       0.0  0.000000   \n",
      "1        0.0        0.0        0.0        0.0        0.0       0.0  0.000000   \n",
      "2        0.0        0.0        0.0        0.0        0.0       0.0  0.000000   \n",
      "3        0.0        0.0        0.0        0.0        0.0       0.0  0.000000   \n",
      "4        0.0        0.0        0.0        0.0        0.0       0.0  0.336836   \n",
      "\n",
      "   year old  \n",
      "0       0.0  \n",
      "1       0.0  \n",
      "2       0.0  \n",
      "3       0.0  \n",
      "4       0.0  \n",
      "\n",
      "[5 rows x 69 columns]\n"
     ]
    }
   ],
   "source": [
    "from sklearn.decomposition import NMF\n",
    "from sklearn.feature_extraction.text import TfidfVectorizer\n",
    "\n",
    "news_vectorizer = TfidfVectorizer(ngram_range=(2, 2),\n",
    "                                  min_df=0.01,\n",
    "                                  max_df=0.4,\n",
    "                                  stop_words=\"english\")\n",
    "\n",
    "X_news, news_terms = news_vectorizer.fit_transform(\n",
    "    news_corpus_df.text), news_vectorizer.get_feature_names_out()\n",
    "\n",
    "news_tf_idf = pd.DataFrame(X_news.toarray(), columns=news_terms)\n",
    "print(f\"News TF-IDF: {news_tf_idf.shape}\")\n",
    "print(news_tf_idf.head(5))"
   ]
  },
  {
   "cell_type": "code",
   "execution_count": 12,
   "id": "7843aa73",
   "metadata": {
    "ExecuteTime": {
     "end_time": "2023-05-07T12:11:17.227495Z",
     "start_time": "2023-05-07T12:11:16.414814Z"
    },
    "scrolled": false
   },
   "outputs": [
    {
     "name": "stderr",
     "output_type": "stream",
     "text": [
      "C:\\Users\\Yiyang\\Anaconda3\\lib\\site-packages\\sklearn\\decomposition\\_nmf.py:289: FutureWarning: The 'init' value, when 'init=None' and n_components is less than n_samples and n_features, will be changed from 'nndsvd' to 'nndsvda' in 1.1 (renaming of 0.26).\n",
      "  warnings.warn(\n"
     ]
    },
    {
     "name": "stdout",
     "output_type": "stream",
     "text": [
      "Original shape of X news is (232074, 69)\n",
      "Decomposed W news matrix is (232074, 2)\n",
      "Decomposed H news matrix is (2, 69)\n",
      "Topics:\n",
      "\n",
      "\n",
      "TOPIC 0\n",
      "\n",
      "\bfeel like (44.9%)\n",
      "\n",
      "\bmake feel (3.3%)\n",
      "\n",
      "\blike shit (1.6%)\n",
      "\n",
      "\blife feel (1.5%)\n",
      "\n",
      "\bfelt like (1.5%)\n",
      "\n",
      "\bknow feel (1.4%)\n",
      "\n",
      "\bhigh school (1.4%)\n",
      "\n",
      "\byear ago (1.4%)\n",
      "\n",
      "\bsuicidal thought (1.3%)\n",
      "\n",
      "\bbest friend (1.2%)\n",
      "\n",
      "==================================================\n",
      "TOPIC 1\n",
      "\n",
      "\bwant die (23.1%)\n",
      "\n",
      "\byear old (6.2%)\n",
      "\n",
      "\breally want (3.5%)\n",
      "\n",
      "\bwant kill (3.1%)\n",
      "\n",
      "\bdie want (2.9%)\n",
      "\n",
      "\bwant live (2.5%)\n",
      "\n",
      "\byear ago (2.3%)\n",
      "\n",
      "\bbest friend (2.0%)\n",
      "\n",
      "\bmake feel (1.9%)\n",
      "\n",
      "\bwant end (1.8%)\n",
      "\n",
      "==================================================\n"
     ]
    }
   ],
   "source": [
    "nmf = NMF(n_components=2)\n",
    "W_news = nmf.fit_transform(X_news)\n",
    "H_news = nmf.components_\n",
    "print(f\"Original shape of X news is {X_news.shape}\")\n",
    "print(f\"Decomposed W news matrix is {W_news.shape}\")\n",
    "print(f\"Decomposed H news matrix is {H_news.shape}\")\n",
    "from typing import List\n",
    "\n",
    "def get_top_tf_idf_tokens_for_topic(H: np.array,\n",
    "                                    feature_names: List[str],\n",
    "                                    num_top_tokens: int = 5):\n",
    "    \"\"\"\n",
    "  Uses the H matrix (K components x M original features) to identify for each\n",
    "  topic the most frequent tokens.\n",
    "  \"\"\"\n",
    "    for topic, vector in enumerate(H):\n",
    "        print(f\"TOPIC {topic}\\n\")\n",
    "        total = vector.sum()\n",
    "        top_scores = vector.argsort()[::-1][:num_top_tokens]\n",
    "        token_names = list(map(lambda idx: feature_names[idx], top_scores))\n",
    "        strengths = list(map(lambda idx: vector[idx] / total, top_scores))\n",
    "\n",
    "        for strength, token_name in zip(strengths, token_names):\n",
    "            print(f\"\\b{token_name} ({round(strength * 100, 1)}%)\\n\")\n",
    "        print(f\"=\" * 50)\n",
    "\n",
    "\n",
    "print(f\"Topics:\\n\\n\")\n",
    "get_top_tf_idf_tokens_for_topic(H_news, news_tf_idf.columns.tolist(), 10)"
   ]
  },
  {
   "cell_type": "code",
   "execution_count": 13,
   "id": "111c1887",
   "metadata": {
    "ExecuteTime": {
     "end_time": "2023-05-07T12:11:18.837386Z",
     "start_time": "2023-05-07T12:11:18.824204Z"
    }
   },
   "outputs": [],
   "source": [
    "def get_top_documents_for_each_topic(W: np.array,\n",
    "                                     documents: List[str],\n",
    "                                     num_docs: int = 5):\n",
    "    sorted_docs = W.argsort(axis=0)[::-1]\n",
    "    top_docs = sorted_docs[:num_docs].T\n",
    "    per_document_totals = W.sum(axis=1)\n",
    "    for topic, top_documents_for_topic in enumerate(top_docs):\n",
    "        print(f\"Topic {topic}\")\n",
    "        for doc in top_documents_for_topic:\n",
    "            score = W[doc][topic]\n",
    "            percent_about_topic = round(score / per_document_totals[doc] * 100,\n",
    "                                        1)\n",
    "            print(f\"{percent_about_topic}%\", documents[doc])\n",
    "        print(\"=\" * 50)"
   ]
  },
  {
   "cell_type": "code",
   "execution_count": 14,
   "id": "71509529",
   "metadata": {
    "ExecuteTime": {
     "end_time": "2023-05-07T12:11:20.434440Z",
     "start_time": "2023-05-07T12:11:20.389270Z"
    }
   },
   "outputs": [
    {
     "name": "stdout",
     "output_type": "stream",
     "text": [
      "Topic 0\n",
      "100.0% ’ tire ’ even sleep feel like ’ sleep week schedule never fuck ’ awake night sleep day wake energy go back sleep ’ 3am right start go sleep midnight intrusive thought keep awake ’ sleep brain exhaust need sleep ’ ! ! !\n",
      "100.0% well n't feel right wanted make post one look homepage r/teenagers post click find one someone mom die breast cancer click link  e sub 'm feel like take advantage person misery brain  work  mysterious way\n",
      "100.0% ran med father diagnosed canceri know never post anything 'm  go  anything tonight omg want father n't close feel like make hard 'm really struggle right\n",
      "100.0% darkness # darkness 'm swim alone pool darkness feel like darkness slowly pull yell help one hear begin see water eye level kick flail fight stay darkness darkness wo n't let go hold slowly begin give feel lie water line water start fill lung lung hold much life yet allow murky water replace know path n't lead happiness n't someone grab hand pull darkness grasp ? one know stand boundary boundary light dark give thing hold strength courage hold heart ca n't save water slowly slip world conscientiousness undetected occupant world n't want fight anymore 've give darkness\n",
      "100.0% think give dog awayi love dog lot ’ ask help decision since ’ know deal  want  give away cause feel like home life right good environment since parent love yell eachother time since dad love yell punch wall alcoholic originally dog choice little sister make parent lol end take good care take matter hand duo  want  best decision think would lose happiness towards dog happy everyday family take good care everyday family love ’ think good\n",
      "==================================================\n",
      "Topic 1\n",
      "89.7% week hospital suicide attempt.hi first time post need get chest 17f tried overdose heavy painkiller antidepressant last week want die could n't handle life abuse put take 9 painkiller could take 40 one family member walk one knew go kill n't want write letter justify feeling like always think 'm lash seriously want die mom phone hospital er family drive keep night observation take med drip counteract pain killer luckily n't stomach pumped sedate fun stuff let next day say ca n't treat mental patient week still want die nothing positive life moment besides family online friend struggle make long term friend kill feel like fuck molest 4 18 year old guy today still affect sometimes ptsd attack think nothing live n't deserve 've give positive negative want die 'm go try soon 'm alone home hopefull sunday 'll chance ca n't live anymore 'm sorry\n",
      "100.0% bad part want dieis know one would notice longer benefit like original plan hang room tonight know one would  e check unless need something make mistake mentioning plan drink wedding day ago someone n't know try follow ask mutual friend phone number n't respond doubt actually care wanted feel self important stop know stop ? idea n't say anything anyone even drink skunk 've double fail 1.5 year old niece asleep bed dog next us bed floor original plan nonexistent 'm leave still want die thinking ex almost nine year pretty sure nine year go get married threw relationship receive next nothing return still want die let apologize fucked plan never think 'd talk 'm still wish n't\n",
      "100.0% drink death ?  want  die drink every night try die always either pass get sick ’ already 20 year old alcoholic ’ worthless sack shit  want  die sooner drink painless way\n",
      "100.0% want die evermy mind control feel utterly  pletely trap cut outside world even 'm amongst look mirror wonder pain n't show constantly think ex move quick sleep three people within week us break five year relationship terrible boyfriend honestly try cheat could n't contain emotion move away get sober get good son start soar go 'm drain everyone get close hard get close anyone cant leave bed lose  work  clean 4 month relationship deteriorate wreck constantly want die day go hike dad gf could think whole time get gun rope 'm scar even kill though go hospital two time kick referred outpatient reach family offer support word nothing else 'm 26 year old man baby diagnose bipolar 2 generalize anxiety substance abuse disorder 'm sick tire sick tire everything right med excercise diet journaling meditation still lose everything cant even good father think move quick 'll never fit anywhere 'd rather exist\n",
      "100.0% want die.i 18 year old want die\n",
      "==================================================\n"
     ]
    }
   ],
   "source": [
    "get_top_documents_for_each_topic(W_news,\n",
    "                                 news_corpus_df.text.tolist(),\n",
    "                                 num_docs=5)"
   ]
  },
  {
   "cell_type": "markdown",
   "id": "54d4fc9c",
   "metadata": {
    "id": "54d4fc9c"
   },
   "source": [
    "### Trigram"
   ]
  },
  {
   "cell_type": "code",
   "execution_count": null,
   "id": "43476102",
   "metadata": {
    "colab": {
     "base_uri": "https://localhost:8080/",
     "height": 446
    },
    "id": "43476102",
    "outputId": "2bd3f583-2d10-40f2-f50a-917e1472d4be",
    "scrolled": false
   },
   "outputs": [
    {
     "name": "stdout",
     "output_type": "stream",
     "text": [
      "News TF-IDF: (232074, 28020)\n",
      "   000 000 000  000 000 billion  000 000 million  000 000 quadrillion  \\\n",
      "0          0.0              0.0              0.0                  0.0   \n",
      "1          0.0              0.0              0.0                  0.0   \n",
      "2          0.0              0.0              0.0                  0.0   \n",
      "3          0.0              0.0              0.0                  0.0   \n",
      "4          0.0              0.0              0.0                  0.0   \n",
      "\n",
      "   000 000 trillion  000 billion day  000 miles away  000 million day  \\\n",
      "0               0.0              0.0             0.0              0.0   \n",
      "1               0.0              0.0             0.0              0.0   \n",
      "2               0.0              0.0             0.0              0.0   \n",
      "3               0.0              0.0             0.0              0.0   \n",
      "4               0.0              0.0             0.0              0.0   \n",
      "\n",
      "   000 quadrillion day  000 student loans  ...  yr old female  yr old girl  \\\n",
      "0                  0.0                0.0  ...            0.0          0.0   \n",
      "1                  0.0                0.0  ...            0.0          0.0   \n",
      "2                  0.0                0.0  ...            0.0          0.0   \n",
      "3                  0.0                0.0  ...            0.0          0.0   \n",
      "4                  0.0                0.0  ...            0.0          0.0   \n",
      "\n",
      "   yr old male  yu gi oh  yxcvbnm day 172  zany face face  zany face zany  \\\n",
      "0          0.0       0.0              0.0             0.0             0.0   \n",
      "1          0.0       0.0              0.0             0.0             0.0   \n",
      "2          0.0       0.0              0.0             0.0             0.0   \n",
      "3          0.0       0.0              0.0             0.0             0.0   \n",
      "4          0.0       0.0              0.0             0.0             0.0   \n",
      "\n",
      "   zero self esteem  zero social skills  zipper mouth face  \n",
      "0               0.0                 0.0                0.0  \n",
      "1               0.0                 0.0                0.0  \n",
      "2               0.0                 0.0                0.0  \n",
      "3               0.0                 0.0                0.0  \n",
      "4               0.0                 0.0                0.0  \n",
      "\n",
      "[5 rows x 28020 columns]\n"
     ]
    }
   ],
   "source": [
    "from sklearn.decomposition import NMF\n",
    "from sklearn.feature_extraction.text import TfidfVectorizer\n",
    "\n",
    "news_vectorizer = TfidfVectorizer(ngram_range=(3, 3),\n",
    "                                  min_df=10,\n",
    "                                  max_df=0.4,\n",
    "                                  stop_words=\"english\")\n",
    "\n",
    "X_news, news_terms = news_vectorizer.fit_transform(\n",
    "    news_corpus_df.text), news_vectorizer.get_feature_names_out()\n",
    "\n",
    "news_tf_idf = pd.DataFrame(X_news.toarray(), columns=news_terms)\n",
    "print(f\"News TF-IDF: {news_tf_idf.shape}\")\n",
    "print(news_tf_idf.head(5))"
   ]
  },
  {
   "cell_type": "code",
   "execution_count": null,
   "id": "bd677c75",
   "metadata": {
    "colab": {
     "base_uri": "https://localhost:8080/"
    },
    "id": "bd677c75",
    "outputId": "16000a61-b8c4-4ea2-ee8f-3d5075bdf0b5"
   },
   "outputs": [
    {
     "name": "stderr",
     "output_type": "stream",
     "text": [
      "/Users/yduanmu/opt/anaconda3/lib/python3.8/site-packages/sklearn/decomposition/_nmf.py:289: FutureWarning: The 'init' value, when 'init=None' and n_components is less than n_samples and n_features, will be changed from 'nndsvd' to 'nndsvda' in 1.1 (renaming of 0.26).\n",
      "  warnings.warn(\n"
     ]
    },
    {
     "name": "stdout",
     "output_type": "stream",
     "text": [
      "Original shape of X news is (232074, 28020)\n",
      "Decomposed W news matrix is (232074, 2)\n",
      "Decomposed H news matrix is (2, 28020)\n"
     ]
    }
   ],
   "source": [
    "W_news = nmf.fit_transform(X_news)\n",
    "H_news = nmf.components_\n",
    "print(f\"Original shape of X news is {X_news.shape}\")\n",
    "print(f\"Decomposed W news matrix is {W_news.shape}\")\n",
    "print(f\"Decomposed H news matrix is {H_news.shape}\")"
   ]
  },
  {
   "cell_type": "code",
   "execution_count": null,
   "id": "8e8f94d8",
   "metadata": {
    "colab": {
     "base_uri": "https://localhost:8080/"
    },
    "id": "8e8f94d8",
    "outputId": "f3314cec-7dde-4651-bc7d-d6009311eebb",
    "scrolled": false
   },
   "outputs": [
    {
     "name": "stdout",
     "output_type": "stream",
     "text": [
      "Topics:\n",
      "\n",
      "\n",
      "TOPIC 0\n",
      "\n",
      "\bsmiling face sunglasses (57.3%)\n",
      "\n",
      "\bsunglasses smiling face (7.7%)\n",
      "\n",
      "\bface sunglasses smiling (7.7%)\n",
      "\n",
      "\bcool smiling face (1.4%)\n",
      "\n",
      "\bface tears joy (0.7%)\n",
      "\n",
      "\bface smiling face (0.6%)\n",
      "\n",
      "\bface steam nose (0.6%)\n",
      "\n",
      "\bbackhand index pointing (0.6%)\n",
      "\n",
      "\bface sunglasses thumbs (0.5%)\n",
      "\n",
      "\bshit smiling face (0.4%)\n",
      "\n",
      "==================================================\n",
      "TOPIC 1\n",
      "\n",
      "\bloudly crying face (42.3%)\n",
      "\n",
      "\bface loudly crying (11.5%)\n",
      "\n",
      "\bcrying face loudly (10.6%)\n",
      "\n",
      "\bface tears joy (0.8%)\n",
      "\n",
      "\bface pensive face (0.5%)\n",
      "\n",
      "\bface rolling eyes (0.5%)\n",
      "\n",
      "\bface water pistol (0.4%)\n",
      "\n",
      "\bcrying face want (0.4%)\n",
      "\n",
      "\bface steam nose (0.4%)\n",
      "\n",
      "\bpensive face pensive (0.4%)\n",
      "\n",
      "==================================================\n"
     ]
    }
   ],
   "source": [
    "from typing import List\n",
    "import numpy as np\n",
    "\n",
    "\n",
    "def get_top_tf_idf_tokens_for_topic(H: np.array,\n",
    "                                    feature_names: List[str],\n",
    "                                    num_top_tokens: int = 5):\n",
    "    \"\"\"\n",
    "  Uses the H matrix (K components x M original features) to identify for each\n",
    "  topic the most frequent tokens.\n",
    "  \"\"\"\n",
    "    for topic, vector in enumerate(H):\n",
    "        print(f\"TOPIC {topic}\\n\")\n",
    "        total = vector.sum()\n",
    "        top_scores = vector.argsort()[::-1][:num_top_tokens]\n",
    "        token_names = list(map(lambda idx: feature_names[idx], top_scores))\n",
    "        strengths = list(map(lambda idx: vector[idx] / total, top_scores))\n",
    "\n",
    "        for strength, token_name in zip(strengths, token_names):\n",
    "            print(f\"\\b{token_name} ({round(strength * 100, 1)}%)\\n\")\n",
    "        print(f\"=\" * 50)\n",
    "\n",
    "\n",
    "print(f\"Topics:\\n\\n\")\n",
    "get_top_tf_idf_tokens_for_topic(H_news, news_tf_idf.columns.tolist(), 10)"
   ]
  },
  {
   "cell_type": "markdown",
   "id": "c4b6799f",
   "metadata": {},
   "source": [
    "# Model Exploration - Logistic (Baseline), Random Forest, LightGBM, XGBoost, CatBoost"
   ]
  },
  {
   "cell_type": "markdown",
   "id": "8bb63e06",
   "metadata": {},
   "source": [
    "## Bert Tokenizer"
   ]
  },
  {
   "cell_type": "code",
   "execution_count": 15,
   "id": "651a3c04",
   "metadata": {
    "ExecuteTime": {
     "end_time": "2023-05-07T12:11:22.025943Z",
     "start_time": "2023-05-07T12:11:22.011230Z"
    },
    "id": "1xuxbq3dUkc9"
   },
   "outputs": [],
   "source": [
    "model_class, tokenizer_class, pretrained_weights = (BertModel, BertTokenizer,\n",
    "                                                    'bert-base-uncased')"
   ]
  },
  {
   "cell_type": "code",
   "execution_count": 16,
   "id": "6ce9eeb4",
   "metadata": {
    "ExecuteTime": {
     "end_time": "2023-05-07T12:11:24.892876Z",
     "start_time": "2023-05-07T12:11:23.618158Z"
    },
    "colab": {
     "base_uri": "https://localhost:8080/"
    },
    "id": "zahAl-O1Ukfv",
    "outputId": "f7ee99fe-b842-42e4-8b09-3685f792b196"
   },
   "outputs": [
    {
     "name": "stderr",
     "output_type": "stream",
     "text": [
      "Some weights of the model checkpoint at bert-base-uncased were not used when initializing BertModel: ['cls.predictions.transform.LayerNorm.weight', 'cls.predictions.transform.dense.bias', 'cls.seq_relationship.bias', 'cls.predictions.decoder.weight', 'cls.predictions.bias', 'cls.seq_relationship.weight', 'cls.predictions.transform.dense.weight', 'cls.predictions.transform.LayerNorm.bias']\n",
      "- This IS expected if you are initializing BertModel from the checkpoint of a model trained on another task or with another architecture (e.g. initializing a BertForSequenceClassification model from a BertForPreTraining model).\n",
      "- This IS NOT expected if you are initializing BertModel from the checkpoint of a model that you expect to be exactly identical (initializing a BertForSequenceClassification model from a BertForSequenceClassification model).\n"
     ]
    }
   ],
   "source": [
    "tokenizer = tokenizer_class.from_pretrained(pretrained_weights,\n",
    "                                            do_lower_case=True)\n",
    "model = model_class.from_pretrained(pretrained_weights)"
   ]
  },
  {
   "cell_type": "code",
   "execution_count": 17,
   "id": "feb9fc65",
   "metadata": {
    "ExecuteTime": {
     "end_time": "2023-05-07T12:17:06.392922Z",
     "start_time": "2023-05-07T12:11:26.642557Z"
    },
    "id": "HimqYUvLUkir"
   },
   "outputs": [],
   "source": [
    "tokenized = sc['lemm_Text'].apply((lambda x: tokenizer.encode(\n",
    "    x, add_special_tokens=True, padding=True, truncation=True)))"
   ]
  },
  {
   "cell_type": "code",
   "execution_count": 18,
   "id": "3fc23877",
   "metadata": {
    "ExecuteTime": {
     "end_time": "2023-05-07T12:17:14.796529Z",
     "start_time": "2023-05-07T12:17:08.295036Z"
    },
    "id": "ePqG_BtsHL6c"
   },
   "outputs": [],
   "source": [
    "max_len = 0\n",
    "for i in tokenized.values:\n",
    "    if len(i) > max_len:\n",
    "        max_len = len(i)\n",
    "\n",
    "padded = np.array([i + [0] * (max_len - len(i)) for i in tokenized.values])"
   ]
  },
  {
   "cell_type": "code",
   "execution_count": 19,
   "id": "31368800",
   "metadata": {
    "ExecuteTime": {
     "end_time": "2023-05-07T12:17:16.609960Z",
     "start_time": "2023-05-07T12:17:16.533599Z"
    },
    "id": "G1CTDjqxJcoC"
   },
   "outputs": [],
   "source": [
    "feature_data = pd.DataFrame(np.array(padded))"
   ]
  },
  {
   "cell_type": "code",
   "execution_count": 20,
   "id": "3a001add",
   "metadata": {
    "ExecuteTime": {
     "end_time": "2023-05-07T12:17:18.476202Z",
     "start_time": "2023-05-07T12:17:18.462631Z"
    },
    "colab": {
     "base_uri": "https://localhost:8080/",
     "height": 235
    },
    "id": "E1G3Lng4Jcrv",
    "outputId": "4b85a61d-b998-4a2a-c2fa-ea76165e0543",
    "scrolled": true
   },
   "outputs": [
    {
     "data": {
      "text/html": [
       "<div>\n",
       "<style scoped>\n",
       "    .dataframe tbody tr th:only-of-type {\n",
       "        vertical-align: middle;\n",
       "    }\n",
       "\n",
       "    .dataframe tbody tr th {\n",
       "        vertical-align: top;\n",
       "    }\n",
       "\n",
       "    .dataframe thead th {\n",
       "        text-align: right;\n",
       "    }\n",
       "</style>\n",
       "<table border=\"1\" class=\"dataframe\">\n",
       "  <thead>\n",
       "    <tr style=\"text-align: right;\">\n",
       "      <th></th>\n",
       "      <th>0</th>\n",
       "      <th>1</th>\n",
       "      <th>2</th>\n",
       "      <th>3</th>\n",
       "      <th>4</th>\n",
       "      <th>5</th>\n",
       "      <th>6</th>\n",
       "      <th>7</th>\n",
       "      <th>8</th>\n",
       "      <th>9</th>\n",
       "      <th>...</th>\n",
       "      <th>502</th>\n",
       "      <th>503</th>\n",
       "      <th>504</th>\n",
       "      <th>505</th>\n",
       "      <th>506</th>\n",
       "      <th>507</th>\n",
       "      <th>508</th>\n",
       "      <th>509</th>\n",
       "      <th>510</th>\n",
       "      <th>511</th>\n",
       "    </tr>\n",
       "  </thead>\n",
       "  <tbody>\n",
       "    <tr>\n",
       "      <th>0</th>\n",
       "      <td>101</td>\n",
       "      <td>4654</td>\n",
       "      <td>2564</td>\n",
       "      <td>15686</td>\n",
       "      <td>5920</td>\n",
       "      <td>2890</td>\n",
       "      <td>13013</td>\n",
       "      <td>2135</td>\n",
       "      <td>2681</td>\n",
       "      <td>2564</td>\n",
       "      <td>...</td>\n",
       "      <td>0</td>\n",
       "      <td>0</td>\n",
       "      <td>0</td>\n",
       "      <td>0</td>\n",
       "      <td>0</td>\n",
       "      <td>0</td>\n",
       "      <td>0</td>\n",
       "      <td>0</td>\n",
       "      <td>0</td>\n",
       "      <td>0</td>\n",
       "    </tr>\n",
       "    <tr>\n",
       "      <th>1</th>\n",
       "      <td>101</td>\n",
       "      <td>6881</td>\n",
       "      <td>1050</td>\n",
       "      <td>1005</td>\n",
       "      <td>1056</td>\n",
       "      <td>2131</td>\n",
       "      <td>5360</td>\n",
       "      <td>19394</td>\n",
       "      <td>2272</td>\n",
       "      <td>2619</td>\n",
       "      <td>...</td>\n",
       "      <td>0</td>\n",
       "      <td>0</td>\n",
       "      <td>0</td>\n",
       "      <td>0</td>\n",
       "      <td>0</td>\n",
       "      <td>0</td>\n",
       "      <td>0</td>\n",
       "      <td>0</td>\n",
       "      <td>0</td>\n",
       "      <td>0</td>\n",
       "    </tr>\n",
       "    <tr>\n",
       "      <th>2</th>\n",
       "      <td>101</td>\n",
       "      <td>2633</td>\n",
       "      <td>12609</td>\n",
       "      <td>2471</td>\n",
       "      <td>1012</td>\n",
       "      <td>1012</td>\n",
       "      <td>1012</td>\n",
       "      <td>2196</td>\n",
       "      <td>2963</td>\n",
       "      <td>12609</td>\n",
       "      <td>...</td>\n",
       "      <td>0</td>\n",
       "      <td>0</td>\n",
       "      <td>0</td>\n",
       "      <td>0</td>\n",
       "      <td>0</td>\n",
       "      <td>0</td>\n",
       "      <td>0</td>\n",
       "      <td>0</td>\n",
       "      <td>0</td>\n",
       "      <td>0</td>\n",
       "    </tr>\n",
       "    <tr>\n",
       "      <th>3</th>\n",
       "      <td>101</td>\n",
       "      <td>2342</td>\n",
       "      <td>2393</td>\n",
       "      <td>29427</td>\n",
       "      <td>2393</td>\n",
       "      <td>10047</td>\n",
       "      <td>5390</td>\n",
       "      <td>2524</td>\n",
       "      <td>102</td>\n",
       "      <td>0</td>\n",
       "      <td>...</td>\n",
       "      <td>0</td>\n",
       "      <td>0</td>\n",
       "      <td>0</td>\n",
       "      <td>0</td>\n",
       "      <td>0</td>\n",
       "      <td>0</td>\n",
       "      <td>0</td>\n",
       "      <td>0</td>\n",
       "      <td>0</td>\n",
       "      <td>0</td>\n",
       "    </tr>\n",
       "    <tr>\n",
       "      <th>4</th>\n",
       "      <td>101</td>\n",
       "      <td>1521</td>\n",
       "      <td>2439</td>\n",
       "      <td>18223</td>\n",
       "      <td>2080</td>\n",
       "      <td>2171</td>\n",
       "      <td>4205</td>\n",
       "      <td>2385</td>\n",
       "      <td>1521</td>\n",
       "      <td>5998</td>\n",
       "      <td>...</td>\n",
       "      <td>0</td>\n",
       "      <td>0</td>\n",
       "      <td>0</td>\n",
       "      <td>0</td>\n",
       "      <td>0</td>\n",
       "      <td>0</td>\n",
       "      <td>0</td>\n",
       "      <td>0</td>\n",
       "      <td>0</td>\n",
       "      <td>0</td>\n",
       "    </tr>\n",
       "  </tbody>\n",
       "</table>\n",
       "<p>5 rows × 512 columns</p>\n",
       "</div>"
      ],
      "text/plain": [
       "   0     1      2      3     4      5      6      7     8      9    ...  502  \\\n",
       "0  101  4654   2564  15686  5920   2890  13013   2135  2681   2564  ...    0   \n",
       "1  101  6881   1050   1005  1056   2131   5360  19394  2272   2619  ...    0   \n",
       "2  101  2633  12609   2471  1012   1012   1012   2196  2963  12609  ...    0   \n",
       "3  101  2342   2393  29427  2393  10047   5390   2524   102      0  ...    0   \n",
       "4  101  1521   2439  18223  2080   2171   4205   2385  1521   5998  ...    0   \n",
       "\n",
       "   503  504  505  506  507  508  509  510  511  \n",
       "0    0    0    0    0    0    0    0    0    0  \n",
       "1    0    0    0    0    0    0    0    0    0  \n",
       "2    0    0    0    0    0    0    0    0    0  \n",
       "3    0    0    0    0    0    0    0    0    0  \n",
       "4    0    0    0    0    0    0    0    0    0  \n",
       "\n",
       "[5 rows x 512 columns]"
      ]
     },
     "execution_count": 20,
     "metadata": {},
     "output_type": "execute_result"
    }
   ],
   "source": [
    "feature_data.head()"
   ]
  },
  {
   "cell_type": "code",
   "execution_count": 21,
   "id": "eaa5536c",
   "metadata": {
    "ExecuteTime": {
     "end_time": "2023-05-07T12:17:20.301746Z",
     "start_time": "2023-05-07T12:17:20.209215Z"
    }
   },
   "outputs": [],
   "source": [
    "scsc = sc.reset_index()"
   ]
  },
  {
   "cell_type": "code",
   "execution_count": 22,
   "id": "a0af5272",
   "metadata": {
    "ExecuteTime": {
     "end_time": "2023-05-07T12:17:22.996740Z",
     "start_time": "2023-05-07T12:17:22.111662Z"
    },
    "id": "A9WeBGS7K5-s"
   },
   "outputs": [],
   "source": [
    "model_data = feature_data.join(sc)\n",
    "model_data.drop([\n",
    "    'text_deemoji', 'text', 'class', 'Text', 'lemm_Text', 'new_Text'\n",
    "],\n",
    "                axis=1,\n",
    "                inplace=True)"
   ]
  },
  {
   "cell_type": "markdown",
   "id": "48583056",
   "metadata": {},
   "source": [
    "## Train/Test Sets Split"
   ]
  },
  {
   "cell_type": "code",
   "execution_count": 23,
   "id": "4e80972b",
   "metadata": {
    "ExecuteTime": {
     "end_time": "2023-05-07T12:17:24.978565Z",
     "start_time": "2023-05-07T12:17:24.870682Z"
    },
    "id": "6DpxJyXNK6S_"
   },
   "outputs": [],
   "source": [
    "X = pd.DataFrame(model_data.loc[:, [i for i in range(0, 512)]])\n",
    "Y = pd.DataFrame(sc.loc[:, 'label'].reset_index()['label'])"
   ]
  },
  {
   "cell_type": "code",
   "execution_count": 24,
   "id": "41cbdfbf",
   "metadata": {
    "ExecuteTime": {
     "end_time": "2023-05-07T12:17:27.736027Z",
     "start_time": "2023-05-07T12:17:27.084783Z"
    }
   },
   "outputs": [],
   "source": [
    "X_trn, X_tst, Y_trn, Y_tst = train_test_split(X, Y, test_size=.3)"
   ]
  },
  {
   "cell_type": "markdown",
   "id": "fc02c2de",
   "metadata": {},
   "source": [
    "## Logistic (Baseline) - Accuracy: 0.7174 (11.2s)"
   ]
  },
  {
   "cell_type": "code",
   "execution_count": 46,
   "id": "a7773bf6",
   "metadata": {
    "ExecuteTime": {
     "end_time": "2023-05-05T00:20:06.616147Z",
     "start_time": "2023-05-05T00:19:55.379256Z"
    },
    "scrolled": true
   },
   "outputs": [
    {
     "name": "stderr",
     "output_type": "stream",
     "text": [
      "C:\\Users\\Yiyang\\Anaconda3\\lib\\site-packages\\sklearn\\utils\\validation.py:993: DataConversionWarning: A column-vector y was passed when a 1d array was expected. Please change the shape of y to (n_samples, ), for example using ravel().\n",
      "  y = column_or_1d(y, warn=True)\n"
     ]
    },
    {
     "name": "stdout",
     "output_type": "stream",
     "text": [
      "[[27194  7531]\n",
      " [12145 22753]]\n",
      "0.7173922410697614\n",
      "CPU times: total: 9.81 s\n",
      "Wall time: 11.2 s\n"
     ]
    },
    {
     "name": "stderr",
     "output_type": "stream",
     "text": [
      "C:\\Users\\Yiyang\\Anaconda3\\lib\\site-packages\\sklearn\\linear_model\\_logistic.py:814: ConvergenceWarning: lbfgs failed to converge (status=1):\n",
      "STOP: TOTAL NO. of ITERATIONS REACHED LIMIT.\n",
      "\n",
      "Increase the number of iterations (max_iter) or scale the data as shown in:\n",
      "    https://scikit-learn.org/stable/modules/preprocessing.html\n",
      "Please also refer to the documentation for alternative solver options:\n",
      "    https://scikit-learn.org/stable/modules/linear_model.html#logistic-regression\n",
      "  n_iter_i = _check_optimize_result(\n"
     ]
    }
   ],
   "source": [
    "%%time\n",
    "X_trn, X_tst, Y_trn, Y_tst = train_test_split(X, Y, test_size=.3)\n",
    "\n",
    "model = LogisticRegression()\n",
    "model.fit(X_trn, Y_trn)\n",
    "y_pred = model.predict(X_tst)\n",
    "from sklearn.metrics import classification_report, confusion_matrix, accuracy_score\n",
    "\n",
    "print(confusion_matrix(Y_tst, y_pred))\n",
    "print(accuracy_score(Y_tst, y_pred))"
   ]
  },
  {
   "cell_type": "markdown",
   "id": "3e985b27",
   "metadata": {},
   "source": [
    "## XGBoost - Accuracy: 0.8545 (56.8s)"
   ]
  },
  {
   "cell_type": "code",
   "execution_count": 66,
   "id": "cbc2bf05",
   "metadata": {
    "ExecuteTime": {
     "end_time": "2023-05-08T08:17:09.278346Z",
     "start_time": "2023-05-08T08:16:12.466198Z"
    }
   },
   "outputs": [
    {
     "name": "stdout",
     "output_type": "stream",
     "text": [
      "[[30317  4514]\n",
      " [ 5617 29175]]\n",
      "0.8544877411200321\n",
      "CPU times: total: 7min 29s\n",
      "Wall time: 56.8 s\n"
     ]
    }
   ],
   "source": [
    "%%time\n",
    "#XGB\n",
    "\n",
    "X_trn, X_tst, Y_trn, Y_tst = train_test_split(X, Y, test_size=.3)\n",
    "\n",
    "model = xgb.XGBClassifier()\n",
    "model.fit(X_trn, Y_trn)\n",
    "y_pred = model.predict(X_tst)\n",
    "from sklearn.metrics import classification_report, confusion_matrix, accuracy_score\n",
    "\n",
    "print(confusion_matrix(Y_tst, y_pred))\n",
    "print(accuracy_score(Y_tst, y_pred))"
   ]
  },
  {
   "cell_type": "markdown",
   "id": "8a98013e",
   "metadata": {},
   "source": [
    "## RNN - Accuracy: 0.9493 (7min38s)"
   ]
  },
  {
   "cell_type": "code",
   "execution_count": 26,
   "id": "3ff07f30",
   "metadata": {
    "ExecuteTime": {
     "end_time": "2023-05-07T12:17:31.654812Z",
     "start_time": "2023-05-07T12:17:31.641174Z"
    }
   },
   "outputs": [
    {
     "name": "stdout",
     "output_type": "stream",
     "text": [
      "Vocabulary size: 30522\n"
     ]
    }
   ],
   "source": [
    "vocab_size = tokenizer.vocab_size\n",
    "\n",
    "print(\"Vocabulary size:\", vocab_size)"
   ]
  },
  {
   "cell_type": "code",
   "execution_count": 27,
   "id": "6cc68bb0",
   "metadata": {
    "ExecuteTime": {
     "end_time": "2023-05-07T12:17:33.647409Z",
     "start_time": "2023-05-07T12:17:33.446129Z"
    }
   },
   "outputs": [
    {
     "name": "stdout",
     "output_type": "stream",
     "text": [
      "Model: \"sequential\"\n",
      "_________________________________________________________________\n",
      " Layer (type)                Output Shape              Param #   \n",
      "=================================================================\n",
      " embedding (Embedding)       (None, 512, 128)          3906816   \n",
      "                                                                 \n",
      " flatten (Flatten)           (None, 65536)             0         \n",
      "                                                                 \n",
      " dropout (Dropout)           (None, 65536)             0         \n",
      "                                                                 \n",
      " dense (Dense)               (None, 50)                3276850   \n",
      "                                                                 \n",
      " dense_1 (Dense)             (None, 1)                 51        \n",
      "                                                                 \n",
      "=================================================================\n",
      "Total params: 7,183,717\n",
      "Trainable params: 7,183,717\n",
      "Non-trainable params: 0\n",
      "_________________________________________________________________\n"
     ]
    }
   ],
   "source": [
    "# simple sentiment analysis\n",
    "# first we need to pad the sequences so that they have the same length\n",
    "# get reproducible results\n",
    "from numpy.random import seed\n",
    "seed(0xdeadbeef)\n",
    "import tensorflow as tf\n",
    "tf.random.set_seed(0xdeadbeef)\n",
    "from tensorflow import keras\n",
    "import matplotlib.pyplot as plt\n",
    "from keras.models import Sequential\n",
    "from keras.layers import Embedding, Dense\n",
    "from keras.utils import pad_sequences\n",
    "from tensorflow.keras import layers\n",
    "\n",
    "# adding an embedding layer\n",
    "model = keras.Sequential()\n",
    "\n",
    "# the first layer is the embedding layer. \n",
    "# we indicate the number of possible words, the dimension of the embedding space, and the maximum size of the text. \n",
    "model.add(keras.layers.Embedding(vocab_size, 128, input_length=max_len))\n",
    "# the output of the embedding is multidimensional, with shape (256, 2)\n",
    "# for each word, we obtain two values, the x and y coordinates\n",
    "# we flatten this output to be able to use it in a dense layer\n",
    "model.add(keras.layers.Flatten())\n",
    "# dropout regularization\n",
    "model.add(keras.layers.Dropout(rate=0.5))\n",
    "# small dense layer. It's role is to analyze the distribution of points from embedding\n",
    "model.add(keras.layers.Dense(50))\n",
    "model.add(keras.layers.Dense(1, activation='sigmoid'))\n",
    "\n",
    "model.summary()"
   ]
  },
  {
   "cell_type": "code",
   "execution_count": 28,
   "id": "805a80d7",
   "metadata": {
    "ExecuteTime": {
     "end_time": "2023-05-07T12:25:13.497465Z",
     "start_time": "2023-05-07T12:17:35.608662Z"
    }
   },
   "outputs": [
    {
     "name": "stdout",
     "output_type": "stream",
     "text": [
      "Epoch 1/10\n",
      "1016/1016 [==============================] - 92s 90ms/step - loss: 0.2060 - accuracy: 0.9255 - val_loss: 0.1453 - val_accuracy: 0.9486\n",
      "Epoch 2/10\n",
      "1016/1016 [==============================] - 91s 90ms/step - loss: 0.1198 - accuracy: 0.9569 - val_loss: 0.1474 - val_accuracy: 0.9437\n",
      "Epoch 3/10\n",
      "1016/1016 [==============================] - 93s 91ms/step - loss: 0.0968 - accuracy: 0.9660 - val_loss: 0.1439 - val_accuracy: 0.9496\n",
      "Epoch 4/10\n",
      "1016/1016 [==============================] - 91s 90ms/step - loss: 0.0802 - accuracy: 0.9721 - val_loss: 0.1511 - val_accuracy: 0.9480\n",
      "Epoch 5/10\n",
      "1016/1016 [==============================] - 89s 88ms/step - loss: 0.0678 - accuracy: 0.9764 - val_loss: 0.1559 - val_accuracy: 0.9487\n"
     ]
    },
    {
     "data": {
      "image/png": "[encoded data removed]",
      "text/plain": [
       "<Figure size 432x288 with 1 Axes>"
      ]
     },
     "metadata": {
      "needs_background": "light"
     },
     "output_type": "display_data"
    },
    {
     "data": {
      "image/png": "[encoded data removed]",
      "text/plain": [
       "<Figure size 432x288 with 1 Axes>"
      ]
     },
     "metadata": {
      "needs_background": "light"
     },
     "output_type": "display_data"
    },
    {
     "name": "stdout",
     "output_type": "stream",
     "text": [
      "CPU times: total: 5min 17s\n",
      "Wall time: 7min 37s\n"
     ]
    }
   ],
   "source": [
    "%%time\n",
    "model.compile(optimizer='rmsprop',\n",
    "              loss='binary_crossentropy',\n",
    "              metrics=['accuracy'])\n",
    "\n",
    "callbacks_list = [\n",
    "    keras.callbacks.EarlyStopping(\n",
    "        monitor=\"val_accuracy\",\n",
    "        patience=2,\n",
    "    ),\n",
    "    keras.callbacks.ModelCheckpoint(\n",
    "        filepath=\"checkpoint_path.keras\",\n",
    "        monitor=\"val_loss\",\n",
    "        save_best_only=True,\n",
    "    )\n",
    "]\n",
    "\n",
    "history = model.fit(X_trn, Y_trn,\n",
    "                    epochs=10,\n",
    "                    batch_size=128,\n",
    "                    validation_split=0.2, callbacks=callbacks_list)\n",
    "\n",
    "history_dict = history.history\n",
    "loss_values = history_dict[\"loss\"]\n",
    "val_loss_values = history_dict[\"val_loss\"]\n",
    "epochs = range(1, len(loss_values) + 1)\n",
    "plt.plot(epochs, loss_values, \"bo\", label=\"Training loss\")\n",
    "plt.plot(epochs, val_loss_values, \"b\", label=\"Validation loss\")\n",
    "plt.title(\"Training and validation loss\")\n",
    "plt.xlabel(\"Epochs\")\n",
    "plt.ylabel(\"Loss\")\n",
    "plt.legend()\n",
    "plt.show()\n",
    "\n",
    "plt.clf()\n",
    "acc = history_dict[\"accuracy\"]\n",
    "val_acc = history_dict[\"val_accuracy\"]\n",
    "plt.plot(epochs, acc, \"bo\", label=\"Training acc\")\n",
    "plt.plot(epochs, val_acc, \"b\", label=\"Validation acc\")\n",
    "plt.title(\"Training and validation accuracy\")\n",
    "plt.xlabel(\"Epochs\")\n",
    "plt.ylabel(\"Accuracy\")\n",
    "plt.legend()\n",
    "plt.show()"
   ]
  },
  {
   "cell_type": "code",
   "execution_count": 29,
   "id": "34cad2e4",
   "metadata": {
    "ExecuteTime": {
     "end_time": "2023-05-07T12:25:26.330012Z",
     "start_time": "2023-05-07T12:25:15.481246Z"
    }
   },
   "outputs": [
    {
     "name": "stdout",
     "output_type": "stream",
     "text": [
      "2176/2176 [==============================] - 11s 5ms/step - loss: 0.1455 - accuracy: 0.9493\n"
     ]
    },
    {
     "data": {
      "text/plain": [
       "[0.14548911154270172, 0.9493127465248108]"
      ]
     },
     "execution_count": 29,
     "metadata": {},
     "output_type": "execute_result"
    }
   ],
   "source": [
    "model = keras.models.load_model(\"checkpoint_path.keras\")\n",
    "model.evaluate(X_tst, Y_tst)"
   ]
  },
  {
   "cell_type": "markdown",
   "id": "6fb17854",
   "metadata": {},
   "source": [
    "## Bidirectional GRU - Accuracy: 0.9649 (2h40min)"
   ]
  },
  {
   "cell_type": "code",
   "execution_count": 30,
   "id": "f8787183",
   "metadata": {
    "ExecuteTime": {
     "end_time": "2023-05-07T12:25:28.184059Z",
     "start_time": "2023-05-07T12:25:28.169358Z"
    }
   },
   "outputs": [],
   "source": [
    "inputs = tf.keras.Input(shape=(None,), dtype='int32')"
   ]
  },
  {
   "cell_type": "code",
   "execution_count": 31,
   "id": "2393c529",
   "metadata": {
    "ExecuteTime": {
     "end_time": "2023-05-07T15:05:37.720600Z",
     "start_time": "2023-05-07T12:25:30.100077Z"
    }
   },
   "outputs": [
    {
     "name": "stdout",
     "output_type": "stream",
     "text": [
      "Model: \"model\"\n",
      "_________________________________________________________________\n",
      " Layer (type)                Output Shape              Param #   \n",
      "=================================================================\n",
      " input_1 (InputLayer)        [(None, None)]            0         \n",
      "                                                                 \n",
      " embedding_1 (Embedding)     (None, None, 128)         3906816   \n",
      "                                                                 \n",
      " bidirectional (Bidirectiona  (None, 64)               31104     \n",
      " l)                                                              \n",
      "                                                                 \n",
      " dense_2 (Dense)             (None, 32)                2080      \n",
      "                                                                 \n",
      " dropout_1 (Dropout)         (None, 32)                0         \n",
      "                                                                 \n",
      " dense_3 (Dense)             (None, 1)                 33        \n",
      "                                                                 \n",
      "=================================================================\n",
      "Total params: 3,940,033\n",
      "Trainable params: 3,940,033\n",
      "Non-trainable params: 0\n",
      "_________________________________________________________________\n",
      "Epoch 1/10\n",
      "1016/1016 [==============================] - 1226s 1s/step - loss: 0.2326 - accuracy: 0.9066 - val_loss: 0.1567 - val_accuracy: 0.9440\n",
      "Epoch 2/10\n",
      "1016/1016 [==============================] - 1194s 1s/step - loss: 0.1522 - accuracy: 0.9471 - val_loss: 0.1411 - val_accuracy: 0.9467\n",
      "Epoch 3/10\n",
      "1016/1016 [==============================] - 1195s 1s/step - loss: 0.1288 - accuracy: 0.9553 - val_loss: 0.1233 - val_accuracy: 0.9554\n",
      "Epoch 4/10\n",
      "1016/1016 [==============================] - 1197s 1s/step - loss: 0.1125 - accuracy: 0.9615 - val_loss: 0.1132 - val_accuracy: 0.9607\n",
      "Epoch 5/10\n",
      "1016/1016 [==============================] - 1186s 1s/step - loss: 0.1000 - accuracy: 0.9657 - val_loss: 0.1027 - val_accuracy: 0.9622\n",
      "Epoch 6/10\n",
      "1016/1016 [==============================] - 1202s 1s/step - loss: 0.0916 - accuracy: 0.9689 - val_loss: 0.0972 - val_accuracy: 0.9645\n",
      "Epoch 7/10\n",
      "1016/1016 [==============================] - 1217s 1s/step - loss: 0.0837 - accuracy: 0.9715 - val_loss: 0.0994 - val_accuracy: 0.9643\n",
      "Epoch 8/10\n",
      "1016/1016 [==============================] - 1189s 1s/step - loss: 0.0780 - accuracy: 0.9739 - val_loss: 0.1031 - val_accuracy: 0.9633\n"
     ]
    },
    {
     "data": {
      "image/png": "[encoded data removed]",
      "text/plain": [
       "<Figure size 432x288 with 1 Axes>"
      ]
     },
     "metadata": {
      "needs_background": "light"
     },
     "output_type": "display_data"
    },
    {
     "data": {
      "image/png": "[encoded data removed]",
      "text/plain": [
       "<Figure size 432x288 with 1 Axes>"
      ]
     },
     "metadata": {
      "needs_background": "light"
     },
     "output_type": "display_data"
    }
   ],
   "source": [
    "\n",
    "x = tf.keras.layers.Embedding(vocab_size, 128)(inputs)\n",
    "x = layers.Bidirectional(layers.GRU(32,recurrent_dropout=0.5, dropout=0.4))(x)\n",
    "x = layers.Dense(32, activation='relu')(x)\n",
    "x = layers.Dropout(0.4)(x)\n",
    "outputs = layers.Dense(1, activation=\"sigmoid\")(x)\n",
    "model = tf.keras.Model(inputs, outputs)\n",
    "\n",
    "model.compile(optimizer=\"rmsprop\",\n",
    "              loss=\"binary_crossentropy\",\n",
    "              metrics=[\"accuracy\"])\n",
    "model.summary()\n",
    "\n",
    "\n",
    "callbacks_list = [\n",
    "    keras.callbacks.EarlyStopping(\n",
    "        monitor=\"val_accuracy\",\n",
    "        patience=2,\n",
    "    ),\n",
    "    keras.callbacks.ModelCheckpoint(\n",
    "        filepath=\"checkpoint_path.keras\",\n",
    "        monitor=\"val_loss\",\n",
    "        save_best_only=True,\n",
    "    )\n",
    "]\n",
    "\n",
    "\n",
    "\n",
    "history = model.fit(X_trn, Y_trn,\n",
    "                    epochs=10,\n",
    "                    batch_size=128,\n",
    "                    validation_split=0.2, callbacks=callbacks_list)\n",
    "\n",
    "history_dict = history.history\n",
    "loss_values = history_dict[\"loss\"]\n",
    "val_loss_values = history_dict[\"val_loss\"]\n",
    "epochs = range(1, len(loss_values) + 1)\n",
    "plt.plot(epochs, loss_values, \"bo\", label=\"Training loss\")\n",
    "plt.plot(epochs, val_loss_values, \"b\", label=\"Validation loss\")\n",
    "plt.title(\"Training and validation loss\")\n",
    "plt.xlabel(\"Epochs\")\n",
    "plt.ylabel(\"Loss\")\n",
    "plt.legend()\n",
    "plt.show()\n",
    "\n",
    "plt.clf()\n",
    "acc = history_dict[\"accuracy\"]\n",
    "val_acc = history_dict[\"val_accuracy\"]\n",
    "plt.plot(epochs, acc, \"bo\", label=\"Training acc\")\n",
    "plt.plot(epochs, val_acc, \"b\", label=\"Validation acc\")\n",
    "plt.title(\"Training and validation accuracy\")\n",
    "plt.xlabel(\"Epochs\")\n",
    "plt.ylabel(\"Accuracy\")\n",
    "plt.legend()\n",
    "plt.show()"
   ]
  },
  {
   "cell_type": "code",
   "execution_count": 32,
   "id": "810e5ed4",
   "metadata": {
    "ExecuteTime": {
     "end_time": "2023-05-07T19:34:44.690192Z",
     "start_time": "2023-05-07T19:33:02.996903Z"
    }
   },
   "outputs": [
    {
     "name": "stdout",
     "output_type": "stream",
     "text": [
      "2176/2176 [==============================] - 101s 46ms/step - loss: 0.0983 - accuracy: 0.9649\n"
     ]
    },
    {
     "data": {
      "text/plain": [
       "[0.09829404205083847, 0.9649110436439514]"
      ]
     },
     "execution_count": 32,
     "metadata": {},
     "output_type": "execute_result"
    }
   ],
   "source": [
    "model = keras.models.load_model(\"checkpoint_path.keras\")\n",
    "model.evaluate(X_tst, Y_tst)"
   ]
  },
  {
   "cell_type": "markdown",
   "id": "2790b93d",
   "metadata": {
    "id": "JQ4M8Znd4_ep"
   },
   "source": [
    "# Model Exploration - Bert"
   ]
  },
  {
   "cell_type": "markdown",
   "id": "121b543d",
   "metadata": {},
   "source": [
    "## Check GPU"
   ]
  },
  {
   "cell_type": "code",
   "execution_count": 33,
   "id": "91699e6d",
   "metadata": {
    "ExecuteTime": {
     "end_time": "2023-05-07T19:35:36.566768Z",
     "start_time": "2023-05-07T19:35:36.500939Z"
    },
    "colab": {
     "base_uri": "https://localhost:8080/"
    },
    "id": "f5SphZ3ZMCrS",
    "outputId": "7ec80ce6-b978-42a2-d12f-ac2f0f8db335"
   },
   "outputs": [
    {
     "name": "stdout",
     "output_type": "stream",
     "text": [
      "cuda:0\n"
     ]
    }
   ],
   "source": [
    "device = torch.device(\"cuda:0\" if torch.cuda.is_available() else \"cpu\")\n",
    "print(device)"
   ]
  },
  {
   "cell_type": "markdown",
   "id": "ac2fa7d3",
   "metadata": {},
   "source": [
    "## Train/Validation Sets Split"
   ]
  },
  {
   "cell_type": "code",
   "execution_count": 34,
   "id": "3a760b4a",
   "metadata": {
    "ExecuteTime": {
     "end_time": "2023-05-07T19:35:38.607337Z",
     "start_time": "2023-05-07T19:35:38.467521Z"
    },
    "id": "XiXAUWIwpO3I",
    "run_control": {
     "marked": false
    }
   },
   "outputs": [],
   "source": [
    "df = sc\n",
    "train_df, val_df = train_test_split(df,\n",
    "                                    test_size=0.3,\n",
    "                                    stratify=df.label,\n",
    "                                    random_state=42)"
   ]
  },
  {
   "cell_type": "code",
   "execution_count": 35,
   "id": "031d043c",
   "metadata": {
    "ExecuteTime": {
     "end_time": "2023-05-07T19:35:41.807849Z",
     "start_time": "2023-05-07T19:35:41.758521Z"
    }
   },
   "outputs": [],
   "source": [
    "train_df=  train_df.loc[:, ['label', 'lemm_Text']]\n",
    "val_df=  val_df.loc[:, ['label', 'lemm_Text']]"
   ]
  },
  {
   "cell_type": "markdown",
   "id": "beb7e6a9",
   "metadata": {},
   "source": [
    "## Define BertTokenizer and Data loader (Set truncation for long text)"
   ]
  },
  {
   "cell_type": "code",
   "execution_count": 57,
   "id": "f834b063",
   "metadata": {
    "ExecuteTime": {
     "end_time": "2023-05-08T07:44:46.469035Z",
     "start_time": "2023-05-08T07:44:46.345671Z"
    },
    "id": "svAGWMoyr-rF"
   },
   "outputs": [],
   "source": [
    "class MNLIDataBert(Dataset):\n",
    "    def __init__(self, train_df, val_df):\n",
    "        self.label_dict = {0: 0, 1: 1}\n",
    "\n",
    "        self.train_df = train_df\n",
    "        self.val_df = val_df\n",
    "\n",
    "        self.base_path = '/content/'\n",
    "        self.tokenizer = BertTokenizer.from_pretrained('bert-base-uncased',\n",
    "                                                       do_lower_case=True,\n",
    "                                                       truncation=True)\n",
    "        self.train_data = None\n",
    "        self.val_data = None\n",
    "        self.init_data()\n",
    "\n",
    "    def init_data(self):\n",
    "        # Saving takes too much RAM\n",
    "        #\n",
    "        # if os.path.exists(os.path.join(self.base_path, 'train_data.pkl')):\n",
    "        #   print(\"Found training data\")\n",
    "        #   with open(os.path.join(self.base_path, 'train_data.pkl'), 'rb') as f:\n",
    "        #     self.train_data = pickle.load(f)\n",
    "        # else:\n",
    "        #   self.train_data = self.load_data(self.train_df)\n",
    "        #   with open(os.path.join(self.base_path, 'train_data.pkl'), 'wb') as f:\n",
    "        #     pickle.dump(self.train_data, f)\n",
    "        # if os.path.exists(os.path.join(self.base_path, 'val_data.pkl')):\n",
    "        #   print(\"Found val data\")\n",
    "        #   with open(os.path.join(self.base_path, 'val_data.pkl'), 'rb') as f:\n",
    "        #     self.val_data = pickle.load(f)\n",
    "        # else:\n",
    "        #   self.val_data = self.load_data(self.val_df)\n",
    "        #   with open(os.path.join(self.base_path, 'val_data.pkl'), 'wb') as f:\n",
    "        #     pickle.dump(self.val_data, f)\n",
    "        self.train_data = self.load_data(self.train_df)\n",
    "        self.val_data = self.load_data(self.val_df)\n",
    "\n",
    "    def load_data(self, df):\n",
    "        MAX_LEN = 50\n",
    "        token_ids = []\n",
    "        mask_ids = []\n",
    "        seg_ids = []\n",
    "        y = []\n",
    "\n",
    "        premise_list = df['lemm_Text'].to_list()\n",
    "        label_list = df['label'].to_list()\n",
    "\n",
    "        for (premise, label) in zip(premise_list, label_list):\n",
    "            premise_id = self.tokenizer.encode(premise,\n",
    "                                               add_special_tokens=True,\n",
    "                                               truncation=True,\n",
    "                                               max_length=50)\n",
    "            pair_token_ids = [self.tokenizer.cls_token_id\n",
    "                              ] + premise_id + [self.tokenizer.sep_token_id]\n",
    "            premise_len = len(premise_id)\n",
    "\n",
    "            segment_ids = torch.tensor(\n",
    "                [0] * (premise_len + 2))  # sentence 0 and sentence 1\n",
    "            attention_mask_ids = torch.tensor(\n",
    "                [1] * (premise_len + 2))  # mask padded values\n",
    "\n",
    "            token_ids.append(torch.tensor(pair_token_ids))\n",
    "            seg_ids.append(segment_ids)\n",
    "            mask_ids.append(attention_mask_ids)\n",
    "            y.append(self.label_dict[label])\n",
    "\n",
    "        token_ids = pad_sequence(token_ids, batch_first=True)\n",
    "        mask_ids = pad_sequence(mask_ids, batch_first=True)\n",
    "        seg_ids = pad_sequence(seg_ids, batch_first=True)\n",
    "        y = torch.tensor(y)\n",
    "        dataset = TensorDataset(token_ids, mask_ids, seg_ids, y)\n",
    "        print((len(dataset)))\n",
    "        return dataset\n",
    "\n",
    "    def get_data_loaders(self, batch_size=8, shuffle=True):\n",
    "        train_loader = DataLoader(self.train_data,\n",
    "                                  shuffle=shuffle,\n",
    "                                  batch_size=batch_size)\n",
    "\n",
    "        val_loader = DataLoader(self.val_data,\n",
    "                                shuffle=shuffle,\n",
    "                                batch_size=batch_size)\n",
    "\n",
    "        return train_loader, val_loader"
   ]
  },
  {
   "cell_type": "code",
   "execution_count": 58,
   "id": "8ea3863b",
   "metadata": {
    "ExecuteTime": {
     "end_time": "2023-05-08T07:52:47.189637Z",
     "start_time": "2023-05-08T07:44:57.445362Z"
    },
    "colab": {
     "base_uri": "https://localhost:8080/"
    },
    "id": "md52P1z14_e_",
    "outputId": "5af2c92c-a0c0-4264-f39b-4718d55ba4a4"
   },
   "outputs": [
    {
     "name": "stdout",
     "output_type": "stream",
     "text": [
      "162451\n",
      "69623\n"
     ]
    }
   ],
   "source": [
    "mnli_dataset = MNLIDataBert(train_df, val_df)"
   ]
  },
  {
   "cell_type": "code",
   "execution_count": 59,
   "id": "df7bb644",
   "metadata": {
    "ExecuteTime": {
     "end_time": "2023-05-08T07:52:49.928321Z",
     "start_time": "2023-05-08T07:52:49.918707Z"
    },
    "id": "-LSyABLG4_fA"
   },
   "outputs": [],
   "source": [
    "train_loader, val_loader = mnli_dataset.get_data_loaders(batch_size=32)"
   ]
  },
  {
   "cell_type": "markdown",
   "id": "8a205c60",
   "metadata": {},
   "source": [
    "## Load Bert from pretrained"
   ]
  },
  {
   "cell_type": "code",
   "execution_count": 60,
   "id": "c595b84d",
   "metadata": {
    "ExecuteTime": {
     "end_time": "2023-05-08T08:13:42.634354Z",
     "start_time": "2023-05-08T08:13:40.899170Z"
    },
    "colab": {
     "base_uri": "https://localhost:8080/"
    },
    "id": "qOdc4Cs2DEjt",
    "outputId": "4e4e2f6c-e934-470d-f280-f4d60dd3ea00"
   },
   "outputs": [
    {
     "name": "stderr",
     "output_type": "stream",
     "text": [
      "Some weights of the model checkpoint at bert-base-uncased were not used when initializing BertForSequenceClassification: ['cls.predictions.transform.LayerNorm.weight', 'cls.predictions.transform.dense.bias', 'cls.seq_relationship.bias', 'cls.predictions.decoder.weight', 'cls.predictions.bias', 'cls.seq_relationship.weight', 'cls.predictions.transform.dense.weight', 'cls.predictions.transform.LayerNorm.bias']\n",
      "- This IS expected if you are initializing BertForSequenceClassification from the checkpoint of a model trained on another task or with another architecture (e.g. initializing a BertForSequenceClassification model from a BertForPreTraining model).\n",
      "- This IS NOT expected if you are initializing BertForSequenceClassification from the checkpoint of a model that you expect to be exactly identical (initializing a BertForSequenceClassification model from a BertForSequenceClassification model).\n",
      "Some weights of BertForSequenceClassification were not initialized from the model checkpoint at bert-base-uncased and are newly initialized: ['classifier.weight', 'classifier.bias']\n",
      "You should probably TRAIN this model on a down-stream task to be able to use it for predictions and inference.\n"
     ]
    },
    {
     "data": {
      "text/plain": [
       "BertForSequenceClassification(\n",
       "  (bert): BertModel(\n",
       "    (embeddings): BertEmbeddings(\n",
       "      (word_embeddings): Embedding(30522, 768, padding_idx=0)\n",
       "      (position_embeddings): Embedding(512, 768)\n",
       "      (token_type_embeddings): Embedding(2, 768)\n",
       "      (LayerNorm): LayerNorm((768,), eps=1e-12, elementwise_affine=True)\n",
       "      (dropout): Dropout(p=0.1, inplace=False)\n",
       "    )\n",
       "    (encoder): BertEncoder(\n",
       "      (layer): ModuleList(\n",
       "        (0-11): 12 x BertLayer(\n",
       "          (attention): BertAttention(\n",
       "            (self): BertSelfAttention(\n",
       "              (query): Linear(in_features=768, out_features=768, bias=True)\n",
       "              (key): Linear(in_features=768, out_features=768, bias=True)\n",
       "              (value): Linear(in_features=768, out_features=768, bias=True)\n",
       "              (dropout): Dropout(p=0.1, inplace=False)\n",
       "            )\n",
       "            (output): BertSelfOutput(\n",
       "              (dense): Linear(in_features=768, out_features=768, bias=True)\n",
       "              (LayerNorm): LayerNorm((768,), eps=1e-12, elementwise_affine=True)\n",
       "              (dropout): Dropout(p=0.1, inplace=False)\n",
       "            )\n",
       "          )\n",
       "          (intermediate): BertIntermediate(\n",
       "            (dense): Linear(in_features=768, out_features=3072, bias=True)\n",
       "            (intermediate_act_fn): GELUActivation()\n",
       "          )\n",
       "          (output): BertOutput(\n",
       "            (dense): Linear(in_features=3072, out_features=768, bias=True)\n",
       "            (LayerNorm): LayerNorm((768,), eps=1e-12, elementwise_affine=True)\n",
       "            (dropout): Dropout(p=0.1, inplace=False)\n",
       "          )\n",
       "        )\n",
       "      )\n",
       "    )\n",
       "    (pooler): BertPooler(\n",
       "      (dense): Linear(in_features=768, out_features=768, bias=True)\n",
       "      (activation): Tanh()\n",
       "    )\n",
       "  )\n",
       "  (dropout): Dropout(p=0.1, inplace=False)\n",
       "  (classifier): Linear(in_features=768, out_features=2, bias=True)\n",
       ")"
      ]
     },
     "execution_count": 60,
     "metadata": {},
     "output_type": "execute_result"
    }
   ],
   "source": [
    "model = BertForSequenceClassification.from_pretrained(\"bert-base-uncased\",\n",
    "                                                      num_labels=2)\n",
    "model.to(device)"
   ]
  },
  {
   "cell_type": "markdown",
   "id": "62511969",
   "metadata": {},
   "source": [
    "## Parameters"
   ]
  },
  {
   "cell_type": "code",
   "execution_count": 61,
   "id": "640f3a2f",
   "metadata": {
    "ExecuteTime": {
     "end_time": "2023-05-08T08:13:44.981619Z",
     "start_time": "2023-05-08T08:13:44.952059Z"
    },
    "id": "jxzpENXlEh-u"
   },
   "outputs": [],
   "source": [
    "param_optimizer = list(model.named_parameters())\n",
    "no_decay = ['bias', 'gamma', 'beta']\n",
    "optimizer_grouped_parameters = [{\n",
    "    'params':\n",
    "    [p for n, p in param_optimizer if not any(nd in n for nd in no_decay)],\n",
    "    'weight_decay_rate':\n",
    "    0.01\n",
    "}, {\n",
    "    'params':\n",
    "    [p for n, p in param_optimizer if any(nd in n for nd in no_decay)],\n",
    "    'weight_decay_rate':\n",
    "    0.0\n",
    "}]"
   ]
  },
  {
   "cell_type": "markdown",
   "id": "d9646790",
   "metadata": {},
   "source": [
    "## Optimizer - AdamW"
   ]
  },
  {
   "cell_type": "code",
   "execution_count": 62,
   "id": "d52bce89",
   "metadata": {
    "ExecuteTime": {
     "end_time": "2023-05-08T08:14:03.613106Z",
     "start_time": "2023-05-08T08:14:03.569947Z"
    },
    "colab": {
     "base_uri": "https://localhost:8080/"
    },
    "id": "is1TqwTREid9",
    "outputId": "4988813d-e5bf-43e0-dacc-f18038238106"
   },
   "outputs": [
    {
     "name": "stderr",
     "output_type": "stream",
     "text": [
      "C:\\Users\\Yiyang\\Anaconda3\\lib\\site-packages\\transformers\\optimization.py:391: FutureWarning: This implementation of AdamW is deprecated and will be removed in a future version. Use the PyTorch implementation torch.optim.AdamW instead, or set `no_deprecation_warning=True` to disable this warning\n",
      "  warnings.warn(\n"
     ]
    }
   ],
   "source": [
    "# This variable contains all of the hyperparemeter information our training loop needs\n",
    "optimizer = AdamW(optimizer_grouped_parameters, lr=2e-5, correct_bias=False)"
   ]
  },
  {
   "cell_type": "markdown",
   "id": "79137d47",
   "metadata": {},
   "source": [
    "## Number of Trainable Parameters - 109,483,778"
   ]
  },
  {
   "cell_type": "code",
   "execution_count": 63,
   "id": "3f7fa131",
   "metadata": {
    "ExecuteTime": {
     "end_time": "2023-05-08T08:14:19.367954Z",
     "start_time": "2023-05-08T08:14:19.355191Z"
    },
    "colab": {
     "base_uri": "https://localhost:8080/"
    },
    "id": "79aI1dun4_fB",
    "outputId": "fd248f6f-1e2c-4fff-97ea-03468c5ec71f"
   },
   "outputs": [
    {
     "name": "stdout",
     "output_type": "stream",
     "text": [
      "The model has 109,483,778 trainable parameters\n"
     ]
    }
   ],
   "source": [
    "def count_parameters(model):\n",
    "    return sum(p.numel() for p in model.parameters() if p.requires_grad)\n",
    "\n",
    "\n",
    "print(f'The model has {count_parameters(model):,} trainable parameters')"
   ]
  },
  {
   "cell_type": "markdown",
   "id": "93878ff7",
   "metadata": {},
   "source": [
    "## Define train and evaluation functions"
   ]
  },
  {
   "cell_type": "code",
   "execution_count": 64,
   "id": "7f31d5d9",
   "metadata": {
    "ExecuteTime": {
     "end_time": "2023-05-08T08:14:34.588115Z",
     "start_time": "2023-05-08T08:14:34.557673Z"
    },
    "id": "qhU855Cw4_fB"
   },
   "outputs": [],
   "source": [
    "def multi_acc(y_pred, y_test):\n",
    "    acc = (torch.log_softmax(y_pred, dim=1).argmax(dim=1)\n",
    "           == y_test).sum().float() / float(y_test.size(0))\n",
    "    return acc"
   ]
  },
  {
   "cell_type": "code",
   "execution_count": 68,
   "id": "14a593e8",
   "metadata": {
    "ExecuteTime": {
     "end_time": "2023-05-08T08:19:51.368932Z",
     "start_time": "2023-05-08T08:19:51.354596Z"
    },
    "id": "OfhYO7Db4_fB"
   },
   "outputs": [],
   "source": [
    "# criterion = nn.CrossEntropyLoss().to(device)\n",
    "EPOCHS = 3\n",
    "\n",
    "\n",
    "def train(model, train_loader, val_loader, optimizer):\n",
    "    total_step = len(train_loader)\n",
    "\n",
    "    for epoch in range(EPOCHS):\n",
    "        start = time.time()\n",
    "        model.train()\n",
    "        total_train_loss = 0\n",
    "        total_train_acc = 0\n",
    "        for batch_idx, (pair_token_ids, mask_ids, seg_ids,\n",
    "                        y) in enumerate(train_loader):\n",
    "            optimizer.zero_grad()\n",
    "            pair_token_ids = pair_token_ids.to(device)\n",
    "            mask_ids = mask_ids.to(device)\n",
    "            seg_ids = seg_ids.to(device)\n",
    "            labels = y.to(device)\n",
    "            # prediction = model(pair_token_ids, mask_ids, seg_ids)\n",
    "            loss, prediction = list(\n",
    "                model(pair_token_ids,\n",
    "                      token_type_ids=seg_ids,\n",
    "                      attention_mask=mask_ids,\n",
    "                      labels=labels).values())\n",
    "\n",
    "            # loss = criterion(prediction, labels.view(-1, 1))\n",
    "            acc = multi_acc(prediction, labels)\n",
    "\n",
    "            loss.backward()\n",
    "            optimizer.step()\n",
    "\n",
    "            total_train_loss += loss.item()\n",
    "            total_train_acc += acc.item()\n",
    "\n",
    "        train_acc = total_train_acc / len(train_loader)\n",
    "        train_loss = total_train_loss / len(train_loader)\n",
    "        model.eval()\n",
    "        total_val_acc = 0\n",
    "        total_val_loss = 0\n",
    "        with torch.no_grad():\n",
    "            for batch_idx, (pair_token_ids, mask_ids, seg_ids,\n",
    "                            y) in enumerate(val_loader):\n",
    "                optimizer.zero_grad()\n",
    "                pair_token_ids = pair_token_ids.to(device)\n",
    "                mask_ids = mask_ids.to(device)\n",
    "                seg_ids = seg_ids.to(device)\n",
    "                labels = y.to(device)\n",
    "\n",
    "                # prediction = model(pair_token_ids, mask_ids, seg_ids)\n",
    "                loss, prediction = list(\n",
    "                    model(pair_token_ids,\n",
    "                          token_type_ids=seg_ids,\n",
    "                          attention_mask=mask_ids,\n",
    "                          labels=labels).values())\n",
    "\n",
    "                # loss = criterion(prediction, labels.view(-1, 1))\n",
    "                acc = multi_acc(prediction, labels)\n",
    "\n",
    "                total_val_loss += loss.item()\n",
    "                total_val_acc += acc.item()\n",
    "\n",
    "        val_acc = total_val_acc / len(val_loader)\n",
    "        val_loss = total_val_loss / len(val_loader)\n",
    "        end = time.time()\n",
    "        hours, rem = divmod(end - start, 3600)\n",
    "        minutes, seconds = divmod(rem, 60)\n",
    "\n",
    "        print(\n",
    "            f'Epoch {epoch+1}: train_loss: {train_loss:.4f} train_acc: {train_acc:.4f} | val_loss: {val_loss:.4f} val_acc: {val_acc:.4f}'\n",
    "        )\n",
    "        print((\"{:0>2}:{:0>2}:{:05.2f}\".format(int(hours), int(minutes),\n",
    "                                               seconds)))"
   ]
  },
  {
   "cell_type": "markdown",
   "id": "8152ead9",
   "metadata": {},
   "source": [
    "## Result - Accuracy 97.4% (28 min 23 s)"
   ]
  },
  {
   "cell_type": "code",
   "execution_count": null,
   "id": "76a49ea1",
   "metadata": {
    "colab": {
     "base_uri": "https://localhost:8080/"
    },
    "id": "76a49ea1",
    "outputId": "687cda29-04a4-499a-e357-0c3bc01261f0",
    "scrolled": false
   },
   "outputs": [
    {
     "name": "stdout",
     "output_type": "stream",
     "text": [
      "Epoch 1: train_loss: 0.1015 train_acc: 0.9620 | val_loss: 0.0754 val_acc: 0.9740\n",
      "00:28:23.19\n",
      "Epoch 2: train_loss: 0.0511 train_acc: 0.9817 | val_loss: 0.0768 val_acc: 0.9724\n",
      "00:28:22.07\n",
      "Epoch 3: train_loss: 0.0274 train_acc: 0.9906 | val_loss: 0.0907 val_acc: 0.9713\n",
      "00:28:22.96\n"
     ]
    }
   ],
   "source": [
    "train(model, train_loader, val_loader, optimizer)"
   ]
  },
  {
   "cell_type": "markdown",
   "id": "ab0f0f67",
   "metadata": {},
   "source": [
    "**BERT code reference**: https://github.com/dh1105/Sentence-Entailment/blob/main/Sentence_Entailment_BERT.ipynb"
   ]
  }
 ],
 "metadata": {
  "kernelspec": {
   "display_name": "Python 3 (ipykernel)",
   "language": "python",
   "name": "python3"
  },
  "language_info": {
   "codemirror_mode": {
    "name": "ipython",
    "version": 3
   },
   "file_extension": ".py",
   "mimetype": "text/x-python",
   "name": "python",
   "nbconvert_exporter": "python",
   "pygments_lexer": "ipython3",
   "version": "3.8.13"
  },
  "latex_envs": {
   "LaTeX_envs_menu_present": true,
   "autoclose": false,
   "autocomplete": true,
   "bibliofile": "biblio.bib",
   "cite_by": "apalike",
   "current_citInitial": 1,
   "eqLabelWithNumbers": true,
   "eqNumInitial": 1,
   "hotkeys": {
    "equation": "Ctrl-E",
    "itemize": "Ctrl-I"
   },
   "labels_anchors": false,
   "latex_user_defs": false,
   "report_style_numbering": false,
   "user_envs_cfg": false
  },
  "toc": {
   "base_numbering": 1,
   "nav_menu": {},
   "number_sections": true,
   "sideBar": true,
   "skip_h1_title": false,
   "title_cell": "Table of Contents",
   "title_sidebar": "Contents",
   "toc_cell": false,
   "toc_position": {},
   "toc_section_display": true,
   "toc_window_display": true
  },
  "varInspector": {
   "cols": {
    "lenName": 16,
    "lenType": 16,
    "lenVar": 40
   },
   "kernels_config": {
    "python": {
     "delete_cmd_postfix": "",
     "delete_cmd_prefix": "del ",
     "library": "var_list.py",
     "varRefreshCmd": "print(var_dic_list())"
    },
    "r": {
     "delete_cmd_postfix": ") ",
     "delete_cmd_prefix": "rm(",
     "library": "var_list.r",
     "varRefreshCmd": "cat(var_dic_list()) "
    }
   },
   "types_to_exclude": [
    "module",
    "function",
    "builtin_function_or_method",
    "instance",
    "_Feature"
   ],
   "window_display": false
  }
 },
 "nbformat": 4,
 "nbformat_minor": 5
}
